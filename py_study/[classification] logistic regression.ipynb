{
 "cells": [
  {
   "cell_type": "markdown",
   "metadata": {},
   "source": [
    "## [대출자들의 채무 상환]\n",
    "상환 여부를 예측하기 위한 로지스틱 회귀분석을 실시하고 결과를 해석하시오.\n",
    "\n",
    "#### step 01. 패키지 불러오기"
   ]
  },
  {
   "cell_type": "code",
   "execution_count": 2,
   "metadata": {},
   "outputs": [],
   "source": [
    "import pandas as pd\n",
    "import numpy as np\n",
    "\n",
    "import matplotlib.pyplot as plt\n",
    "import matplotlib\n",
    "\n",
    "from sklearn.preprocessing import StandardScaler\n",
    "from sklearn.model_selection import train_test_split\n",
    "\n",
    "from statsmodels.api import Logit\n",
    "from sklearn.metrics import accuracy_score\n",
    "from sklearn.metrics import confusion_matrix"
   ]
  },
  {
   "cell_type": "code",
   "execution_count": 4,
   "metadata": {},
   "outputs": [],
   "source": [
    "import matplotlib as mpl\n",
    "import matplotlib.font_manager as fm\n",
    "font_location = '/usr/share/fonts/truetype/nanum/NanumGothic.ttf'\n",
    "font_name = fm.FontProperties(fname = font_location).get_name()\n",
    "mpl.rc('font',family= 'Malgun Gothic')\n",
    "import warnings\n",
    "warnings.filterwarnings('ignore')"
   ]
  },
  {
   "cell_type": "markdown",
   "metadata": {},
   "source": [
    "#### step 02. 데이터 구성하기"
   ]
  },
  {
   "cell_type": "code",
   "execution_count": 6,
   "metadata": {},
   "outputs": [
    {
     "data": {
      "text/html": [
       "<div>\n",
       "<style scoped>\n",
       "    .dataframe tbody tr th:only-of-type {\n",
       "        vertical-align: middle;\n",
       "    }\n",
       "\n",
       "    .dataframe tbody tr th {\n",
       "        vertical-align: top;\n",
       "    }\n",
       "\n",
       "    .dataframe thead th {\n",
       "        text-align: right;\n",
       "    }\n",
       "</style>\n",
       "<table border=\"1\" class=\"dataframe\">\n",
       "  <thead>\n",
       "    <tr style=\"text-align: right;\">\n",
       "      <th></th>\n",
       "      <th>BAD</th>\n",
       "      <th>LOAN</th>\n",
       "      <th>MORTDUE</th>\n",
       "      <th>VALUE</th>\n",
       "      <th>REASON</th>\n",
       "      <th>JOB</th>\n",
       "      <th>YOJ</th>\n",
       "      <th>DEROG</th>\n",
       "      <th>DELINQ</th>\n",
       "      <th>CLAGE</th>\n",
       "      <th>NINQ</th>\n",
       "      <th>CLNO</th>\n",
       "      <th>DEBTINC</th>\n",
       "    </tr>\n",
       "  </thead>\n",
       "  <tbody>\n",
       "    <tr>\n",
       "      <th>0</th>\n",
       "      <td>1</td>\n",
       "      <td>1700</td>\n",
       "      <td>30548</td>\n",
       "      <td>40320.0</td>\n",
       "      <td>HomeImp</td>\n",
       "      <td>Other</td>\n",
       "      <td>9.0</td>\n",
       "      <td>0</td>\n",
       "      <td>0.0</td>\n",
       "      <td>101.466002</td>\n",
       "      <td>1.0</td>\n",
       "      <td>8</td>\n",
       "      <td>37.113614</td>\n",
       "    </tr>\n",
       "    <tr>\n",
       "      <th>1</th>\n",
       "      <td>1</td>\n",
       "      <td>1800</td>\n",
       "      <td>28502</td>\n",
       "      <td>43034.0</td>\n",
       "      <td>HomeImp</td>\n",
       "      <td>Other</td>\n",
       "      <td>11.0</td>\n",
       "      <td>0</td>\n",
       "      <td>0.0</td>\n",
       "      <td>88.766030</td>\n",
       "      <td>0.0</td>\n",
       "      <td>8</td>\n",
       "      <td>36.884894</td>\n",
       "    </tr>\n",
       "    <tr>\n",
       "      <th>2</th>\n",
       "      <td>0</td>\n",
       "      <td>2300</td>\n",
       "      <td>102370</td>\n",
       "      <td>120953.0</td>\n",
       "      <td>HomeImp</td>\n",
       "      <td>Office</td>\n",
       "      <td>2.0</td>\n",
       "      <td>0</td>\n",
       "      <td>0.0</td>\n",
       "      <td>90.992533</td>\n",
       "      <td>0.0</td>\n",
       "      <td>13</td>\n",
       "      <td>31.588503</td>\n",
       "    </tr>\n",
       "    <tr>\n",
       "      <th>3</th>\n",
       "      <td>1</td>\n",
       "      <td>2400</td>\n",
       "      <td>34863</td>\n",
       "      <td>47471.0</td>\n",
       "      <td>HomeImp</td>\n",
       "      <td>Mgr</td>\n",
       "      <td>12.0</td>\n",
       "      <td>0</td>\n",
       "      <td>0.0</td>\n",
       "      <td>70.491080</td>\n",
       "      <td>1.0</td>\n",
       "      <td>21</td>\n",
       "      <td>38.263601</td>\n",
       "    </tr>\n",
       "    <tr>\n",
       "      <th>4</th>\n",
       "      <td>0</td>\n",
       "      <td>2400</td>\n",
       "      <td>98449</td>\n",
       "      <td>117195.0</td>\n",
       "      <td>HomeImp</td>\n",
       "      <td>Office</td>\n",
       "      <td>4.0</td>\n",
       "      <td>0</td>\n",
       "      <td>0.0</td>\n",
       "      <td>93.811775</td>\n",
       "      <td>0.0</td>\n",
       "      <td>13</td>\n",
       "      <td>29.681827</td>\n",
       "    </tr>\n",
       "  </tbody>\n",
       "</table>\n",
       "</div>"
      ],
      "text/plain": [
       "   BAD  LOAN  MORTDUE     VALUE   REASON     JOB   YOJ  DEROG  DELINQ  \\\n",
       "0    1  1700    30548   40320.0  HomeImp   Other   9.0      0     0.0   \n",
       "1    1  1800    28502   43034.0  HomeImp   Other  11.0      0     0.0   \n",
       "2    0  2300   102370  120953.0  HomeImp  Office   2.0      0     0.0   \n",
       "3    1  2400    34863   47471.0  HomeImp     Mgr  12.0      0     0.0   \n",
       "4    0  2400    98449  117195.0  HomeImp  Office   4.0      0     0.0   \n",
       "\n",
       "        CLAGE  NINQ  CLNO    DEBTINC  \n",
       "0  101.466002   1.0     8  37.113614  \n",
       "1   88.766030   0.0     8  36.884894  \n",
       "2   90.992533   0.0    13  31.588503  \n",
       "3   70.491080   1.0    21  38.263601  \n",
       "4   93.811775   0.0    13  29.681827  "
      ]
     },
     "execution_count": 6,
     "metadata": {},
     "output_type": "execute_result"
    }
   ],
   "source": [
    "df_raw = pd.read_csv(\"/home/pirl/Downloads/data2_py/HMEQ.csv\")\n",
    "df_raw.head()"
   ]
  },
  {
   "cell_type": "code",
   "execution_count": 21,
   "metadata": {},
   "outputs": [
    {
     "name": "stdout",
     "output_type": "stream",
     "text": [
      "<class 'pandas.core.frame.DataFrame'>\n",
      "RangeIndex: 3748 entries, 0 to 3747\n",
      "Data columns (total 13 columns):\n",
      "BAD        3748 non-null int64\n",
      "LOAN       3748 non-null int64\n",
      "MORTDUE    3748 non-null int64\n",
      "VALUE      3748 non-null float64\n",
      "REASON     3748 non-null object\n",
      "JOB        3748 non-null object\n",
      "YOJ        3748 non-null float64\n",
      "DEROG      3748 non-null int64\n",
      "DELINQ     3748 non-null float64\n",
      "CLAGE      3748 non-null float64\n",
      "NINQ       3748 non-null float64\n",
      "CLNO       3748 non-null int64\n",
      "DEBTINC    3748 non-null float64\n",
      "dtypes: float64(6), int64(5), object(2)\n",
      "memory usage: 380.7+ KB\n"
     ]
    }
   ],
   "source": [
    "df_raw.info()"
   ]
  },
  {
   "cell_type": "markdown",
   "metadata": {},
   "source": [
    "#### step 03. 데이터 전처리 - 결측치 처리"
   ]
  },
  {
   "cell_type": "code",
   "execution_count": 7,
   "metadata": {},
   "outputs": [
    {
     "data": {
      "text/plain": [
       "BAD          0\n",
       "LOAN         0\n",
       "MORTDUE      0\n",
       "VALUE       14\n",
       "REASON       0\n",
       "JOB         81\n",
       "YOJ        205\n",
       "DEROG        0\n",
       "DELINQ      30\n",
       "CLAGE       37\n",
       "NINQ        56\n",
       "CLNO         0\n",
       "DEBTINC      0\n",
       "dtype: int64"
      ]
     },
     "execution_count": 7,
     "metadata": {},
     "output_type": "execute_result"
    }
   ],
   "source": [
    "df_raw.isnull().sum(axis=0)"
   ]
  },
  {
   "cell_type": "code",
   "execution_count": 8,
   "metadata": {},
   "outputs": [],
   "source": [
    "#JOB 변수의 결측치는 other 로 대체\n",
    "df_raw['JOB'].fillna('Other', inplace = True) #fillna 함수 적용 후 df_raw 데이터에 저장 : inplace = True\n",
    "\n",
    "#숫자형 변수의 결측치는 평균값 입력\n",
    "df_raw.fillna(df_raw.mean(), inplace=True)"
   ]
  },
  {
   "cell_type": "code",
   "execution_count": 9,
   "metadata": {},
   "outputs": [
    {
     "data": {
      "text/plain": [
       "BAD        0\n",
       "LOAN       0\n",
       "MORTDUE    0\n",
       "VALUE      0\n",
       "REASON     0\n",
       "JOB        0\n",
       "YOJ        0\n",
       "DEROG      0\n",
       "DELINQ     0\n",
       "CLAGE      0\n",
       "NINQ       0\n",
       "CLNO       0\n",
       "DEBTINC    0\n",
       "dtype: int64"
      ]
     },
     "execution_count": 9,
     "metadata": {},
     "output_type": "execute_result"
    }
   ],
   "source": [
    "df_raw.isnull().sum() #확인절차"
   ]
  },
  {
   "cell_type": "code",
   "execution_count": 11,
   "metadata": {},
   "outputs": [
    {
     "name": "stdout",
     "output_type": "stream",
     "text": [
      "train data size : (2623, 13)\n",
      "test data size : (1125, 13)\n"
     ]
    }
   ],
   "source": [
    "#데이터 분할\n",
    "df_train, df_test = train_test_split(df_raw, test_size=0.3, random_state=1234)\n",
    "print('train data size : {}' .format(df_train.shape))\n",
    "print('test data size : {}' .format(df_test.shape))"
   ]
  },
  {
   "cell_type": "markdown",
   "metadata": {},
   "source": [
    "#### step 4. 모델 및 회귀계수 검토"
   ]
  },
  {
   "cell_type": "code",
   "execution_count": 17,
   "metadata": {},
   "outputs": [
    {
     "name": "stdout",
     "output_type": "stream",
     "text": [
      "Optimization terminated successfully.\n",
      "         Current function value: 0.237614\n",
      "         Iterations 8\n",
      "                           Logit Regression Results                           \n",
      "==============================================================================\n",
      "Dep. Variable:                    BAD   No. Observations:                 2623\n",
      "Model:                          Logit   Df Residuals:                     2606\n",
      "Method:                           MLE   Df Model:                           16\n",
      "Date:                Mon, 22 Jul 2019   Pseudo R-squ.:                  0.2257\n",
      "Time:                        11:34:42   Log-Likelihood:                -623.26\n",
      "converged:                       True   LL-Null:                       -804.91\n",
      "                                        LLR p-value:                 1.743e-67\n",
      "========================================================================================\n",
      "                           coef    std err          z      P>|z|      [0.025      0.975]\n",
      "----------------------------------------------------------------------------------------\n",
      "Intercept               -5.0942      0.560     -9.100      0.000      -6.191      -3.997\n",
      "C(REASON)[T.HomeImp]    -0.0080      0.176     -0.045      0.964      -0.354       0.338\n",
      "C(JOB)[T.Office]        -0.8256      0.294     -2.807      0.005      -1.402      -0.249\n",
      "C(JOB)[T.Other]         -0.3304      0.227     -1.454      0.146      -0.776       0.115\n",
      "C(JOB)[T.ProfExe]       -0.4247      0.271     -1.566      0.117      -0.956       0.107\n",
      "C(JOB)[T.Sales]          1.1323      0.476      2.381      0.017       0.200       2.064\n",
      "C(JOB)[T.Self]          -0.0454      0.432     -0.105      0.916      -0.892       0.801\n",
      "LOAN                 -1.223e-05   8.08e-06     -1.514      0.130   -2.81e-05     3.6e-06\n",
      "MORTDUE               -2.14e-06   3.57e-06     -0.599      0.549   -9.15e-06    4.87e-06\n",
      "VALUE                 3.061e-06   3.04e-06      1.008      0.313   -2.89e-06    9.01e-06\n",
      "YOJ                     -0.0053      0.012     -0.461      0.645      -0.028       0.017\n",
      "DEROG                    0.6221      0.103      6.043      0.000       0.420       0.824\n",
      "DELINQ                   0.7456      0.077      9.648      0.000       0.594       0.897\n",
      "CLAGE                   -0.0050      0.001     -4.320      0.000      -0.007      -0.003\n",
      "NINQ                     0.0939      0.044      2.131      0.033       0.008       0.180\n",
      "CLNO                    -0.0230      0.009     -2.587      0.010      -0.040      -0.006\n",
      "DEBTINC                  0.1097      0.012      8.829      0.000       0.085       0.134\n",
      "========================================================================================\n"
     ]
    }
   ],
   "source": [
    "log_model = Logit.from_formula(\"\"\"BAD ~ LOAN + MORTDUE + VALUE + C(REASON)\n",
    "+ C(JOB) + YOJ + DEROG + DELINQ + CLAGE + NINQ + CLNO + DEBTINC\"\"\", df_train)\n",
    "# 범주형 변수 표시 : C\n",
    "\n",
    "log_result = log_model.fit()\n",
    "print(log_result.summary())"
   ]
  },
  {
   "cell_type": "markdown",
   "metadata": {},
   "source": [
    "No.Observations(전체 자료 수) : 2,623\n",
    "\n",
    "Df Residuals(잔차 자유도) : 2,606\n",
    "\n",
    "Df Model(모델 자유도) : 16\n",
    "\n",
    "설명력 : 0.2257 -> *설명력이 낮음*"
   ]
  },
  {
   "cell_type": "markdown",
   "metadata": {},
   "source": [
    "#### step 05. 예측 및 성능 평가"
   ]
  },
  {
   "cell_type": "code",
   "execution_count": 15,
   "metadata": {},
   "outputs": [
    {
     "data": {
      "text/plain": [
       "1721    0\n",
       "822     0\n",
       "1686    0\n",
       "789     0\n",
       "165     0\n",
       "dtype: int64"
      ]
     },
     "execution_count": 15,
     "metadata": {},
     "output_type": "execute_result"
    }
   ],
   "source": [
    "#test 데이터 예측\n",
    "y_pred = log_result.predict(df_test)\n",
    "\n",
    "#0과 1의 값을 가진 class로 변환\n",
    "y_pred_class = (y_pred > 0.5).astype(int) #type 지정 정수형으로 하겠다!\n",
    "y_pred_class.head()"
   ]
  },
  {
   "cell_type": "code",
   "execution_count": 19,
   "metadata": {},
   "outputs": [
    {
     "data": {
      "text/plain": [
       "1721    0.103803\n",
       "822     0.028356\n",
       "1686    0.360934\n",
       "789     0.007546\n",
       "165     0.146117\n",
       "dtype: float64"
      ]
     },
     "execution_count": 19,
     "metadata": {},
     "output_type": "execute_result"
    }
   ],
   "source": [
    "y_pred.head()"
   ]
  },
  {
   "cell_type": "code",
   "execution_count": 16,
   "metadata": {},
   "outputs": [
    {
     "name": "stdout",
     "output_type": "stream",
     "text": [
      "Accuracy: 0.924\n",
      "\n",
      "Confusion Matrix:\n",
      "[[1017    4]\n",
      " [  81   23]]\n"
     ]
    }
   ],
   "source": [
    "#실제 test 데이터의 목표변수와 test 데이터의 예측값 비교\n",
    "print('Accuracy: {0:.3f}\\n'.format(accuracy_score(df_test['BAD'], y_pred_class)))\n",
    "print('Confusion Matrix:\\n{}'.format(confusion_matrix(df_test['BAD'],y_pred_class)))"
   ]
  },
  {
   "cell_type": "markdown",
   "metadata": {},
   "source": [
    "*Confusion matrix : 예측이 열레이블, 실제가 행레이블이라고 생각하면 된다!*\n",
    "\n",
    "모델의 정분류율은 92.4%\n",
    "\n",
    "실제값이 0인데 0으로 분류가 된 데이터는 1,017건\n",
    "\n",
    "실제값이 1인데 0으로 분류가 된 데이터는 81건\n",
    "\n",
    "\n",
    "####  step 06. 결론 도출 "
   ]
  },
  {
   "cell_type": "code",
   "execution_count": 18,
   "metadata": {},
   "outputs": [
    {
     "data": {
      "text/plain": [
       "<matplotlib.axes._subplots.AxesSubplot at 0x7feb5c17fa20>"
      ]
     },
     "execution_count": 18,
     "metadata": {},
     "output_type": "execute_result"
    },
    {
     "data": {
      "image/png": "[encoded data removed]",
      "text/plain": [
       "<Figure size 432x288 with 1 Axes>"
      ]
     },
     "metadata": {
      "needs_background": "light"
     },
     "output_type": "display_data"
    }
   ],
   "source": [
    "#설명변수 중요도\n",
    "df_logistic_coef = pd.DataFrame({'Coef': log_result.params.values[1:]}, index=log_model.exog_names[1:])\n",
    "df_logistic_coef.plot.barh(y = 'Coef')"
   ]
  },
  {
   "cell_type": "code",
   "execution_count": 22,
   "metadata": {},
   "outputs": [
    {
     "data": {
      "text/html": [
       "<div>\n",
       "<style scoped>\n",
       "    .dataframe tbody tr th:only-of-type {\n",
       "        vertical-align: middle;\n",
       "    }\n",
       "\n",
       "    .dataframe tbody tr th {\n",
       "        vertical-align: top;\n",
       "    }\n",
       "\n",
       "    .dataframe thead th {\n",
       "        text-align: right;\n",
       "    }\n",
       "</style>\n",
       "<table border=\"1\" class=\"dataframe\">\n",
       "  <thead>\n",
       "    <tr style=\"text-align: right;\">\n",
       "      <th></th>\n",
       "      <th>BAD</th>\n",
       "      <th>LOAN</th>\n",
       "      <th>MORTDUE</th>\n",
       "      <th>VALUE</th>\n",
       "      <th>YOJ</th>\n",
       "      <th>DEROG</th>\n",
       "      <th>DELINQ</th>\n",
       "      <th>CLAGE</th>\n",
       "      <th>NINQ</th>\n",
       "      <th>CLNO</th>\n",
       "      <th>DEBTINC</th>\n",
       "      <th>REASON</th>\n",
       "      <th>JOB</th>\n",
       "    </tr>\n",
       "  </thead>\n",
       "  <tbody>\n",
       "    <tr>\n",
       "      <th>0</th>\n",
       "      <td>3.140664</td>\n",
       "      <td>-1.559587</td>\n",
       "      <td>-0.993626</td>\n",
       "      <td>-1.224910</td>\n",
       "      <td>-0.017563</td>\n",
       "      <td>-0.267462</td>\n",
       "      <td>-0.342558</td>\n",
       "      <td>-0.967342</td>\n",
       "      <td>-0.018776</td>\n",
       "      <td>-1.428350</td>\n",
       "      <td>0.356347</td>\n",
       "      <td>HomeImp</td>\n",
       "      <td>Other</td>\n",
       "    </tr>\n",
       "    <tr>\n",
       "      <th>1</th>\n",
       "      <td>3.140664</td>\n",
       "      <td>-1.550817</td>\n",
       "      <td>-1.039240</td>\n",
       "      <td>-1.174897</td>\n",
       "      <td>0.251809</td>\n",
       "      <td>-0.267462</td>\n",
       "      <td>-0.342558</td>\n",
       "      <td>-1.122053</td>\n",
       "      <td>-0.666629</td>\n",
       "      <td>-1.428350</td>\n",
       "      <td>0.329025</td>\n",
       "      <td>HomeImp</td>\n",
       "      <td>Other</td>\n",
       "    </tr>\n",
       "    <tr>\n",
       "      <th>2</th>\n",
       "      <td>-0.318404</td>\n",
       "      <td>-1.506968</td>\n",
       "      <td>0.607570</td>\n",
       "      <td>0.260973</td>\n",
       "      <td>-0.960364</td>\n",
       "      <td>-0.267462</td>\n",
       "      <td>-0.342558</td>\n",
       "      <td>-1.094930</td>\n",
       "      <td>-0.666629</td>\n",
       "      <td>-0.905133</td>\n",
       "      <td>-0.303684</td>\n",
       "      <td>HomeImp</td>\n",
       "      <td>Office</td>\n",
       "    </tr>\n",
       "    <tr>\n",
       "      <th>3</th>\n",
       "      <td>3.140664</td>\n",
       "      <td>-1.498198</td>\n",
       "      <td>-0.897428</td>\n",
       "      <td>-1.093133</td>\n",
       "      <td>0.386495</td>\n",
       "      <td>-0.267462</td>\n",
       "      <td>-0.342558</td>\n",
       "      <td>-1.344679</td>\n",
       "      <td>-0.018776</td>\n",
       "      <td>-0.067985</td>\n",
       "      <td>0.493725</td>\n",
       "      <td>HomeImp</td>\n",
       "      <td>Mgr</td>\n",
       "    </tr>\n",
       "    <tr>\n",
       "      <th>4</th>\n",
       "      <td>-0.318404</td>\n",
       "      <td>-1.498198</td>\n",
       "      <td>0.520156</td>\n",
       "      <td>0.191721</td>\n",
       "      <td>-0.690992</td>\n",
       "      <td>-0.267462</td>\n",
       "      <td>-0.342558</td>\n",
       "      <td>-1.060586</td>\n",
       "      <td>-0.666629</td>\n",
       "      <td>-0.905133</td>\n",
       "      <td>-0.531456</td>\n",
       "      <td>HomeImp</td>\n",
       "      <td>Office</td>\n",
       "    </tr>\n",
       "  </tbody>\n",
       "</table>\n",
       "</div>"
      ],
      "text/plain": [
       "        BAD      LOAN   MORTDUE     VALUE       YOJ     DEROG    DELINQ  \\\n",
       "0  3.140664 -1.559587 -0.993626 -1.224910 -0.017563 -0.267462 -0.342558   \n",
       "1  3.140664 -1.550817 -1.039240 -1.174897  0.251809 -0.267462 -0.342558   \n",
       "2 -0.318404 -1.506968  0.607570  0.260973 -0.960364 -0.267462 -0.342558   \n",
       "3  3.140664 -1.498198 -0.897428 -1.093133  0.386495 -0.267462 -0.342558   \n",
       "4 -0.318404 -1.498198  0.520156  0.191721 -0.690992 -0.267462 -0.342558   \n",
       "\n",
       "      CLAGE      NINQ      CLNO   DEBTINC   REASON     JOB  \n",
       "0 -0.967342 -0.018776 -1.428350  0.356347  HomeImp   Other  \n",
       "1 -1.122053 -0.666629 -1.428350  0.329025  HomeImp   Other  \n",
       "2 -1.094930 -0.666629 -0.905133 -0.303684  HomeImp  Office  \n",
       "3 -1.344679 -0.018776 -0.067985  0.493725  HomeImp     Mgr  \n",
       "4 -1.060586 -0.666629 -0.905133 -0.531456  HomeImp  Office  "
      ]
     },
     "execution_count": 22,
     "metadata": {},
     "output_type": "execute_result"
    }
   ],
   "source": [
    "#표준화 회귀 계수\n",
    "\n",
    "df_char = df_raw.select_dtypes(include = 'object') #object만 선택\n",
    "df_numeric = df_raw.select_dtypes(exclude = 'object')\n",
    "\n",
    "scaler = StandardScaler()\n",
    "np_numeric_scaled = scaler.fit_transform(df_numeric)\n",
    "df_numeric_scaled = pd.DataFrame(np_numeric_scaled, columns = df_numeric.columns)\n",
    "\n",
    "df_scaled = pd.concat([df_numeric_scaled, df_char], axis=1)\n",
    "df_scaled.head()"
   ]
  },
  {
   "cell_type": "markdown",
   "metadata": {},
   "source": [
    "BAD 변수도 함께 scale 처리 된다."
   ]
  },
  {
   "cell_type": "code",
   "execution_count": 23,
   "metadata": {},
   "outputs": [
    {
     "data": {
      "text/html": [
       "<div>\n",
       "<style scoped>\n",
       "    .dataframe tbody tr th:only-of-type {\n",
       "        vertical-align: middle;\n",
       "    }\n",
       "\n",
       "    .dataframe tbody tr th {\n",
       "        vertical-align: top;\n",
       "    }\n",
       "\n",
       "    .dataframe thead th {\n",
       "        text-align: right;\n",
       "    }\n",
       "</style>\n",
       "<table border=\"1\" class=\"dataframe\">\n",
       "  <thead>\n",
       "    <tr style=\"text-align: right;\">\n",
       "      <th></th>\n",
       "      <th>BAD</th>\n",
       "      <th>LOAN</th>\n",
       "      <th>MORTDUE</th>\n",
       "      <th>VALUE</th>\n",
       "      <th>YOJ</th>\n",
       "      <th>DEROG</th>\n",
       "      <th>DELINQ</th>\n",
       "      <th>CLAGE</th>\n",
       "      <th>NINQ</th>\n",
       "      <th>CLNO</th>\n",
       "      <th>DEBTINC</th>\n",
       "      <th>REASON</th>\n",
       "      <th>JOB</th>\n",
       "    </tr>\n",
       "  </thead>\n",
       "  <tbody>\n",
       "    <tr>\n",
       "      <th>0</th>\n",
       "      <td>1</td>\n",
       "      <td>-1.559587</td>\n",
       "      <td>-0.993626</td>\n",
       "      <td>-1.224910</td>\n",
       "      <td>-0.017563</td>\n",
       "      <td>-0.267462</td>\n",
       "      <td>-0.342558</td>\n",
       "      <td>-0.967342</td>\n",
       "      <td>-0.018776</td>\n",
       "      <td>-1.428350</td>\n",
       "      <td>0.356347</td>\n",
       "      <td>HomeImp</td>\n",
       "      <td>Other</td>\n",
       "    </tr>\n",
       "    <tr>\n",
       "      <th>1</th>\n",
       "      <td>1</td>\n",
       "      <td>-1.550817</td>\n",
       "      <td>-1.039240</td>\n",
       "      <td>-1.174897</td>\n",
       "      <td>0.251809</td>\n",
       "      <td>-0.267462</td>\n",
       "      <td>-0.342558</td>\n",
       "      <td>-1.122053</td>\n",
       "      <td>-0.666629</td>\n",
       "      <td>-1.428350</td>\n",
       "      <td>0.329025</td>\n",
       "      <td>HomeImp</td>\n",
       "      <td>Other</td>\n",
       "    </tr>\n",
       "    <tr>\n",
       "      <th>2</th>\n",
       "      <td>0</td>\n",
       "      <td>-1.506968</td>\n",
       "      <td>0.607570</td>\n",
       "      <td>0.260973</td>\n",
       "      <td>-0.960364</td>\n",
       "      <td>-0.267462</td>\n",
       "      <td>-0.342558</td>\n",
       "      <td>-1.094930</td>\n",
       "      <td>-0.666629</td>\n",
       "      <td>-0.905133</td>\n",
       "      <td>-0.303684</td>\n",
       "      <td>HomeImp</td>\n",
       "      <td>Office</td>\n",
       "    </tr>\n",
       "    <tr>\n",
       "      <th>3</th>\n",
       "      <td>1</td>\n",
       "      <td>-1.498198</td>\n",
       "      <td>-0.897428</td>\n",
       "      <td>-1.093133</td>\n",
       "      <td>0.386495</td>\n",
       "      <td>-0.267462</td>\n",
       "      <td>-0.342558</td>\n",
       "      <td>-1.344679</td>\n",
       "      <td>-0.018776</td>\n",
       "      <td>-0.067985</td>\n",
       "      <td>0.493725</td>\n",
       "      <td>HomeImp</td>\n",
       "      <td>Mgr</td>\n",
       "    </tr>\n",
       "    <tr>\n",
       "      <th>4</th>\n",
       "      <td>0</td>\n",
       "      <td>-1.498198</td>\n",
       "      <td>0.520156</td>\n",
       "      <td>0.191721</td>\n",
       "      <td>-0.690992</td>\n",
       "      <td>-0.267462</td>\n",
       "      <td>-0.342558</td>\n",
       "      <td>-1.060586</td>\n",
       "      <td>-0.666629</td>\n",
       "      <td>-0.905133</td>\n",
       "      <td>-0.531456</td>\n",
       "      <td>HomeImp</td>\n",
       "      <td>Office</td>\n",
       "    </tr>\n",
       "  </tbody>\n",
       "</table>\n",
       "</div>"
      ],
      "text/plain": [
       "   BAD      LOAN   MORTDUE     VALUE       YOJ     DEROG    DELINQ     CLAGE  \\\n",
       "0    1 -1.559587 -0.993626 -1.224910 -0.017563 -0.267462 -0.342558 -0.967342   \n",
       "1    1 -1.550817 -1.039240 -1.174897  0.251809 -0.267462 -0.342558 -1.122053   \n",
       "2    0 -1.506968  0.607570  0.260973 -0.960364 -0.267462 -0.342558 -1.094930   \n",
       "3    1 -1.498198 -0.897428 -1.093133  0.386495 -0.267462 -0.342558 -1.344679   \n",
       "4    0 -1.498198  0.520156  0.191721 -0.690992 -0.267462 -0.342558 -1.060586   \n",
       "\n",
       "       NINQ      CLNO   DEBTINC   REASON     JOB  \n",
       "0 -0.018776 -1.428350  0.356347  HomeImp   Other  \n",
       "1 -0.666629 -1.428350  0.329025  HomeImp   Other  \n",
       "2 -0.666629 -0.905133 -0.303684  HomeImp  Office  \n",
       "3 -0.018776 -0.067985  0.493725  HomeImp     Mgr  \n",
       "4 -0.666629 -0.905133 -0.531456  HomeImp  Office  "
      ]
     },
     "execution_count": 23,
     "metadata": {},
     "output_type": "execute_result"
    }
   ],
   "source": [
    "df_scaled['BAD'] = np.where(df_scaled['BAD']>0, 1, 0) #np.where : 조건\n",
    "df_scaled.head()"
   ]
  },
  {
   "cell_type": "markdown",
   "metadata": {},
   "source": [
    "BAD 데이터를 0과 1로 변환"
   ]
  },
  {
   "cell_type": "code",
   "execution_count": 25,
   "metadata": {},
   "outputs": [],
   "source": [
    "#데이터분할\n",
    "df_scaled_train, df_scaled_test = train_test_split(df_scaled, test_size =0.3, random_state=1234)"
   ]
  },
  {
   "cell_type": "code",
   "execution_count": 26,
   "metadata": {},
   "outputs": [
    {
     "name": "stdout",
     "output_type": "stream",
     "text": [
      "Optimization terminated successfully.\n",
      "         Current function value: 0.237614\n",
      "         Iterations 7\n",
      "                           Logit Regression Results                           \n",
      "==============================================================================\n",
      "Dep. Variable:                    BAD   No. Observations:                 2623\n",
      "Model:                          Logit   Df Residuals:                     2606\n",
      "Method:                           MLE   Df Model:                           16\n",
      "Date:                Mon, 22 Jul 2019   Pseudo R-squ.:                  0.2257\n",
      "Time:                        12:13:00   Log-Likelihood:                -623.26\n",
      "converged:                       True   LL-Null:                       -804.91\n",
      "                                        LLR p-value:                 1.743e-67\n",
      "========================================================================================\n",
      "                           coef    std err          z      P>|z|      [0.025      0.975]\n",
      "----------------------------------------------------------------------------------------\n",
      "Intercept               -2.4815      0.205    -12.111      0.000      -2.883      -2.080\n",
      "C(REASON)[T.HomeImp]    -0.0080      0.176     -0.045      0.964      -0.354       0.338\n",
      "C(JOB)[T.Office]        -0.8256      0.294     -2.807      0.005      -1.402      -0.249\n",
      "C(JOB)[T.Other]         -0.3304      0.227     -1.454      0.146      -0.776       0.115\n",
      "C(JOB)[T.ProfExe]       -0.4247      0.271     -1.566      0.117      -0.956       0.107\n",
      "C(JOB)[T.Sales]          1.1323      0.476      2.381      0.017       0.200       2.064\n",
      "C(JOB)[T.Self]          -0.0454      0.432     -0.105      0.916      -0.892       0.801\n",
      "LOAN                    -0.1395      0.092     -1.514      0.130      -0.320       0.041\n",
      "MORTDUE                 -0.0960      0.160     -0.599      0.549      -0.410       0.218\n",
      "VALUE                    0.1661      0.165      1.008      0.313      -0.157       0.489\n",
      "YOJ                     -0.0397      0.086     -0.461      0.645      -0.208       0.129\n",
      "DEROG                    0.3749      0.062      6.043      0.000       0.253       0.496\n",
      "DELINQ                   0.5872      0.061      9.648      0.000       0.468       0.706\n",
      "CLAGE                   -0.4140      0.096     -4.320      0.000      -0.602      -0.226\n",
      "NINQ                     0.1449      0.068      2.131      0.033       0.012       0.278\n",
      "CLNO                    -0.2196      0.085     -2.587      0.010      -0.386      -0.053\n",
      "DEBTINC                  0.9186      0.104      8.829      0.000       0.715       1.123\n",
      "========================================================================================\n"
     ]
    }
   ],
   "source": [
    "scaled_log_model = Logit.from_formula(\"\"\"BAD ~ LOAN + MORTDUE + VALUE + C(REASON)\n",
    "+ C(JOB) + YOJ + DEROG + DELINQ + CLAGE + NINQ + CLNO + DEBTINC\"\"\", df_scaled_train)\n",
    "\n",
    "scaled_log_result = scaled_log_model.fit()\n",
    "\n",
    "print(scaled_log_result.summary())"
   ]
  },
  {
   "cell_type": "code",
   "execution_count": 27,
   "metadata": {},
   "outputs": [
    {
     "data": {
      "text/plain": [
       "<matplotlib.axes._subplots.AxesSubplot at 0x7feb5552b2b0>"
      ]
     },
     "execution_count": 27,
     "metadata": {},
     "output_type": "execute_result"
    },
    {
     "data": {
      "image/png": "[encoded data removed]",
      "text/plain": [
       "<Figure size 432x288 with 1 Axes>"
      ]
     },
     "metadata": {
      "needs_background": "light"
     },
     "output_type": "display_data"
    }
   ],
   "source": [
    "#설명변수 중요도\n",
    "df_log_scaled_coef = pd.DataFrame({'Coef':scaled_log_result.params.values[1:]},\n",
    "                                 index = scaled_log_model.exog_names[1:])\n",
    "df_log_scaled_coef.plot.barh(y='Coef',legend=False)"
   ]
  },
  {
   "cell_type": "markdown",
   "metadata": {},
   "source": [
    "### [실습] 통신회사의 고객 이탈\n",
    "고객의 이탈 여부를 예측하기 위한 로지스틱 분석을 실시하고 결과를 해석하시오.\n",
    "#### step 1 . 데이터 구성하기"
   ]
  },
  {
   "cell_type": "code",
   "execution_count": 80,
   "metadata": {},
   "outputs": [
    {
     "data": {
      "text/html": [
       "<div>\n",
       "<style scoped>\n",
       "    .dataframe tbody tr th:only-of-type {\n",
       "        vertical-align: middle;\n",
       "    }\n",
       "\n",
       "    .dataframe tbody tr th {\n",
       "        vertical-align: top;\n",
       "    }\n",
       "\n",
       "    .dataframe thead th {\n",
       "        text-align: right;\n",
       "    }\n",
       "</style>\n",
       "<table border=\"1\" class=\"dataframe\">\n",
       "  <thead>\n",
       "    <tr style=\"text-align: right;\">\n",
       "      <th></th>\n",
       "      <th>CHURN</th>\n",
       "      <th>CUSTOMER_ID</th>\n",
       "      <th>GENDER</th>\n",
       "      <th>AGE</th>\n",
       "      <th>CHARGE_TYPE</th>\n",
       "      <th>HANDSET</th>\n",
       "      <th>USAGE_BAND</th>\n",
       "      <th>SERVICE_DURATION</th>\n",
       "      <th>DROPPED_CALLS</th>\n",
       "      <th>PEAK_CALLS_NO</th>\n",
       "      <th>PEAK_CALLS_TIME</th>\n",
       "      <th>WEEKEND_CALLS_NO</th>\n",
       "      <th>WEEKEND_CALLS_TIME</th>\n",
       "      <th>TOTAL_CALLS_NO</th>\n",
       "      <th>TOTAL_CALLS_TIME</th>\n",
       "    </tr>\n",
       "  </thead>\n",
       "  <tbody>\n",
       "    <tr>\n",
       "      <th>0</th>\n",
       "      <td>Active</td>\n",
       "      <td>K102990</td>\n",
       "      <td>F</td>\n",
       "      <td>31</td>\n",
       "      <td>CAT 100</td>\n",
       "      <td>ASAD170</td>\n",
       "      <td>Med</td>\n",
       "      <td>33.33</td>\n",
       "      <td>6</td>\n",
       "      <td>218</td>\n",
       "      <td>379.8</td>\n",
       "      <td>9</td>\n",
       "      <td>21.6</td>\n",
       "      <td>366</td>\n",
       "      <td>632.4</td>\n",
       "    </tr>\n",
       "    <tr>\n",
       "      <th>1</th>\n",
       "      <td>Active</td>\n",
       "      <td>K103280</td>\n",
       "      <td>M</td>\n",
       "      <td>27</td>\n",
       "      <td>CAT 100</td>\n",
       "      <td>S50</td>\n",
       "      <td>Med</td>\n",
       "      <td>30.87</td>\n",
       "      <td>10</td>\n",
       "      <td>373</td>\n",
       "      <td>656.4</td>\n",
       "      <td>11</td>\n",
       "      <td>28.0</td>\n",
       "      <td>411</td>\n",
       "      <td>810.4</td>\n",
       "    </tr>\n",
       "    <tr>\n",
       "      <th>2</th>\n",
       "      <td>Active</td>\n",
       "      <td>K103660</td>\n",
       "      <td>M</td>\n",
       "      <td>27</td>\n",
       "      <td>CAT 100</td>\n",
       "      <td>ASAD170</td>\n",
       "      <td>Med</td>\n",
       "      <td>49.40</td>\n",
       "      <td>11</td>\n",
       "      <td>260</td>\n",
       "      <td>582.0</td>\n",
       "      <td>0</td>\n",
       "      <td>0.0</td>\n",
       "      <td>265</td>\n",
       "      <td>614.1</td>\n",
       "    </tr>\n",
       "    <tr>\n",
       "      <th>3</th>\n",
       "      <td>Active</td>\n",
       "      <td>K103730</td>\n",
       "      <td>M</td>\n",
       "      <td>61</td>\n",
       "      <td>CAT 100</td>\n",
       "      <td>ASAD170</td>\n",
       "      <td>Med</td>\n",
       "      <td>48.60</td>\n",
       "      <td>1</td>\n",
       "      <td>294</td>\n",
       "      <td>661.8</td>\n",
       "      <td>14</td>\n",
       "      <td>101.5</td>\n",
       "      <td>326</td>\n",
       "      <td>844.0</td>\n",
       "    </tr>\n",
       "    <tr>\n",
       "      <th>4</th>\n",
       "      <td>Active</td>\n",
       "      <td>K104560</td>\n",
       "      <td>F</td>\n",
       "      <td>52</td>\n",
       "      <td>CAT 100</td>\n",
       "      <td>S50</td>\n",
       "      <td>Med</td>\n",
       "      <td>56.03</td>\n",
       "      <td>0</td>\n",
       "      <td>221</td>\n",
       "      <td>555.6</td>\n",
       "      <td>7</td>\n",
       "      <td>25.0</td>\n",
       "      <td>274</td>\n",
       "      <td>673.0</td>\n",
       "    </tr>\n",
       "  </tbody>\n",
       "</table>\n",
       "</div>"
      ],
      "text/plain": [
       "    CHURN CUSTOMER_ID GENDER  AGE CHARGE_TYPE  HANDSET USAGE_BAND  \\\n",
       "0  Active     K102990      F   31     CAT 100  ASAD170        Med   \n",
       "1  Active     K103280      M   27     CAT 100      S50        Med   \n",
       "2  Active     K103660      M   27     CAT 100  ASAD170        Med   \n",
       "3  Active     K103730      M   61     CAT 100  ASAD170        Med   \n",
       "4  Active     K104560      F   52     CAT 100      S50        Med   \n",
       "\n",
       "   SERVICE_DURATION  DROPPED_CALLS  PEAK_CALLS_NO  PEAK_CALLS_TIME  \\\n",
       "0             33.33              6            218            379.8   \n",
       "1             30.87             10            373            656.4   \n",
       "2             49.40             11            260            582.0   \n",
       "3             48.60              1            294            661.8   \n",
       "4             56.03              0            221            555.6   \n",
       "\n",
       "   WEEKEND_CALLS_NO  WEEKEND_CALLS_TIME  TOTAL_CALLS_NO  TOTAL_CALLS_TIME  \n",
       "0                 9                21.6             366             632.4  \n",
       "1                11                28.0             411             810.4  \n",
       "2                 0                 0.0             265             614.1  \n",
       "3                14               101.5             326             844.0  \n",
       "4                 7                25.0             274             673.0  "
      ]
     },
     "execution_count": 80,
     "metadata": {},
     "output_type": "execute_result"
    }
   ],
   "source": [
    "df_raw = pd.read_csv(\"/home/pirl/Downloads/data2_py/통신고객이탈.csv\")\n",
    "df_raw.head()"
   ]
  },
  {
   "cell_type": "markdown",
   "metadata": {},
   "source": [
    "#### step 2. 데이터 전처리"
   ]
  },
  {
   "cell_type": "code",
   "execution_count": 81,
   "metadata": {
    "scrolled": true
   },
   "outputs": [
    {
     "data": {
      "text/plain": [
       "CHURN                 0\n",
       "CUSTOMER_ID           0\n",
       "GENDER                0\n",
       "AGE                   0\n",
       "CHARGE_TYPE           0\n",
       "HANDSET               0\n",
       "USAGE_BAND            0\n",
       "SERVICE_DURATION      0\n",
       "DROPPED_CALLS         0\n",
       "PEAK_CALLS_NO         0\n",
       "PEAK_CALLS_TIME       0\n",
       "WEEKEND_CALLS_NO      0\n",
       "WEEKEND_CALLS_TIME    0\n",
       "TOTAL_CALLS_NO        0\n",
       "TOTAL_CALLS_TIME      0\n",
       "dtype: int64"
      ]
     },
     "execution_count": 81,
     "metadata": {},
     "output_type": "execute_result"
    }
   ],
   "source": [
    "df_raw.isnull().sum(axis=0)"
   ]
  },
  {
   "cell_type": "markdown",
   "metadata": {},
   "source": [
    "결측치 없음."
   ]
  },
  {
   "cell_type": "markdown",
   "metadata": {},
   "source": [
    "#### 명목형 변수들의 distinct한 값의 수 (왜 범주형 데이터의 unique 값을 알고자 하는가?)\n",
    "#### for loop을 어떻게 작성하는가?"
   ]
  },
  {
   "cell_type": "code",
   "execution_count": 83,
   "metadata": {},
   "outputs": [
    {
     "name": "stdout",
     "output_type": "stream",
     "text": [
      "CHURN : 2\n",
      "CUSTOMER_ID : 930\n",
      "GENDER : 2\n",
      "CHARGE_TYPE : 5\n",
      "HANDSET : 11\n",
      "USAGE_BAND : 6\n"
     ]
    }
   ],
   "source": [
    "#명목형 변수 목록\n",
    "obj_cols = df_raw.select_dtypes('object').columns\n",
    "for col in obj_cols :\n",
    "    _n = len(df_raw[col].value_counts())\n",
    "    print(col, \":\", str(_n))"
   ]
  },
  {
   "cell_type": "code",
   "execution_count": 84,
   "metadata": {},
   "outputs": [
    {
     "data": {
      "text/html": [
       "<div>\n",
       "<style scoped>\n",
       "    .dataframe tbody tr th:only-of-type {\n",
       "        vertical-align: middle;\n",
       "    }\n",
       "\n",
       "    .dataframe tbody tr th {\n",
       "        vertical-align: top;\n",
       "    }\n",
       "\n",
       "    .dataframe thead th {\n",
       "        text-align: right;\n",
       "    }\n",
       "</style>\n",
       "<table border=\"1\" class=\"dataframe\">\n",
       "  <thead>\n",
       "    <tr style=\"text-align: right;\">\n",
       "      <th></th>\n",
       "      <th>CHURN</th>\n",
       "      <th>CUSTOMER_ID</th>\n",
       "      <th>GENDER</th>\n",
       "      <th>AGE</th>\n",
       "      <th>CHARGE_TYPE</th>\n",
       "      <th>HANDSET</th>\n",
       "      <th>USAGE_BAND</th>\n",
       "      <th>SERVICE_DURATION</th>\n",
       "      <th>DROPPED_CALLS</th>\n",
       "      <th>PEAK_CALLS_NO</th>\n",
       "      <th>PEAK_CALLS_TIME</th>\n",
       "      <th>WEEKEND_CALLS_NO</th>\n",
       "      <th>WEEKEND_CALLS_TIME</th>\n",
       "      <th>TOTAL_CALLS_NO</th>\n",
       "      <th>TOTAL_CALLS_TIME</th>\n",
       "    </tr>\n",
       "  </thead>\n",
       "  <tbody>\n",
       "    <tr>\n",
       "      <th>0</th>\n",
       "      <td>0</td>\n",
       "      <td>K102990</td>\n",
       "      <td>F</td>\n",
       "      <td>31</td>\n",
       "      <td>CAT 100</td>\n",
       "      <td>ASAD170</td>\n",
       "      <td>Med</td>\n",
       "      <td>33.33</td>\n",
       "      <td>6</td>\n",
       "      <td>218</td>\n",
       "      <td>379.8</td>\n",
       "      <td>9</td>\n",
       "      <td>21.6</td>\n",
       "      <td>366</td>\n",
       "      <td>632.4</td>\n",
       "    </tr>\n",
       "    <tr>\n",
       "      <th>1</th>\n",
       "      <td>0</td>\n",
       "      <td>K103280</td>\n",
       "      <td>M</td>\n",
       "      <td>27</td>\n",
       "      <td>CAT 100</td>\n",
       "      <td>S50</td>\n",
       "      <td>Med</td>\n",
       "      <td>30.87</td>\n",
       "      <td>10</td>\n",
       "      <td>373</td>\n",
       "      <td>656.4</td>\n",
       "      <td>11</td>\n",
       "      <td>28.0</td>\n",
       "      <td>411</td>\n",
       "      <td>810.4</td>\n",
       "    </tr>\n",
       "    <tr>\n",
       "      <th>2</th>\n",
       "      <td>0</td>\n",
       "      <td>K103660</td>\n",
       "      <td>M</td>\n",
       "      <td>27</td>\n",
       "      <td>CAT 100</td>\n",
       "      <td>ASAD170</td>\n",
       "      <td>Med</td>\n",
       "      <td>49.40</td>\n",
       "      <td>11</td>\n",
       "      <td>260</td>\n",
       "      <td>582.0</td>\n",
       "      <td>0</td>\n",
       "      <td>0.0</td>\n",
       "      <td>265</td>\n",
       "      <td>614.1</td>\n",
       "    </tr>\n",
       "    <tr>\n",
       "      <th>3</th>\n",
       "      <td>0</td>\n",
       "      <td>K103730</td>\n",
       "      <td>M</td>\n",
       "      <td>61</td>\n",
       "      <td>CAT 100</td>\n",
       "      <td>ASAD170</td>\n",
       "      <td>Med</td>\n",
       "      <td>48.60</td>\n",
       "      <td>1</td>\n",
       "      <td>294</td>\n",
       "      <td>661.8</td>\n",
       "      <td>14</td>\n",
       "      <td>101.5</td>\n",
       "      <td>326</td>\n",
       "      <td>844.0</td>\n",
       "    </tr>\n",
       "    <tr>\n",
       "      <th>4</th>\n",
       "      <td>0</td>\n",
       "      <td>K104560</td>\n",
       "      <td>F</td>\n",
       "      <td>52</td>\n",
       "      <td>CAT 100</td>\n",
       "      <td>S50</td>\n",
       "      <td>Med</td>\n",
       "      <td>56.03</td>\n",
       "      <td>0</td>\n",
       "      <td>221</td>\n",
       "      <td>555.6</td>\n",
       "      <td>7</td>\n",
       "      <td>25.0</td>\n",
       "      <td>274</td>\n",
       "      <td>673.0</td>\n",
       "    </tr>\n",
       "  </tbody>\n",
       "</table>\n",
       "</div>"
      ],
      "text/plain": [
       "   CHURN CUSTOMER_ID GENDER  AGE CHARGE_TYPE  HANDSET USAGE_BAND  \\\n",
       "0      0     K102990      F   31     CAT 100  ASAD170        Med   \n",
       "1      0     K103280      M   27     CAT 100      S50        Med   \n",
       "2      0     K103660      M   27     CAT 100  ASAD170        Med   \n",
       "3      0     K103730      M   61     CAT 100  ASAD170        Med   \n",
       "4      0     K104560      F   52     CAT 100      S50        Med   \n",
       "\n",
       "   SERVICE_DURATION  DROPPED_CALLS  PEAK_CALLS_NO  PEAK_CALLS_TIME  \\\n",
       "0             33.33              6            218            379.8   \n",
       "1             30.87             10            373            656.4   \n",
       "2             49.40             11            260            582.0   \n",
       "3             48.60              1            294            661.8   \n",
       "4             56.03              0            221            555.6   \n",
       "\n",
       "   WEEKEND_CALLS_NO  WEEKEND_CALLS_TIME  TOTAL_CALLS_NO  TOTAL_CALLS_TIME  \n",
       "0                 9                21.6             366             632.4  \n",
       "1                11                28.0             411             810.4  \n",
       "2                 0                 0.0             265             614.1  \n",
       "3                14               101.5             326             844.0  \n",
       "4                 7                25.0             274             673.0  "
      ]
     },
     "execution_count": 84,
     "metadata": {},
     "output_type": "execute_result"
    }
   ],
   "source": [
    "df_raw['CHURN'] = np.where(df_raw['CHURN'] == 'Active',0,1)\n",
    "df_raw.head()"
   ]
  },
  {
   "cell_type": "code",
   "execution_count": 85,
   "metadata": {},
   "outputs": [
    {
     "data": {
      "text/plain": [
       "0    750\n",
       "1    180\n",
       "Name: CHURN, dtype: int64"
      ]
     },
     "execution_count": 85,
     "metadata": {},
     "output_type": "execute_result"
    }
   ],
   "source": [
    "df_raw['CHURN'].value_counts()"
   ]
  },
  {
   "cell_type": "code",
   "execution_count": 86,
   "metadata": {},
   "outputs": [
    {
     "name": "stdout",
     "output_type": "stream",
     "text": [
      "train data size : (651, 15)\n",
      "test data size : (279, 15)\n"
     ]
    }
   ],
   "source": [
    "#데이터 분할\n",
    "df_train, df_test = train_test_split(df_raw, test_size=0.3, random_state=1234)\n",
    "print('train data size : {}' .format(df_train.shape))\n",
    "print('test data size : {}' .format(df_test.shape))"
   ]
  },
  {
   "cell_type": "code",
   "execution_count": 87,
   "metadata": {},
   "outputs": [
    {
     "name": "stdout",
     "output_type": "stream",
     "text": [
      "Warning: Maximum number of iterations has been exceeded.\n",
      "         Current function value: 0.253230\n",
      "         Iterations: 35\n",
      "                           Logit Regression Results                           \n",
      "==============================================================================\n",
      "Dep. Variable:                  CHURN   No. Observations:                  651\n",
      "Model:                          Logit   Df Residuals:                      621\n",
      "Method:                           MLE   Df Model:                           29\n",
      "Date:                Mon, 22 Jul 2019   Pseudo R-squ.:                  0.5059\n",
      "Time:                        14:12:25   Log-Likelihood:                -164.85\n",
      "converged:                      False   LL-Null:                       -333.64\n",
      "                                        LLR p-value:                 2.736e-54\n",
      "==============================================================================================\n",
      "                                 coef    std err          z      P>|z|      [0.025      0.975]\n",
      "----------------------------------------------------------------------------------------------\n",
      "Intercept                    -24.1056   2065.436     -0.012      0.991   -4072.286    4024.075\n",
      "C(GENDER)[T.M]                -0.4510      0.315     -1.433      0.152      -1.068       0.166\n",
      "C(CHARGE_TYPE)[T.CAT 200]     -1.0671      0.640     -1.668      0.095      -2.321       0.187\n",
      "C(CHARGE_TYPE)[T.CAT 50]      -1.6795      0.897     -1.873      0.061      -3.437       0.078\n",
      "C(CHARGE_TYPE)[T.Play 100]     1.3482      0.725      1.860      0.063      -0.073       2.769\n",
      "C(CHARGE_TYPE)[T.Play 300]    -0.9498      0.822     -1.156      0.248      -2.560       0.660\n",
      "C(HANDSET)[T.ASAD90]          22.5142   2065.435      0.011      0.991   -4025.664    4070.692\n",
      "C(HANDSET)[T.BS110]           18.1048   2065.435      0.009      0.993   -4030.073    4066.283\n",
      "C(HANDSET)[T.BS210]           15.6798   2065.435      0.008      0.994   -4032.498    4063.858\n",
      "C(HANDSET)[T.CAS30]           21.3585   2065.435      0.010      0.992   -4026.820    4069.537\n",
      "C(HANDSET)[T.CAS60]          -35.9285   3.55e+11  -1.01e-10      1.000   -6.96e+11    6.96e+11\n",
      "C(HANDSET)[T.S50]             18.5695   2065.435      0.009      0.993   -4029.608    4066.747\n",
      "C(HANDSET)[T.S80]             17.3163   2065.435      0.008      0.993   -4030.862    4065.494\n",
      "C(HANDSET)[T.SOP10]           21.2285   2065.435      0.010      0.992   -4026.950    4069.407\n",
      "C(HANDSET)[T.SOP20]           50.5815   2.74e+06   1.85e-05      1.000   -5.37e+06    5.37e+06\n",
      "C(HANDSET)[T.WC95]           -17.8978    1.6e+07  -1.12e-06      1.000   -3.14e+07    3.14e+07\n",
      "C(USAGE_BAND)[T.Low]           6.3481      2.240      2.834      0.005       1.958      10.738\n",
      "C(USAGE_BAND)[T.Med]           3.6729      1.415      2.595      0.009       0.899       6.447\n",
      "C(USAGE_BAND)[T.MedHigh]       2.0429      0.991      2.061      0.039       0.100       3.985\n",
      "C(USAGE_BAND)[T.MedLow]        5.8815      1.779      3.305      0.001       2.394       9.369\n",
      "C(USAGE_BAND)[T.None]        -13.4229   1.54e+04     -0.001      0.999   -3.02e+04    3.02e+04\n",
      "AGE                           -0.0215      0.011     -1.878      0.060      -0.044       0.001\n",
      "SERVICE_DURATION              -0.0303      0.011     -2.832      0.005      -0.051      -0.009\n",
      "DROPPED_CALLS                  0.1369      0.039      3.465      0.001       0.059       0.214\n",
      "PEAK_CALLS_NO                 -0.0012      0.003     -0.465      0.642      -0.006       0.004\n",
      "PEAK_CALLS_TIME                0.0024      0.002      1.548      0.122      -0.001       0.005\n",
      "WEEKEND_CALLS_NO              -0.0054      0.013     -0.406      0.685      -0.031       0.021\n",
      "WEEKEND_CALLS_TIME             0.0045      0.006      0.776      0.438      -0.007       0.016\n",
      "TOTAL_CALLS_NO                 0.0011      0.002      0.435      0.664      -0.004       0.006\n",
      "TOTAL_CALLS_TIME               0.0008      0.002      0.534      0.593      -0.002       0.004\n",
      "==============================================================================================\n",
      "\n",
      "Possibly complete quasi-separation: A fraction 0.27 of observations can be\n",
      "perfectly predicted. This might indicate that there is complete\n",
      "quasi-separation. In this case some parameters will not be identified.\n"
     ]
    }
   ],
   "source": [
    "log_model = Logit.from_formula(\"\"\"CHURN ~ C(GENDER) + AGE + C(CHARGE_TYPE) + C(HANDSET) + C(USAGE_BAND)\n",
    "+ SERVICE_DURATION + DROPPED_CALLS + PEAK_CALLS_NO + PEAK_CALLS_TIME + WEEKEND_CALLS_NO + WEEKEND_CALLS_TIME\n",
    "+ TOTAL_CALLS_NO + TOTAL_CALLS_TIME\"\"\", df_train)\n",
    "# CUSTOMER_ID 제외 : ID를 넣어주면 이 ID의 사람은 이탈, 유지 등을 암기해버린다. 따라서 제거!\n",
    "\n",
    "log_result = log_model.fit()\n",
    "print(log_result.summary())"
   ]
  },
  {
   "cell_type": "code",
   "execution_count": 88,
   "metadata": {},
   "outputs": [
    {
     "data": {
      "text/plain": [
       "530    0\n",
       "534    0\n",
       "699    0\n",
       "641    0\n",
       "319    0\n",
       "dtype: int64"
      ]
     },
     "execution_count": 88,
     "metadata": {},
     "output_type": "execute_result"
    }
   ],
   "source": [
    "#test 데이터 예측\n",
    "y_pred = log_result.predict(df_test)\n",
    "\n",
    "#0과 1의 값을 가진 class로 변환\n",
    "y_pred_class = (y_pred > 0.5).astype(int) #type 지정 정수형으로 하겠다!\n",
    "y_pred_class.head()"
   ]
  },
  {
   "cell_type": "code",
   "execution_count": 89,
   "metadata": {},
   "outputs": [
    {
     "data": {
      "text/plain": [
       "530    1.083588e-01\n",
       "534    2.688294e-01\n",
       "699    2.779741e-16\n",
       "641    6.389340e-02\n",
       "319    1.982053e-01\n",
       "dtype: float64"
      ]
     },
     "execution_count": 89,
     "metadata": {},
     "output_type": "execute_result"
    }
   ],
   "source": [
    "y_pred.head()"
   ]
  },
  {
   "cell_type": "code",
   "execution_count": 90,
   "metadata": {},
   "outputs": [
    {
     "name": "stdout",
     "output_type": "stream",
     "text": [
      "Accuracy: 0.914\n",
      "\n",
      "Confusion Matrix:\n",
      "[[227   8]\n",
      " [ 16  28]]\n"
     ]
    }
   ],
   "source": [
    "#실제 test 데이터의 목표변수와 test 데이터의 예측값 비교\n",
    "print('Accuracy: {0:.3f}\\n'.format(accuracy_score(df_test['CHURN'], y_pred_class)))\n",
    "print('Confusion Matrix:\\n{}'.format(confusion_matrix(df_test['CHURN'],y_pred_class)))"
   ]
  },
  {
   "cell_type": "code",
   "execution_count": 91,
   "metadata": {},
   "outputs": [
    {
     "data": {
      "text/plain": [
       "<matplotlib.axes._subplots.AxesSubplot at 0x7feb55167550>"
      ]
     },
     "execution_count": 91,
     "metadata": {},
     "output_type": "execute_result"
    },
    {
     "data": {
      "image/png": "[encoded data removed]",
      "text/plain": [
       "<Figure size 432x288 with 1 Axes>"
      ]
     },
     "metadata": {
      "needs_background": "light"
     },
     "output_type": "display_data"
    }
   ],
   "source": [
    "#설명변수 중요도\n",
    "df_logistic_coef = pd.DataFrame({'Coef': log_result.params.values[1:]}, index=log_model.exog_names[1:])\n",
    "df_logistic_coef.plot.barh(y = 'Coef')"
   ]
  },
  {
   "cell_type": "code",
   "execution_count": 92,
   "metadata": {},
   "outputs": [
    {
     "data": {
      "text/html": [
       "<div>\n",
       "<style scoped>\n",
       "    .dataframe tbody tr th:only-of-type {\n",
       "        vertical-align: middle;\n",
       "    }\n",
       "\n",
       "    .dataframe tbody tr th {\n",
       "        vertical-align: top;\n",
       "    }\n",
       "\n",
       "    .dataframe thead th {\n",
       "        text-align: right;\n",
       "    }\n",
       "</style>\n",
       "<table border=\"1\" class=\"dataframe\">\n",
       "  <thead>\n",
       "    <tr style=\"text-align: right;\">\n",
       "      <th></th>\n",
       "      <th>CHURN</th>\n",
       "      <th>AGE</th>\n",
       "      <th>SERVICE_DURATION</th>\n",
       "      <th>DROPPED_CALLS</th>\n",
       "      <th>PEAK_CALLS_NO</th>\n",
       "      <th>PEAK_CALLS_TIME</th>\n",
       "      <th>WEEKEND_CALLS_NO</th>\n",
       "      <th>WEEKEND_CALLS_TIME</th>\n",
       "      <th>TOTAL_CALLS_NO</th>\n",
       "      <th>TOTAL_CALLS_TIME</th>\n",
       "      <th>CUSTOMER_ID</th>\n",
       "      <th>GENDER</th>\n",
       "      <th>CHARGE_TYPE</th>\n",
       "      <th>HANDSET</th>\n",
       "      <th>USAGE_BAND</th>\n",
       "    </tr>\n",
       "  </thead>\n",
       "  <tbody>\n",
       "    <tr>\n",
       "      <th>0</th>\n",
       "      <td>-0.489898</td>\n",
       "      <td>-0.030604</td>\n",
       "      <td>-0.069958</td>\n",
       "      <td>0.949112</td>\n",
       "      <td>-0.032834</td>\n",
       "      <td>-0.617357</td>\n",
       "      <td>-0.432263</td>\n",
       "      <td>-0.755024</td>\n",
       "      <td>0.079015</td>\n",
       "      <td>-0.783880</td>\n",
       "      <td>K102990</td>\n",
       "      <td>F</td>\n",
       "      <td>CAT 100</td>\n",
       "      <td>ASAD170</td>\n",
       "      <td>Med</td>\n",
       "    </tr>\n",
       "    <tr>\n",
       "      <th>1</th>\n",
       "      <td>-0.489898</td>\n",
       "      <td>-0.335827</td>\n",
       "      <td>-0.243451</td>\n",
       "      <td>2.091732</td>\n",
       "      <td>0.651830</td>\n",
       "      <td>-0.080674</td>\n",
       "      <td>-0.307456</td>\n",
       "      <td>-0.579614</td>\n",
       "      <td>0.259163</td>\n",
       "      <td>-0.458260</td>\n",
       "      <td>K103280</td>\n",
       "      <td>M</td>\n",
       "      <td>CAT 100</td>\n",
       "      <td>S50</td>\n",
       "      <td>Med</td>\n",
       "    </tr>\n",
       "    <tr>\n",
       "      <th>2</th>\n",
       "      <td>-0.489898</td>\n",
       "      <td>-0.335827</td>\n",
       "      <td>1.063386</td>\n",
       "      <td>2.377387</td>\n",
       "      <td>0.152687</td>\n",
       "      <td>-0.225031</td>\n",
       "      <td>-0.993897</td>\n",
       "      <td>-1.347031</td>\n",
       "      <td>-0.325316</td>\n",
       "      <td>-0.817357</td>\n",
       "      <td>K103660</td>\n",
       "      <td>M</td>\n",
       "      <td>CAT 100</td>\n",
       "      <td>ASAD170</td>\n",
       "      <td>Med</td>\n",
       "    </tr>\n",
       "    <tr>\n",
       "      <th>3</th>\n",
       "      <td>-0.489898</td>\n",
       "      <td>2.258568</td>\n",
       "      <td>1.006966</td>\n",
       "      <td>-0.479163</td>\n",
       "      <td>0.302872</td>\n",
       "      <td>-0.070196</td>\n",
       "      <td>-0.120245</td>\n",
       "      <td>1.434855</td>\n",
       "      <td>-0.081116</td>\n",
       "      <td>-0.396795</td>\n",
       "      <td>K103730</td>\n",
       "      <td>M</td>\n",
       "      <td>CAT 100</td>\n",
       "      <td>ASAD170</td>\n",
       "      <td>Med</td>\n",
       "    </tr>\n",
       "    <tr>\n",
       "      <th>4</th>\n",
       "      <td>-0.489898</td>\n",
       "      <td>1.571816</td>\n",
       "      <td>1.530970</td>\n",
       "      <td>-0.764818</td>\n",
       "      <td>-0.019583</td>\n",
       "      <td>-0.276254</td>\n",
       "      <td>-0.557071</td>\n",
       "      <td>-0.661838</td>\n",
       "      <td>-0.289287</td>\n",
       "      <td>-0.709610</td>\n",
       "      <td>K104560</td>\n",
       "      <td>F</td>\n",
       "      <td>CAT 100</td>\n",
       "      <td>S50</td>\n",
       "      <td>Med</td>\n",
       "    </tr>\n",
       "  </tbody>\n",
       "</table>\n",
       "</div>"
      ],
      "text/plain": [
       "      CHURN       AGE  SERVICE_DURATION  DROPPED_CALLS  PEAK_CALLS_NO  \\\n",
       "0 -0.489898 -0.030604         -0.069958       0.949112      -0.032834   \n",
       "1 -0.489898 -0.335827         -0.243451       2.091732       0.651830   \n",
       "2 -0.489898 -0.335827          1.063386       2.377387       0.152687   \n",
       "3 -0.489898  2.258568          1.006966      -0.479163       0.302872   \n",
       "4 -0.489898  1.571816          1.530970      -0.764818      -0.019583   \n",
       "\n",
       "   PEAK_CALLS_TIME  WEEKEND_CALLS_NO  WEEKEND_CALLS_TIME  TOTAL_CALLS_NO  \\\n",
       "0        -0.617357         -0.432263           -0.755024        0.079015   \n",
       "1        -0.080674         -0.307456           -0.579614        0.259163   \n",
       "2        -0.225031         -0.993897           -1.347031       -0.325316   \n",
       "3        -0.070196         -0.120245            1.434855       -0.081116   \n",
       "4        -0.276254         -0.557071           -0.661838       -0.289287   \n",
       "\n",
       "   TOTAL_CALLS_TIME CUSTOMER_ID GENDER CHARGE_TYPE  HANDSET USAGE_BAND  \n",
       "0         -0.783880     K102990      F     CAT 100  ASAD170        Med  \n",
       "1         -0.458260     K103280      M     CAT 100      S50        Med  \n",
       "2         -0.817357     K103660      M     CAT 100  ASAD170        Med  \n",
       "3         -0.396795     K103730      M     CAT 100  ASAD170        Med  \n",
       "4         -0.709610     K104560      F     CAT 100      S50        Med  "
      ]
     },
     "execution_count": 92,
     "metadata": {},
     "output_type": "execute_result"
    }
   ],
   "source": [
    "#표준화 회귀 계수\n",
    "\n",
    "df_char = df_raw.select_dtypes(include = 'object') #object만 선택\n",
    "df_numeric = df_raw.select_dtypes(exclude = 'object')\n",
    "\n",
    "scaler = StandardScaler()\n",
    "np_numeric_scaled = scaler.fit_transform(df_numeric)\n",
    "df_numeric_scaled = pd.DataFrame(np_numeric_scaled, columns = df_numeric.columns)\n",
    "\n",
    "df_scaled = pd.concat([df_numeric_scaled, df_char], axis=1)\n",
    "df_scaled.head()"
   ]
  },
  {
   "cell_type": "code",
   "execution_count": 93,
   "metadata": {},
   "outputs": [
    {
     "data": {
      "text/html": [
       "<div>\n",
       "<style scoped>\n",
       "    .dataframe tbody tr th:only-of-type {\n",
       "        vertical-align: middle;\n",
       "    }\n",
       "\n",
       "    .dataframe tbody tr th {\n",
       "        vertical-align: top;\n",
       "    }\n",
       "\n",
       "    .dataframe thead th {\n",
       "        text-align: right;\n",
       "    }\n",
       "</style>\n",
       "<table border=\"1\" class=\"dataframe\">\n",
       "  <thead>\n",
       "    <tr style=\"text-align: right;\">\n",
       "      <th></th>\n",
       "      <th>CHURN</th>\n",
       "      <th>AGE</th>\n",
       "      <th>SERVICE_DURATION</th>\n",
       "      <th>DROPPED_CALLS</th>\n",
       "      <th>PEAK_CALLS_NO</th>\n",
       "      <th>PEAK_CALLS_TIME</th>\n",
       "      <th>WEEKEND_CALLS_NO</th>\n",
       "      <th>WEEKEND_CALLS_TIME</th>\n",
       "      <th>TOTAL_CALLS_NO</th>\n",
       "      <th>TOTAL_CALLS_TIME</th>\n",
       "      <th>CUSTOMER_ID</th>\n",
       "      <th>GENDER</th>\n",
       "      <th>CHARGE_TYPE</th>\n",
       "      <th>HANDSET</th>\n",
       "      <th>USAGE_BAND</th>\n",
       "    </tr>\n",
       "  </thead>\n",
       "  <tbody>\n",
       "    <tr>\n",
       "      <th>0</th>\n",
       "      <td>0</td>\n",
       "      <td>-0.030604</td>\n",
       "      <td>-0.069958</td>\n",
       "      <td>0.949112</td>\n",
       "      <td>-0.032834</td>\n",
       "      <td>-0.617357</td>\n",
       "      <td>-0.432263</td>\n",
       "      <td>-0.755024</td>\n",
       "      <td>0.079015</td>\n",
       "      <td>-0.783880</td>\n",
       "      <td>K102990</td>\n",
       "      <td>F</td>\n",
       "      <td>CAT 100</td>\n",
       "      <td>ASAD170</td>\n",
       "      <td>Med</td>\n",
       "    </tr>\n",
       "    <tr>\n",
       "      <th>1</th>\n",
       "      <td>0</td>\n",
       "      <td>-0.335827</td>\n",
       "      <td>-0.243451</td>\n",
       "      <td>2.091732</td>\n",
       "      <td>0.651830</td>\n",
       "      <td>-0.080674</td>\n",
       "      <td>-0.307456</td>\n",
       "      <td>-0.579614</td>\n",
       "      <td>0.259163</td>\n",
       "      <td>-0.458260</td>\n",
       "      <td>K103280</td>\n",
       "      <td>M</td>\n",
       "      <td>CAT 100</td>\n",
       "      <td>S50</td>\n",
       "      <td>Med</td>\n",
       "    </tr>\n",
       "    <tr>\n",
       "      <th>2</th>\n",
       "      <td>0</td>\n",
       "      <td>-0.335827</td>\n",
       "      <td>1.063386</td>\n",
       "      <td>2.377387</td>\n",
       "      <td>0.152687</td>\n",
       "      <td>-0.225031</td>\n",
       "      <td>-0.993897</td>\n",
       "      <td>-1.347031</td>\n",
       "      <td>-0.325316</td>\n",
       "      <td>-0.817357</td>\n",
       "      <td>K103660</td>\n",
       "      <td>M</td>\n",
       "      <td>CAT 100</td>\n",
       "      <td>ASAD170</td>\n",
       "      <td>Med</td>\n",
       "    </tr>\n",
       "    <tr>\n",
       "      <th>3</th>\n",
       "      <td>0</td>\n",
       "      <td>2.258568</td>\n",
       "      <td>1.006966</td>\n",
       "      <td>-0.479163</td>\n",
       "      <td>0.302872</td>\n",
       "      <td>-0.070196</td>\n",
       "      <td>-0.120245</td>\n",
       "      <td>1.434855</td>\n",
       "      <td>-0.081116</td>\n",
       "      <td>-0.396795</td>\n",
       "      <td>K103730</td>\n",
       "      <td>M</td>\n",
       "      <td>CAT 100</td>\n",
       "      <td>ASAD170</td>\n",
       "      <td>Med</td>\n",
       "    </tr>\n",
       "    <tr>\n",
       "      <th>4</th>\n",
       "      <td>0</td>\n",
       "      <td>1.571816</td>\n",
       "      <td>1.530970</td>\n",
       "      <td>-0.764818</td>\n",
       "      <td>-0.019583</td>\n",
       "      <td>-0.276254</td>\n",
       "      <td>-0.557071</td>\n",
       "      <td>-0.661838</td>\n",
       "      <td>-0.289287</td>\n",
       "      <td>-0.709610</td>\n",
       "      <td>K104560</td>\n",
       "      <td>F</td>\n",
       "      <td>CAT 100</td>\n",
       "      <td>S50</td>\n",
       "      <td>Med</td>\n",
       "    </tr>\n",
       "  </tbody>\n",
       "</table>\n",
       "</div>"
      ],
      "text/plain": [
       "   CHURN       AGE  SERVICE_DURATION  DROPPED_CALLS  PEAK_CALLS_NO  \\\n",
       "0      0 -0.030604         -0.069958       0.949112      -0.032834   \n",
       "1      0 -0.335827         -0.243451       2.091732       0.651830   \n",
       "2      0 -0.335827          1.063386       2.377387       0.152687   \n",
       "3      0  2.258568          1.006966      -0.479163       0.302872   \n",
       "4      0  1.571816          1.530970      -0.764818      -0.019583   \n",
       "\n",
       "   PEAK_CALLS_TIME  WEEKEND_CALLS_NO  WEEKEND_CALLS_TIME  TOTAL_CALLS_NO  \\\n",
       "0        -0.617357         -0.432263           -0.755024        0.079015   \n",
       "1        -0.080674         -0.307456           -0.579614        0.259163   \n",
       "2        -0.225031         -0.993897           -1.347031       -0.325316   \n",
       "3        -0.070196         -0.120245            1.434855       -0.081116   \n",
       "4        -0.276254         -0.557071           -0.661838       -0.289287   \n",
       "\n",
       "   TOTAL_CALLS_TIME CUSTOMER_ID GENDER CHARGE_TYPE  HANDSET USAGE_BAND  \n",
       "0         -0.783880     K102990      F     CAT 100  ASAD170        Med  \n",
       "1         -0.458260     K103280      M     CAT 100      S50        Med  \n",
       "2         -0.817357     K103660      M     CAT 100  ASAD170        Med  \n",
       "3         -0.396795     K103730      M     CAT 100  ASAD170        Med  \n",
       "4         -0.709610     K104560      F     CAT 100      S50        Med  "
      ]
     },
     "execution_count": 93,
     "metadata": {},
     "output_type": "execute_result"
    }
   ],
   "source": [
    "df_scaled['CHURN'] = np.where(df_scaled['CHURN']>0, 1, 0) #np.where : 조건\n",
    "df_scaled.head()"
   ]
  },
  {
   "cell_type": "code",
   "execution_count": 94,
   "metadata": {},
   "outputs": [],
   "source": [
    "#데이터분할\n",
    "df_scaled_train, df_scaled_test = train_test_split(df_scaled, test_size =0.3, random_state=1234)"
   ]
  },
  {
   "cell_type": "code",
   "execution_count": 95,
   "metadata": {},
   "outputs": [
    {
     "name": "stdout",
     "output_type": "stream",
     "text": [
      "Warning: Maximum number of iterations has been exceeded.\n",
      "         Current function value: 0.253230\n",
      "         Iterations: 35\n",
      "                           Logit Regression Results                           \n",
      "==============================================================================\n",
      "Dep. Variable:                  CHURN   No. Observations:                  651\n",
      "Model:                          Logit   Df Residuals:                      621\n",
      "Method:                           MLE   Df Model:                           29\n",
      "Date:                Mon, 22 Jul 2019   Pseudo R-squ.:                  0.5059\n",
      "Time:                        14:17:57   Log-Likelihood:                -164.85\n",
      "converged:                      False   LL-Null:                       -333.64\n",
      "                                        LLR p-value:                 2.736e-54\n",
      "==============================================================================================\n",
      "                                 coef    std err          z      P>|z|      [0.025      0.975]\n",
      "----------------------------------------------------------------------------------------------\n",
      "Intercept                    -22.6857   2065.401     -0.011      0.991   -4070.798    4025.427\n",
      "C(GENDER)[T.M]                -0.4510      0.315     -1.433      0.152      -1.068       0.166\n",
      "C(CHARGE_TYPE)[T.CAT 200]     -1.0671      0.640     -1.668      0.095      -2.321       0.187\n",
      "C(CHARGE_TYPE)[T.CAT 50]      -1.6795      0.897     -1.873      0.061      -3.437       0.078\n",
      "C(CHARGE_TYPE)[T.Play 100]     1.3482      0.725      1.860      0.063      -0.073       2.769\n",
      "C(CHARGE_TYPE)[T.Play 300]    -0.9498      0.822     -1.156      0.248      -2.560       0.660\n",
      "C(HANDSET)[T.ASAD90]          22.5141   2065.401      0.011      0.991   -4025.597    4070.626\n",
      "C(HANDSET)[T.BS110]           18.1048   2065.401      0.009      0.993   -4030.007    4066.216\n",
      "C(HANDSET)[T.BS210]           15.6798   2065.401      0.008      0.994   -4032.432    4063.792\n",
      "C(HANDSET)[T.CAS30]           21.3585   2065.401      0.010      0.992   -4026.753    4069.470\n",
      "C(HANDSET)[T.CAS60]          -35.9285   3.55e+11  -1.01e-10      1.000   -6.96e+11    6.96e+11\n",
      "C(HANDSET)[T.S50]             18.5695   2065.401      0.009      0.993   -4029.542    4066.681\n",
      "C(HANDSET)[T.S80]             17.3163   2065.401      0.008      0.993   -4030.795    4065.428\n",
      "C(HANDSET)[T.SOP10]           21.2285   2065.401      0.010      0.992   -4026.884    4069.341\n",
      "C(HANDSET)[T.SOP20]           50.5815   2.74e+06   1.85e-05      1.000   -5.37e+06    5.37e+06\n",
      "C(HANDSET)[T.WC95]           -17.8979    1.6e+07  -1.12e-06      1.000   -3.14e+07    3.14e+07\n",
      "C(USAGE_BAND)[T.Low]           6.3481      2.240      2.834      0.005       1.958      10.738\n",
      "C(USAGE_BAND)[T.Med]           3.6729      1.415      2.595      0.009       0.899       6.447\n",
      "C(USAGE_BAND)[T.MedHigh]       2.0429      0.991      2.061      0.039       0.100       3.985\n",
      "C(USAGE_BAND)[T.MedLow]        5.8815      1.779      3.305      0.001       2.394       9.369\n",
      "C(USAGE_BAND)[T.None]        -13.4331   1.55e+04     -0.001      0.999   -3.04e+04    3.03e+04\n",
      "AGE                           -0.2819      0.150     -1.878      0.060      -0.576       0.012\n",
      "SERVICE_DURATION              -0.4302      0.152     -2.832      0.005      -0.728      -0.132\n",
      "DROPPED_CALLS                  0.4791      0.138      3.465      0.001       0.208       0.750\n",
      "PEAK_CALLS_NO                 -0.2753      0.592     -0.465      0.642      -1.435       0.885\n",
      "PEAK_CALLS_TIME                1.2126      0.783      1.548      0.122      -0.323       2.748\n",
      "WEEKEND_CALLS_NO              -0.0866      0.213     -0.406      0.685      -0.504       0.331\n",
      "WEEKEND_CALLS_TIME             0.1655      0.213      0.776      0.438      -0.252       0.583\n",
      "TOTAL_CALLS_NO                 0.2635      0.606      0.435      0.664      -0.924       1.451\n",
      "TOTAL_CALLS_TIME               0.4637      0.869      0.534      0.593      -1.239       2.166\n",
      "==============================================================================================\n",
      "\n",
      "Possibly complete quasi-separation: A fraction 0.27 of observations can be\n",
      "perfectly predicted. This might indicate that there is complete\n",
      "quasi-separation. In this case some parameters will not be identified.\n"
     ]
    }
   ],
   "source": [
    "scaled_log_model = Logit.from_formula(\"\"\"CHURN ~ C(GENDER) + AGE + C(CHARGE_TYPE) + C(HANDSET) + C(USAGE_BAND)\n",
    "+ SERVICE_DURATION + DROPPED_CALLS + PEAK_CALLS_NO + PEAK_CALLS_TIME + WEEKEND_CALLS_NO + WEEKEND_CALLS_TIME\n",
    "+ TOTAL_CALLS_NO + TOTAL_CALLS_TIME\"\"\", df_scaled_train)\n",
    "\n",
    "scaled_log_result = scaled_log_model.fit()\n",
    "\n",
    "print(scaled_log_result.summary())"
   ]
  },
  {
   "cell_type": "code",
   "execution_count": 96,
   "metadata": {},
   "outputs": [
    {
     "data": {
      "text/plain": [
       "<matplotlib.axes._subplots.AxesSubplot at 0x7feb552d1860>"
      ]
     },
     "execution_count": 96,
     "metadata": {},
     "output_type": "execute_result"
    },
    {
     "data": {
      "image/png": "[encoded data removed]",
      "text/plain": [
       "<Figure size 432x288 with 1 Axes>"
      ]
     },
     "metadata": {
      "needs_background": "light"
     },
     "output_type": "display_data"
    }
   ],
   "source": [
    "#설명변수 중요도\n",
    "df_log_scaled_coef = pd.DataFrame({'Coef':scaled_log_result.params.values[1:]},\n",
    "                                 index = scaled_log_model.exog_names[1:])\n",
    "df_log_scaled_coef.plot.barh(y='Coef',legend=False)"
   ]
  },
  {
   "cell_type": "code",
   "execution_count": null,
   "metadata": {},
   "outputs": [],
   "source": []
  }
 ],
 "metadata": {
  "kernelspec": {
   "display_name": "Python 3",
   "language": "python",
   "name": "python3"
  },
  "language_info": {
   "codemirror_mode": {
    "name": "ipython",
    "version": 3
   },
   "file_extension": ".py",
   "mimetype": "text/x-python",
   "name": "python",
   "nbconvert_exporter": "python",
   "pygments_lexer": "ipython3",
   "version": "3.7.3"
  }
 },
 "nbformat": 4,
 "nbformat_minor": 2
}

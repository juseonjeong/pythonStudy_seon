{
 "cells": [
  {
   "cell_type": "markdown",
   "metadata": {},
   "source": [
    "### 파이썬 내장 함수\n",
    "1. 수치 연산 함수\n",
    "2. 시퀀스형/ 반복 가능한 자료형을 다루는 함수\n",
    "3. 변환 함수\n",
    "4. 객체 조사를 위한 함수\n",
    "5. 실행 관련 함수  \n",
    "  \n",
    "**※프로그램을 만들기 전에, 나에게 필요한 기능이 미리 구현되어 있는지 API문서 보기※**"
   ]
  },
  {
   "cell_type": "markdown",
   "metadata": {},
   "source": [
    "**1. 수치 연산 함수**\n",
    "* abs() : 인자로 숫자를 전달하면 그 숫자의 절대값을 반환하는 함수"
   ]
  },
  {
   "cell_type": "code",
   "execution_count": 1,
   "metadata": {},
   "outputs": [
    {
     "name": "stdout",
     "output_type": "stream",
     "text": [
      "abs(10) => 10\n"
     ]
    }
   ],
   "source": [
    "val = 10\n",
    "print('abs({}) => {}'.format(val, abs(val)))"
   ]
  },
  {
   "cell_type": "code",
   "execution_count": 2,
   "metadata": {},
   "outputs": [
    {
     "name": "stdout",
     "output_type": "stream",
     "text": [
      "abs(-10) => 10\n"
     ]
    }
   ],
   "source": [
    "val = -10\n",
    "print('abs({}) => {}'.format(val, abs(val)))"
   ]
  },
  {
   "cell_type": "code",
   "execution_count": 3,
   "metadata": {},
   "outputs": [
    {
     "name": "stdout",
     "output_type": "stream",
     "text": [
      "abs(-3.14) => 3.14\n"
     ]
    }
   ],
   "source": [
    "val = -3.14\n",
    "print('abs({}) => {}'.format(val, abs(val)))"
   ]
  },
  {
   "cell_type": "markdown",
   "metadata": {},
   "source": [
    "* divmod() : 첫 번째 인자를 두 번째 인자로 나눴을 때의 몫과 나머지를 튜플 객체로 반환하는 함수"
   ]
  },
  {
   "cell_type": "code",
   "execution_count": 4,
   "metadata": {},
   "outputs": [
    {
     "name": "stdout",
     "output_type": "stream",
     "text": [
      "divmod(9, 5) => 몫: 1, 나머지: 4\n"
     ]
    }
   ],
   "source": [
    "val1, val2 = 9, 5\n",
    "result_tuple = divmod(val1, val2)\n",
    "print('divmod({}, {}) => 몫: {}, 나머지: {}'.format(val1, val2, *result_tuple))"
   ]
  },
  {
   "cell_type": "markdown",
   "metadata": {},
   "source": [
    "* pow() : 첫 번째로 전달된 인자 값에 대해 두 번째로 전달된 인자 값으로 제곱한 결과를 반환하는 함수"
   ]
  },
  {
   "cell_type": "code",
   "execution_count": 8,
   "metadata": {},
   "outputs": [
    {
     "name": "stdout",
     "output_type": "stream",
     "text": [
      "pow(3, 2) => 9\n",
      "list(map(lambda x: pow(x, 2), [1, 2, 3, 4, 5])) => [1, 4, 9, 16, 25]\n"
     ]
    }
   ],
   "source": [
    "data_list = [1, 2, 3, 4, 5]\n",
    "print('pow({}, 2) => {}'.format(data_list[2], pow(data_list[2], 2)))\n",
    "print('list(map(lambda x: pow(x, 2), {})) => {}'\n",
    "      .format(data_list, list(map(lambda x: pow(x,2), data_list))))"
   ]
  },
  {
   "cell_type": "markdown",
   "metadata": {},
   "source": [
    "* all(): 반복 가능한 자료형인 list, tuple, set, dictionary, 문자열 등을 인자로 전달하여 항목 모두가 True로 평가되면 True를 반환하고, False로 평가되는 항목이 하나라도 있으면 False를 반환하는 함수"
   ]
  },
  {
   "cell_type": "code",
   "execution_count": 9,
   "metadata": {},
   "outputs": [
    {
     "name": "stdout",
     "output_type": "stream",
     "text": [
      "all([True, True, True]) => True\n",
      "all([10, 20, 30]) => True\n",
      "all([10, 20, 0]) => False\n"
     ]
    }
   ],
   "source": [
    "val = [True, True, True]\n",
    "print('all({}) => {}'.format(val, all(val)))\n",
    "\n",
    "val = [10, 20, 30]\n",
    "print('all({}) => {}'.format(val, all(val)))\n",
    "\n",
    "val = [10, 20, 0] #0으로 인해 False 반환\n",
    "print('all({}) => {}'.format(val, all(val)))"
   ]
  },
  {
   "cell_type": "code",
   "execution_count": 10,
   "metadata": {},
   "outputs": [
    {
     "name": "stdout",
     "output_type": "stream",
     "text": [
      "all([10, 20, '']) => False\n",
      "all([10, 20, False]) => False\n",
      "all([10, 20, None]) => False\n"
     ]
    }
   ],
   "source": [
    "val = [10, 20, \"\"] #공백문자열로 인해 False 반환\n",
    "print('all({}) => {}'.format(val, all(val)))\n",
    "\n",
    "val = [10, 20, False]\n",
    "print('all({}) => {}'.format(val, all(val)))\n",
    "\n",
    "val = [10, 20, None] #None 항목으로 인해 False 반환\n",
    "print('all({}) => {}'.format(val, all(val)))"
   ]
  },
  {
   "cell_type": "markdown",
   "metadata": {},
   "source": [
    "* any(): 반복 가능한 자료형인 list, tuple, set, dictionary, 문자열 등을 인자로 전달하여 항목 모두가 False로 평가되면 False를 반환하고, True로 평가되는 항목이 하나라도 있으면 True를 반환하는 함수"
   ]
  },
  {
   "cell_type": "code",
   "execution_count": 11,
   "metadata": {},
   "outputs": [
    {
     "name": "stdout",
     "output_type": "stream",
     "text": [
      "any([True, True, True]) => True\n",
      "any([10, 20, 30]) => True\n",
      "any([10, 20, 0]) => True\n"
     ]
    }
   ],
   "source": [
    "val = [True, True, True]\n",
    "print('any({}) => {}'.format(val, any(val)))\n",
    "\n",
    "val = [10, 20, 30]\n",
    "print('any({}) => {}'.format(val, any(val)))\n",
    "\n",
    "val = [10, 20, 0]\n",
    "print('any({}) => {}'.format(val, any(val)))"
   ]
  },
  {
   "cell_type": "code",
   "execution_count": 13,
   "metadata": {},
   "outputs": [
    {
     "name": "stdout",
     "output_type": "stream",
     "text": [
      "any([True, True, '']) => True\n",
      "any([10, 20, False]) => True\n",
      "any([10, 20, None]) => True\n",
      "any([False, False, False]) => False\n"
     ]
    }
   ],
   "source": [
    "val = [True, True, \"\"]\n",
    "print('any({}) => {}'.format(val, any(val)))\n",
    "\n",
    "val = [10, 20, False]\n",
    "print('any({}) => {}'.format(val, any(val)))\n",
    "\n",
    "val = [10, 20, None]\n",
    "print('any({}) => {}'.format(val, any(val)))\n",
    "\n",
    "val = [False, False, False]\n",
    "print('any({}) => {}'.format(val, any(val)))"
   ]
  },
  {
   "cell_type": "markdown",
   "metadata": {},
   "source": [
    "* enumerate(): list, tuple, 문자열과 같은 시퀀스형을 입력받아 인덱스를 포함하는 튜플 객체를 항목으로 구성하는 enumerate 객체를 반환하는 함수"
   ]
  },
  {
   "cell_type": "code",
   "execution_count": 16,
   "metadata": {},
   "outputs": [
    {
     "name": "stdout",
     "output_type": "stream",
     "text": [
      "data_list[0]: 10\n",
      "data_list[1]: 20\n",
      "data_list[2]: 30\n",
      "data_list[3]: 40\n",
      "data_list[4]: 50\n",
      "-------------------------\n",
      "<class 'tuple'>: 0, 10\n",
      "<class 'tuple'>: 1, 20\n",
      "<class 'tuple'>: 2, 30\n",
      "<class 'tuple'>: 3, 40\n",
      "<class 'tuple'>: 4, 50\n",
      "-------------------------\n",
      "<class 'tuple'>: 0, 10\n",
      "<class 'tuple'>: 1, 20\n",
      "<class 'tuple'>: 2, 30\n",
      "<class 'tuple'>: 3, 40\n",
      "<class 'tuple'>: 4, 50\n"
     ]
    }
   ],
   "source": [
    "data_list = [10, 20, 30, 40, 50]\n",
    "\n",
    "for idx, val in enumerate(data_list):\n",
    "    print('data_list[{}]: {}'.format(idx, val))\n",
    "\n",
    "print('-'*25)\n",
    "\n",
    "for obj in enumerate(data_list):\n",
    "    print('{}: {}, {}'.format(type(obj), obj[0], obj[1]))\n",
    "\n",
    "print('-'*25)\n",
    "\n",
    "for obj in enumerate(data_list):\n",
    "    print('{}: {}, {}'.format(type(obj), *obj))"
   ]
  },
  {
   "cell_type": "markdown",
   "metadata": {},
   "source": [
    "* filter(): 조건에 해당하는 항목을 걸러내는 함수"
   ]
  },
  {
   "cell_type": "code",
   "execution_count": 18,
   "metadata": {},
   "outputs": [
    {
     "name": "stdout",
     "output_type": "stream",
     "text": [
      "<class 'filter'>\n",
      "[2, 4, 6, 8, 10]\n"
     ]
    }
   ],
   "source": [
    "def iseven(num):\n",
    "    return num % 2 == 0\n",
    "\n",
    "numbers = [1, 2, 3, 4, 5, 6, 7, 8, 9, 10]\n",
    "\n",
    "#iseven함수가 True를 반환한 짝수값을 항목으로 하는 리스트 생성 후 반환\n",
    "ret_val = filter(iseven, numbers)\n",
    "# ret_val = filter(lambda n: n%2 ==0, numbers)\n",
    "print('{}'.format(type(ret_val)))\n",
    "print('{}'.format(list(ret_val)))"
   ]
  },
  {
   "cell_type": "markdown",
   "metadata": {},
   "source": [
    "**2. 시퀀스형/반복 가능한 자료형을 다루는 함수**\n",
    "* list(), tuple(), set(), dict()"
   ]
  },
  {
   "cell_type": "code",
   "execution_count": 19,
   "metadata": {},
   "outputs": [
    {
     "name": "stdout",
     "output_type": "stream",
     "text": [
      "list('Hello') => <class 'list'> ['H', 'e', 'l', 'l', 'o']\n"
     ]
    }
   ],
   "source": [
    "data_str = \"Hello\"\n",
    "data_list = list(data_str)\n",
    "print(\"list('{}') => {} {}\".format(data_str, type(data_list), data_list))"
   ]
  },
  {
   "cell_type": "code",
   "execution_count": 21,
   "metadata": {},
   "outputs": [
    {
     "name": "stdout",
     "output_type": "stream",
     "text": [
      "tuple(Hello) => <class 'tuple'> ('H', 'e', 'l', 'l', 'o')\n"
     ]
    }
   ],
   "source": [
    "data_tuple = tuple(data_list)\n",
    "print(\"tuple({}) => {} {}\".format(data_str, type(data_tuple), data_tuple))"
   ]
  },
  {
   "cell_type": "code",
   "execution_count": 22,
   "metadata": {},
   "outputs": [
    {
     "name": "stdout",
     "output_type": "stream",
     "text": [
      "set(('H', 'e', 'l', 'l', 'o')) => <class 'set'> {'o', 'e', 'l', 'H'}\n"
     ]
    }
   ],
   "source": [
    "data_set = set(data_tuple)\n",
    "print(\"set({}) => {} {}\".format(data_tuple, type(data_set), data_set))"
   ]
  },
  {
   "cell_type": "code",
   "execution_count": 23,
   "metadata": {},
   "outputs": [
    {
     "name": "stdout",
     "output_type": "stream",
     "text": [
      "dict({'o', 'e', 'l', 'H'}) => <class 'dict'> {0: 'o', 1: 'e', 2: 'l', 3: 'H'}\n"
     ]
    }
   ],
   "source": [
    "#인덱스와 값으로 구성된 tuple을 항목으로 하는 enumerate 객체 생성\n",
    "data_dict = dict(enumerate(data_set))\n",
    "print(\"dict({}) => {} {}\".format(data_set, type(data_dict), data_dict))"
   ]
  },
  {
   "cell_type": "markdown",
   "metadata": {},
   "source": [
    "* map(): 두 번째 인자로 반복 가능한 자료형을 전달 받아 자료형의 각 항목에 대해 첫 번째 인자로 전달 받은 함수를 적용한 결과를 맵 객체로 반환하는 함수"
   ]
  },
  {
   "cell_type": "code",
   "execution_count": 26,
   "metadata": {},
   "outputs": [
    {
     "name": "stdout",
     "output_type": "stream",
     "text": [
      "list(map(lambda x: x.upper(), ['a', 'b', 'c', 'd', 'e', 'f']))\n",
      "=> <class 'list'> ['A', 'B', 'C', 'D', 'E', 'F']\n"
     ]
    }
   ],
   "source": [
    "data_list = list('abcdef')\n",
    "\n",
    "result = list(map(lambda x: x.upper(), data_list))\n",
    "\n",
    "print(\"list(map(lambda x: x.upper(), {}))\\n=> {} {}\"\n",
    "      .format(data_list, type(result), result))"
   ]
  },
  {
   "cell_type": "markdown",
   "metadata": {},
   "source": [
    "* max(): 반복 가능한 자료형을 인자로 전달받아 항목 중 가장 큰 값 반환  \n",
    "* min(): 반복 가능한 자료형을 인자로 전달받아 항목 중 가장 작은 값 반환"
   ]
  },
  {
   "cell_type": "code",
   "execution_count": 32,
   "metadata": {},
   "outputs": [
    {
     "name": "stdout",
     "output_type": "stream",
     "text": [
      "[10, 25, 30, 45, 50] => min: 10, max: 50\n"
     ]
    }
   ],
   "source": [
    "data_list = [10, 25, 30, 45, 50]\n",
    "\n",
    "print(\"{} => min: {}, max: {}\".format(data_list, min(data_list), max(data_list)))"
   ]
  },
  {
   "cell_type": "markdown",
   "metadata": {},
   "source": [
    "* range(시작값, 종료값, 증감치): 시퀀스형 객체를 생성하는 함수"
   ]
  },
  {
   "cell_type": "code",
   "execution_count": 34,
   "metadata": {},
   "outputs": [
    {
     "name": "stdout",
     "output_type": "stream",
     "text": [
      "list(range(0, 10, 1)) => [0, 1, 2, 3, 4, 5, 6, 7, 8, 9]\n",
      "list(range(0, 10))    => [0, 1, 2, 3, 4, 5, 6, 7, 8, 9]\n",
      "list(range(10))       => [0, 1, 2, 3, 4, 5, 6, 7, 8, 9]\n"
     ]
    }
   ],
   "source": [
    "data_list1 = list(range(0, 10, 1))\n",
    "data_list2 = list(range(0, 10))\n",
    "data_list3 = list(range(10))\n",
    "\n",
    "print(\"list(range(0, 10, 1)) => {}\".format(data_list1))\n",
    "print(\"list(range(0, 10))    => {}\".format(data_list2))\n",
    "print(\"list(range(10))       => {}\".format(data_list3))"
   ]
  },
  {
   "cell_type": "markdown",
   "metadata": {},
   "source": [
    "* sorted(): 반복 가능한 자료형을 전달받아 정렬된 리스트를 생성해 반환하는 함수"
   ]
  },
  {
   "cell_type": "code",
   "execution_count": 35,
   "metadata": {},
   "outputs": [
    {
     "name": "stdout",
     "output_type": "stream",
     "text": [
      "<class 'list'> [3, 8, 12, 2, 5, 11]\n",
      "<class 'list'> [2, 3, 5, 8, 11, 12]\n",
      "-------------------------\n",
      "<class 'list'> [3, 8, 12, 2, 5, 11]\n",
      "<class 'list'> [2, 3, 5, 8, 11, 12]\n",
      "<class 'list'> [12, 11, 8, 5, 3, 2]\n"
     ]
    }
   ],
   "source": [
    "data_list = [3, 8, 12, 2, 5, 11]\n",
    "\n",
    "asc_result = sorted(data_list)\n",
    "\n",
    "print(\"{} {}\".format(type(data_list), data_list))\n",
    "print(\"{} {}\".format(type(asc_result), asc_result))\n",
    "\n",
    "print(\"-\"*25)\n",
    "\n",
    "desc_result = list(reversed(asc_result))\n",
    "print(\"{} {}\".format(type(data_list), data_list))\n",
    "print(\"{} {}\".format(type(asc_result), asc_result))\n",
    "print(\"{} {}\".format(type(desc_result), desc_result))"
   ]
  },
  {
   "cell_type": "markdown",
   "metadata": {},
   "source": [
    "* zip(): 둘 이상의 반복 가능한 자료형을 인자로 전달받아, 동일 위치의 항목을 묶어 튜플을 항목으로 구성하는 zip객체를 생성하는 함수"
   ]
  },
  {
   "cell_type": "code",
   "execution_count": 36,
   "metadata": {},
   "outputs": [
    {
     "name": "stdout",
     "output_type": "stream",
     "text": [
      "list(zip([1, 2, 3], [4, 5, 6])) => [(1, 4), (2, 5), (3, 6)]\n"
     ]
    }
   ],
   "source": [
    "data_list1 = [1, 2, 3]\n",
    "data_list2 = [4, 5, 6]\n",
    "data_list3 = ['a', 'b', 'c']\n",
    "\n",
    "print(\"list(zip({}, {})) => {}\"\n",
    "      .format(data_list1, data_list2, list(zip(data_list1, data_list2))))"
   ]
  },
  {
   "cell_type": "code",
   "execution_count": 38,
   "metadata": {},
   "outputs": [
    {
     "name": "stdout",
     "output_type": "stream",
     "text": [
      "list(zip([1, 2, 3], [4, 5, 6], ['a', 'b', 'c']))\n",
      "=> [(1, 4, 'a'), (2, 5, 'b'), (3, 6, 'c')]\n"
     ]
    }
   ],
   "source": [
    "print(\"list(zip({}, {}, {}))\\n=> {}\"\n",
    "      .format(data_list1, data_list2, data_list3, list(zip(data_list1, data_list2, data_list3))))"
   ]
  },
  {
   "cell_type": "code",
   "execution_count": 39,
   "metadata": {},
   "outputs": [
    {
     "name": "stdout",
     "output_type": "stream",
     "text": [
      "dict(zip(['a', 'b', 'c'], [1, 2, 3])) => {'a': 1, 'b': 2, 'c': 3}\n"
     ]
    }
   ],
   "source": [
    "print(\"dict(zip({}, {})) => {}\"\n",
    "      .format(data_list3, data_list1, dict(zip(data_list3, data_list1))))"
   ]
  },
  {
   "cell_type": "markdown",
   "metadata": {},
   "source": [
    "**3. 변환함수**\n",
    "* chr(): 정수 형태의 유니코드 값을 인자로 전달받아 해당 코드의 문자를 반환하는 함수\n",
    "* ord(): 문자를 인자로 전달 받아 유니코드 값(10진 정수)을 반환하는 함수\n",
    "* hex(): 10진 정수 값을 인자로 전달 받아 16진수로 변환된 값을 반환하는 함수"
   ]
  },
  {
   "cell_type": "code",
   "execution_count": 41,
   "metadata": {},
   "outputs": [
    {
     "name": "stdout",
     "output_type": "stream",
     "text": [
      "chr(65) => 'A'\n",
      "chr(97) => 'a'\n",
      "chr(ac00) => '가'\n"
     ]
    }
   ],
   "source": [
    "val = 65\n",
    "print(\"chr({}) => '{}'\".format(val, chr(val)))\n",
    "\n",
    "val = 97\n",
    "print(\"chr({}) => '{}'\".format(val, chr(val)))\n",
    "\n",
    "val = 0xac00\n",
    "print(\"chr({:x}) => '{}'\".format(val, chr(val)))"
   ]
  },
  {
   "cell_type": "code",
   "execution_count": 43,
   "metadata": {},
   "outputs": [
    {
     "name": "stdout",
     "output_type": "stream",
     "text": [
      "ord(A) => '65'\n",
      "ord(a) => '97'\n",
      "ord(가) => '44032'\n",
      "ord(가) => '0xac00'\n"
     ]
    }
   ],
   "source": [
    "val = \"A\"\n",
    "print(\"ord({}) => '{}'\".format(val, ord(val)))\n",
    "\n",
    "val = \"a\"\n",
    "print(\"ord({}) => '{}'\".format(val, ord(val)))\n",
    "\n",
    "val = \"가\"\n",
    "print(\"ord({}) => '{}'\".format(val, ord(val)))\n",
    "print(\"ord({}) => '{}'\".format(val, hex(ord(val))))"
   ]
  },
  {
   "cell_type": "markdown",
   "metadata": {},
   "source": [
    "* int(): 인자로 전달된 숫자 형식의 문자열, 부동소수점 숫자를 정수로 변환한 값을 반환하는 함수\n",
    "* float(): 인자로 전달된 숫자 형식의 문자열, 정수를 부동소수점 숫자로 변환한 값을 반환하는 함수\n",
    "* str(): 인자로 전달된 객체에 대한 문자열 변환 값을 반환하는 함수"
   ]
  },
  {
   "cell_type": "code",
   "execution_count": 48,
   "metadata": {},
   "outputs": [
    {
     "name": "stdout",
     "output_type": "stream",
     "text": [
      "2진수 표현인 문자열 '10' 은(는) 10진수 2로 변환됩니다.\n",
      "16진수 표현인 문자열 '3C' 은(는) 10진수 60로 변환됩니다.\n",
      "int(4.5)은 <class 'float'> 4.5을 <class 'int'> 4로 변환됩니다.\n",
      "int(10)은 <class 'str'> 10을 <class 'int'> 10로 변환됩니다.\n",
      "str(4.5)은 <class 'float'> 4.5을 <class 'str'> 4.5로 변환됩니다.\n"
     ]
    }
   ],
   "source": [
    "x = \"10\"\n",
    "y = \"3C\"\n",
    "z = 4.5\n",
    "\n",
    "print(\"2진수 표현인 문자열 '{}' 은(는) 10진수 {}로 변환됩니다.\"\n",
    "     .format(x, int(x, 2)))\n",
    "print(\"16진수 표현인 문자열 '{}' 은(는) 10진수 {}로 변환됩니다.\"\n",
    "     .format(y, int(y, 16)))\n",
    "print(\"int({1})은 {0} {1}을 {2} {3}로 변환됩니다.\"\n",
    "      .format(type(z), z, type(int(z)), int(z)))\n",
    "print(\"int({1})은 {0} {1}을 {2} {3}로 변환됩니다.\"\n",
    "      .format(type(x), x, type(int(x)), int(x)))\n",
    "print(\"str({1})은 {0} {1}을 {2} {3}로 변환됩니다.\"\n",
    "      .format(type(z), z, type(str(z)), str(z)))"
   ]
  },
  {
   "cell_type": "markdown",
   "metadata": {},
   "source": [
    "**4. 객체 조사를 위한 함수**\n",
    "* dir(): 인자로 전달된 객체가 가지고 있는 변수, 메서드와 같은 속성 정보를 리스트 객체로 반환, 인자를 전다랗지 않고 호출하면 현재 지역 스코프에 대한 정보를 리스트 객체로 반환"
   ]
  },
  {
   "cell_type": "code",
   "execution_count": 49,
   "metadata": {},
   "outputs": [
    {
     "name": "stdout",
     "output_type": "stream",
     "text": [
      "dir() => ['In', 'Out', '_', '_28', '_30', '_5', '__', '___', '__builtin__', '__builtins__', '__doc__', '__loader__', '__name__', '__package__', '__spec__', '_dh', '_i', '_i1', '_i10', '_i11', '_i12', '_i13', '_i14', '_i15', '_i16', '_i17', '_i18', '_i19', '_i2', '_i20', '_i21', '_i22', '_i23', '_i24', '_i25', '_i26', '_i27', '_i28', '_i29', '_i3', '_i30', '_i31', '_i32', '_i33', '_i34', '_i35', '_i36', '_i37', '_i38', '_i39', '_i4', '_i40', '_i41', '_i42', '_i43', '_i44', '_i45', '_i46', '_i47', '_i48', '_i49', '_i5', '_i6', '_i7', '_i8', '_i9', '_ih', '_ii', '_iii', '_oh', 'asc_result', 'data_dict', 'data_list', 'data_list1', 'data_list2', 'data_list3', 'data_set', 'data_str', 'data_tupe', 'data_tuple', 'desc_result', 'exit', 'get_ipython', 'idx', 'iseven', 'numbers', 'obj', 'quit', 'result', 'result_tuple', 'ret_val', 'val', 'val1', 'val2', 'x', 'y', 'z']\n"
     ]
    }
   ],
   "source": [
    "#지역 스코프에 대한 정보를 리스트 객체로 반환\n",
    "print(\"dir() => {}\".format(dir()))"
   ]
  },
  {
   "cell_type": "code",
   "execution_count": 50,
   "metadata": {},
   "outputs": [
    {
     "name": "stdout",
     "output_type": "stream",
     "text": [
      "dir(data_str) => ['__add__', '__class__', '__contains__', '__delattr__', '__dir__', '__doc__', '__eq__', '__format__', '__ge__', '__getattribute__', '__getitem__', '__getnewargs__', '__gt__', '__hash__', '__init__', '__init_subclass__', '__iter__', '__le__', '__len__', '__lt__', '__mod__', '__mul__', '__ne__', '__new__', '__reduce__', '__reduce_ex__', '__repr__', '__rmod__', '__rmul__', '__setattr__', '__sizeof__', '__str__', '__subclasshook__', 'capitalize', 'casefold', 'center', 'count', 'encode', 'endswith', 'expandtabs', 'find', 'format', 'format_map', 'index', 'isalnum', 'isalpha', 'isascii', 'isdecimal', 'isdigit', 'isidentifier', 'islower', 'isnumeric', 'isprintable', 'isspace', 'istitle', 'isupper', 'join', 'ljust', 'lower', 'lstrip', 'maketrans', 'partition', 'replace', 'rfind', 'rindex', 'rjust', 'rpartition', 'rsplit', 'rstrip', 'split', 'splitlines', 'startswith', 'strip', 'swapcase', 'title', 'translate', 'upper', 'zfill']\n"
     ]
    }
   ],
   "source": [
    "data_str = \"Hello, Python!\"\n",
    "#문자열이 가지고 있는 많은 메소드 정보를 리스트 객체에 담아 반환\n",
    "print(\"dir(data_str) => {}\".format(dir(data_str)))"
   ]
  },
  {
   "cell_type": "code",
   "execution_count": 51,
   "metadata": {},
   "outputs": [
    {
     "name": "stdout",
     "output_type": "stream",
     "text": [
      "dir(data_list) => ['__add__', '__class__', '__contains__', '__delattr__', '__delitem__', '__dir__', '__doc__', '__eq__', '__format__', '__ge__', '__getattribute__', '__getitem__', '__gt__', '__hash__', '__iadd__', '__imul__', '__init__', '__init_subclass__', '__iter__', '__le__', '__len__', '__lt__', '__mul__', '__ne__', '__new__', '__reduce__', '__reduce_ex__', '__repr__', '__reversed__', '__rmul__', '__setattr__', '__setitem__', '__sizeof__', '__str__', '__subclasshook__', 'append', 'clear', 'copy', 'count', 'extend', 'index', 'insert', 'pop', 'remove', 'reverse', 'sort']\n"
     ]
    }
   ],
   "source": [
    "data_list = [10, 20, 30, 40, 50]\n",
    "#정수형 리스트 객체가 가지고 있는 메소드 정보들을 리스트 객체에 담아 반환\n",
    "print(\"dir(data_list) => {}\".format(dir(data_list)))"
   ]
  },
  {
   "cell_type": "code",
   "execution_count": 52,
   "metadata": {},
   "outputs": [
    {
     "name": "stdout",
     "output_type": "stream",
     "text": [
      "dir(data_dict) => ['__class__', '__contains__', '__delattr__', '__delitem__', '__dir__', '__doc__', '__eq__', '__format__', '__ge__', '__getattribute__', '__getitem__', '__gt__', '__hash__', '__init__', '__init_subclass__', '__iter__', '__le__', '__len__', '__lt__', '__ne__', '__new__', '__reduce__', '__reduce_ex__', '__repr__', '__setattr__', '__setitem__', '__sizeof__', '__str__', '__subclasshook__', 'clear', 'copy', 'fromkeys', 'get', 'items', 'keys', 'pop', 'popitem', 'setdefault', 'update', 'values']\n"
     ]
    }
   ],
   "source": [
    "data_dict ={\"key1\": 10, \"key2\": 20, \"key3\": 30}\n",
    "#객체가 가지고 있는 메소드 정보들을 리스트 객체에 담아 반환\n",
    "print(\"dir(data_dict) => {}\".format(dir(data_dict)))"
   ]
  },
  {
   "cell_type": "markdown",
   "metadata": {},
   "source": [
    "* globals(): 현재의 전역 심볼 테이블을 보여주는 딕셔너리를 반환하는 함수  \n",
    "=> 전역변수와 함수, 클래스의 정보 포함  \n",
    "* locals(): 현재의 지역 심볼 테이블을 보여주는 딕셔너리 반환하는 함수   \n",
    "=> 매개변수를 포함한 지역변수와 중첩함수의 정보 포함"
   ]
  },
  {
   "cell_type": "code",
   "execution_count": 1,
   "metadata": {},
   "outputs": [],
   "source": [
    "class MyClass:\n",
    "    pass\n",
    "\n",
    "def test_fn(param):\n",
    "    def inner_fn():\n",
    "        pass\n",
    "    val1 = 5\n",
    "    val2 = 8\n",
    "    for item in locals().items():\n",
    "        print(\"\\t{} : {}\".format(item[0], item[1]))"
   ]
  },
  {
   "cell_type": "code",
   "execution_count": 2,
   "metadata": {},
   "outputs": [
    {
     "name": "stdout",
     "output_type": "stream",
     "text": [
      "globals()\n",
      "\t__name__ : __main__\n",
      "\t__doc__ : Automatically created module for IPython interactive environment\n",
      "\t__package__ : None\n",
      "\t__loader__ : None\n",
      "\t__spec__ : None\n",
      "\t__builtin__ : <module 'builtins' (built-in)>\n",
      "\t__builtins__ : <module 'builtins' (built-in)>\n",
      "\t_ih : ['', 'class MyClass:\\n    pass\\n\\ndef test_fn(param):\\n    def inner_fn():\\n        pass\\n    val1 = 5\\n    val2 = 8\\n    for item in locals().items():\\n        print(\"\\\\t{} : {}\".format(item[0], item[1]))', 'value1 = 10\\nvalue2 = 20\\nobj1 = MyClass()\\n\\ng = dict(globals())\\nprint(\"globals()\")\\nfor item in g.items():\\n    print(\"\\\\t{} : {}\".format(item[0], item[1]))\\n    \\nprint(\\'\\\\n\\\\nlocals()\\')\\ntest_fn(10)']\n",
      "\t_oh : {}\n",
      "\t_dh : ['C:\\\\Users\\\\sweet\\\\git_seon\\\\py_study']\n",
      "\tIn : ['', 'class MyClass:\\n    pass\\n\\ndef test_fn(param):\\n    def inner_fn():\\n        pass\\n    val1 = 5\\n    val2 = 8\\n    for item in locals().items():\\n        print(\"\\\\t{} : {}\".format(item[0], item[1]))', 'value1 = 10\\nvalue2 = 20\\nobj1 = MyClass()\\n\\ng = dict(globals())\\nprint(\"globals()\")\\nfor item in g.items():\\n    print(\"\\\\t{} : {}\".format(item[0], item[1]))\\n    \\nprint(\\'\\\\n\\\\nlocals()\\')\\ntest_fn(10)']\n",
      "\tOut : {}\n",
      "\tget_ipython : <bound method InteractiveShell.get_ipython of <ipykernel.zmqshell.ZMQInteractiveShell object at 0x00000216546A82B0>>\n",
      "\texit : <IPython.core.autocall.ZMQExitAutocall object at 0x00000216563A8FD0>\n",
      "\tquit : <IPython.core.autocall.ZMQExitAutocall object at 0x00000216563A8FD0>\n",
      "\t_ : \n",
      "\t__ : \n",
      "\t___ : \n",
      "\t_i : class MyClass:\n",
      "    pass\n",
      "\n",
      "def test_fn(param):\n",
      "    def inner_fn():\n",
      "        pass\n",
      "    val1 = 5\n",
      "    val2 = 8\n",
      "    for item in locals().items():\n",
      "        print(\"\\t{} : {}\".format(item[0], item[1]))\n",
      "\t_ii : \n",
      "\t_iii : \n",
      "\t_i1 : class MyClass:\n",
      "    pass\n",
      "\n",
      "def test_fn(param):\n",
      "    def inner_fn():\n",
      "        pass\n",
      "    val1 = 5\n",
      "    val2 = 8\n",
      "    for item in locals().items():\n",
      "        print(\"\\t{} : {}\".format(item[0], item[1]))\n",
      "\tMyClass : <class '__main__.MyClass'>\n",
      "\ttest_fn : <function test_fn at 0x00000216564A2F28>\n",
      "\t_i2 : value1 = 10\n",
      "value2 = 20\n",
      "obj1 = MyClass()\n",
      "\n",
      "g = dict(globals())\n",
      "print(\"globals()\")\n",
      "for item in g.items():\n",
      "    print(\"\\t{} : {}\".format(item[0], item[1]))\n",
      "    \n",
      "print('\\n\\nlocals()')\n",
      "test_fn(10)\n",
      "\tvalue1 : 10\n",
      "\tvalue2 : 20\n",
      "\tobj1 : <__main__.MyClass object at 0x00000216564D8128>\n",
      "\n",
      "\n",
      "locals()\n",
      "\tparam : 10\n",
      "\tinner_fn : <function test_fn.<locals>.inner_fn at 0x00000216564DA158>\n",
      "\tval1 : 5\n",
      "\tval2 : 8\n"
     ]
    }
   ],
   "source": [
    "value1 = 10\n",
    "value2 = 20\n",
    "obj1 = MyClass()\n",
    "\n",
    "g = dict(globals())\n",
    "print(\"globals()\")\n",
    "for item in g.items():\n",
    "    print(\"\\t{} : {}\".format(item[0], item[1]))\n",
    "    \n",
    "print('\\n\\nlocals()')\n",
    "test_fn(10)"
   ]
  },
  {
   "cell_type": "markdown",
   "metadata": {},
   "source": [
    "* id(): 인자로 전달된 객체의 고유 주소(참조값)를 반환하는 함수"
   ]
  },
  {
   "cell_type": "code",
   "execution_count": 3,
   "metadata": {},
   "outputs": [
    {
     "name": "stdout",
     "output_type": "stream",
     "text": [
      "<class 'int'> x의 주소 값: 0x7ffdb1c49460\n",
      "<class 'int'> y의 주소 값: 0x7ffdb1c49460\n",
      "<class 'str'> z의 주소 값: 0x216544c3c00\n"
     ]
    }
   ],
   "source": [
    "x = 10\n",
    "print(\"{} x의 주소 값: {}\".format(type(x), hex(id(x))))\n",
    "\n",
    "y = 10\n",
    "print(\"{} y의 주소 값: {}\".format(type(y), hex(id(y))))\n",
    "\n",
    "z = \"10\"\n",
    "print(\"{} z의 주소 값: {}\".format(type(z), hex(id(z))))"
   ]
  },
  {
   "cell_type": "markdown",
   "metadata": {},
   "source": [
    "**5. 실행 관련 함수**\n",
    "* eval(): 실행 가능한 표현식의 문자열을 인자로 전달받아 해당 문자열의 표현식을 실행한 결과값을 반환하는 함수"
   ]
  },
  {
   "cell_type": "code",
   "execution_count": 4,
   "metadata": {},
   "outputs": [
    {
     "name": "stdout",
     "output_type": "stream",
     "text": [
      "2 + 5 * 3 => 17\n",
      "'hello, python!'.upper() => HELLO, PYTHON!\n"
     ]
    }
   ],
   "source": [
    "expr = \"2 + 5 * 3\"\n",
    "print(\"{} => {}\".format(expr, eval(expr)))\n",
    "\n",
    "expr = \"'hello, python!'.upper()\"\n",
    "print(\"{} => {}\".format(expr, eval(expr)))"
   ]
  },
  {
   "cell_type": "markdown",
   "metadata": {},
   "source": [
    "### map(), filter() 활용"
   ]
  },
  {
   "cell_type": "code",
   "execution_count": 6,
   "metadata": {},
   "outputs": [
    {
     "name": "stdout",
     "output_type": "stream",
     "text": [
      "data_list: [1, 2, 3, 4, 5, 6, 7, 8, 9, 10, 11, 12, 13, 14, 15, 16, 17, 18, 19, 20]\n",
      "data_list에 대한 map 함수의 적용 결과: [6, 7, 8, 9, 10, 11, 12, 13, 14, 15, 16, 17, 18, 19, 20, 21, 22, 23, 24, 25]\n",
      "map_list에 대한 filter 함수의 적용 결과: [6, 9, 12, 15, 18, 21, 24]\n"
     ]
    }
   ],
   "source": [
    "data_list = list(range(1, 21))\n",
    "print('data_list: {}'.format(data_list))\n",
    "\n",
    "map_list = list(map(lambda x: x+5, data_list))\n",
    "print('data_list에 대한 map 함수의 적용 결과: {}'.format(map_list))\n",
    "\n",
    "filter_list = list(filter(lambda x: x%3 == 0, map_list))\n",
    "print('map_list에 대한 filter 함수의 적용 결과: {}'.format(filter_list))"
   ]
  }
 ],
 "metadata": {
  "kernelspec": {
   "display_name": "Python 3",
   "language": "python",
   "name": "python3"
  },
  "language_info": {
   "codemirror_mode": {
    "name": "ipython",
    "version": 3
   },
   "file_extension": ".py",
   "mimetype": "text/x-python",
   "name": "python",
   "nbconvert_exporter": "python",
   "pygments_lexer": "ipython3",
   "version": "3.7.3"
  }
 },
 "nbformat": 4,
 "nbformat_minor": 2
}

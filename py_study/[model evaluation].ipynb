{
 "cells": [
  {
   "cell_type": "markdown",
   "metadata": {},
   "source": [
    "**[p.488] 예제**"
   ]
  },
  {
   "cell_type": "code",
   "execution_count": 2,
   "metadata": {},
   "outputs": [
    {
     "name": "stdout",
     "output_type": "stream",
     "text": [
      "0.9564315352697096\n"
     ]
    }
   ],
   "source": [
    "accuracy = 461/482\n",
    "print(accuracy)"
   ]
  },
  {
   "cell_type": "code",
   "execution_count": 3,
   "metadata": {},
   "outputs": [
    {
     "name": "stdout",
     "output_type": "stream",
     "text": [
      "0.04356846473029041\n"
     ]
    }
   ],
   "source": [
    "misclassification = 1- accuracy\n",
    "print(misclassification)"
   ]
  },
  {
   "cell_type": "code",
   "execution_count": 4,
   "metadata": {},
   "outputs": [
    {
     "name": "stdout",
     "output_type": "stream",
     "text": [
      "0.7\n"
     ]
    }
   ],
   "source": [
    "sensitivity = 35/50\n",
    "print(sensitivity)"
   ]
  },
  {
   "cell_type": "code",
   "execution_count": 5,
   "metadata": {},
   "outputs": [
    {
     "name": "stdout",
     "output_type": "stream",
     "text": [
      "0.9861111111111112\n"
     ]
    }
   ],
   "source": [
    "specificity = 426/432\n",
    "print(specificity)"
   ]
  },
  {
   "cell_type": "markdown",
   "metadata": {},
   "source": [
    "## [채무상환 데이터]\n",
    "대출자들의 채무 상환 여부를 예측/ 분류하는 복수의 **분류 모델**을 실행하고 각 모델별 분류 정확도를 **오분류율** 기준으로 평가하시오.\n",
    "\n",
    "사용할 모델 : decision tree, random forest, gradient boost"
   ]
  },
  {
   "cell_type": "code",
   "execution_count": 102,
   "metadata": {},
   "outputs": [],
   "source": [
    "##패키지 불러오기\n",
    "\n",
    "import pandas as pd\n",
    "import numpy as np\n",
    "\n",
    "import matplotlib.pyplot as plt\n",
    "import matplotlib\n",
    "import matplotlib as mpl\n",
    "\n",
    "from sklearn.model_selection import train_test_split\n",
    "\n",
    "from sklearn.tree import DecisionTreeClassifier\n",
    "from sklearn.ensemble import RandomForestClassifier\n",
    "from sklearn.ensemble import GradientBoostingClassifier\n",
    "from sklearn.neighbors import KNeighborsClassifier\n",
    "\n",
    "\n",
    "from sklearn.model_selection import GridSearchCV\n",
    "\n",
    "from sklearn.metrics import f1_score, roc_curve, auc\n",
    "\n",
    "#경고창 제거\n",
    "import warnings\n",
    "warnings.filterwarnings('ignore')\n",
    "\n",
    "#한글 적용\n",
    "from matplotlib import font_manager, rc\n",
    "import matplotlib.font_manager as fm\n",
    "mpl.rc('font',family= 'Malgun Gothic')\n",
    "font_manager.get_fontconfig_fonts()\n",
    "fontname = '/usr/share/fonts/truetype/nanum/NanumGothic.ttf'\n",
    "fontname = font_manager.FontProperties(fname=fontname).get_name()\n",
    "plt.style.use('seaborn-white')\n",
    "rc('font', family=fontname)"
   ]
  },
  {
   "cell_type": "markdown",
   "metadata": {},
   "source": [
    "### 1. 데이터 구성하기"
   ]
  },
  {
   "cell_type": "code",
   "execution_count": 33,
   "metadata": {},
   "outputs": [
    {
     "data": {
      "text/html": [
       "<div>\n",
       "<style scoped>\n",
       "    .dataframe tbody tr th:only-of-type {\n",
       "        vertical-align: middle;\n",
       "    }\n",
       "\n",
       "    .dataframe tbody tr th {\n",
       "        vertical-align: top;\n",
       "    }\n",
       "\n",
       "    .dataframe thead th {\n",
       "        text-align: right;\n",
       "    }\n",
       "</style>\n",
       "<table border=\"1\" class=\"dataframe\">\n",
       "  <thead>\n",
       "    <tr style=\"text-align: right;\">\n",
       "      <th></th>\n",
       "      <th>BAD</th>\n",
       "      <th>LOAN</th>\n",
       "      <th>MORTDUE</th>\n",
       "      <th>VALUE</th>\n",
       "      <th>REASON</th>\n",
       "      <th>JOB</th>\n",
       "      <th>YOJ</th>\n",
       "      <th>DEROG</th>\n",
       "      <th>DELINQ</th>\n",
       "      <th>CLAGE</th>\n",
       "      <th>NINQ</th>\n",
       "      <th>CLNO</th>\n",
       "      <th>DEBTINC</th>\n",
       "    </tr>\n",
       "  </thead>\n",
       "  <tbody>\n",
       "    <tr>\n",
       "      <th>0</th>\n",
       "      <td>1</td>\n",
       "      <td>1700</td>\n",
       "      <td>30548</td>\n",
       "      <td>40320.0</td>\n",
       "      <td>HomeImp</td>\n",
       "      <td>Other</td>\n",
       "      <td>9.0</td>\n",
       "      <td>0</td>\n",
       "      <td>0.0</td>\n",
       "      <td>101.466002</td>\n",
       "      <td>1.0</td>\n",
       "      <td>8</td>\n",
       "      <td>37.113614</td>\n",
       "    </tr>\n",
       "    <tr>\n",
       "      <th>1</th>\n",
       "      <td>1</td>\n",
       "      <td>1800</td>\n",
       "      <td>28502</td>\n",
       "      <td>43034.0</td>\n",
       "      <td>HomeImp</td>\n",
       "      <td>Other</td>\n",
       "      <td>11.0</td>\n",
       "      <td>0</td>\n",
       "      <td>0.0</td>\n",
       "      <td>88.766030</td>\n",
       "      <td>0.0</td>\n",
       "      <td>8</td>\n",
       "      <td>36.884894</td>\n",
       "    </tr>\n",
       "    <tr>\n",
       "      <th>2</th>\n",
       "      <td>0</td>\n",
       "      <td>2300</td>\n",
       "      <td>102370</td>\n",
       "      <td>120953.0</td>\n",
       "      <td>HomeImp</td>\n",
       "      <td>Office</td>\n",
       "      <td>2.0</td>\n",
       "      <td>0</td>\n",
       "      <td>0.0</td>\n",
       "      <td>90.992533</td>\n",
       "      <td>0.0</td>\n",
       "      <td>13</td>\n",
       "      <td>31.588503</td>\n",
       "    </tr>\n",
       "    <tr>\n",
       "      <th>3</th>\n",
       "      <td>1</td>\n",
       "      <td>2400</td>\n",
       "      <td>34863</td>\n",
       "      <td>47471.0</td>\n",
       "      <td>HomeImp</td>\n",
       "      <td>Mgr</td>\n",
       "      <td>12.0</td>\n",
       "      <td>0</td>\n",
       "      <td>0.0</td>\n",
       "      <td>70.491080</td>\n",
       "      <td>1.0</td>\n",
       "      <td>21</td>\n",
       "      <td>38.263601</td>\n",
       "    </tr>\n",
       "    <tr>\n",
       "      <th>4</th>\n",
       "      <td>0</td>\n",
       "      <td>2400</td>\n",
       "      <td>98449</td>\n",
       "      <td>117195.0</td>\n",
       "      <td>HomeImp</td>\n",
       "      <td>Office</td>\n",
       "      <td>4.0</td>\n",
       "      <td>0</td>\n",
       "      <td>0.0</td>\n",
       "      <td>93.811775</td>\n",
       "      <td>0.0</td>\n",
       "      <td>13</td>\n",
       "      <td>29.681827</td>\n",
       "    </tr>\n",
       "  </tbody>\n",
       "</table>\n",
       "</div>"
      ],
      "text/plain": [
       "   BAD  LOAN  MORTDUE     VALUE   REASON     JOB   YOJ  DEROG  DELINQ  \\\n",
       "0    1  1700    30548   40320.0  HomeImp   Other   9.0      0     0.0   \n",
       "1    1  1800    28502   43034.0  HomeImp   Other  11.0      0     0.0   \n",
       "2    0  2300   102370  120953.0  HomeImp  Office   2.0      0     0.0   \n",
       "3    1  2400    34863   47471.0  HomeImp     Mgr  12.0      0     0.0   \n",
       "4    0  2400    98449  117195.0  HomeImp  Office   4.0      0     0.0   \n",
       "\n",
       "        CLAGE  NINQ  CLNO    DEBTINC  \n",
       "0  101.466002   1.0     8  37.113614  \n",
       "1   88.766030   0.0     8  36.884894  \n",
       "2   90.992533   0.0    13  31.588503  \n",
       "3   70.491080   1.0    21  38.263601  \n",
       "4   93.811775   0.0    13  29.681827  "
      ]
     },
     "execution_count": 33,
     "metadata": {},
     "output_type": "execute_result"
    }
   ],
   "source": [
    "df_raw = pd.read_csv(\"/home/pirl/Downloads/data2/HMEQ.csv\")\n",
    "df_raw.head()"
   ]
  },
  {
   "cell_type": "code",
   "execution_count": 34,
   "metadata": {},
   "outputs": [
    {
     "data": {
      "text/plain": [
       "BAD          0\n",
       "LOAN         0\n",
       "MORTDUE      0\n",
       "VALUE       14\n",
       "REASON       0\n",
       "JOB         81\n",
       "YOJ        205\n",
       "DEROG        0\n",
       "DELINQ      30\n",
       "CLAGE       37\n",
       "NINQ        56\n",
       "CLNO         0\n",
       "DEBTINC      0\n",
       "dtype: int64"
      ]
     },
     "execution_count": 34,
     "metadata": {},
     "output_type": "execute_result"
    }
   ],
   "source": [
    "#결측치 확인\n",
    "df_raw.isnull().sum()"
   ]
  },
  {
   "cell_type": "code",
   "execution_count": 35,
   "metadata": {},
   "outputs": [],
   "source": [
    "#결측치 대체\n",
    "\n",
    "#JOB 변수의 결측치는 other 로 대체\n",
    "df_raw['JOB'].fillna('Other', inplace = True) #fillna 함수 적용 후 df_raw 데이터에 저장 : inplace = True\n",
    "\n",
    "#숫자형 변수의 결측치는 평균값 입력\n",
    "df_raw.fillna(df_raw.mean(), inplace=True)"
   ]
  },
  {
   "cell_type": "code",
   "execution_count": 36,
   "metadata": {},
   "outputs": [
    {
     "data": {
      "text/html": [
       "<div>\n",
       "<style scoped>\n",
       "    .dataframe tbody tr th:only-of-type {\n",
       "        vertical-align: middle;\n",
       "    }\n",
       "\n",
       "    .dataframe tbody tr th {\n",
       "        vertical-align: top;\n",
       "    }\n",
       "\n",
       "    .dataframe thead th {\n",
       "        text-align: right;\n",
       "    }\n",
       "</style>\n",
       "<table border=\"1\" class=\"dataframe\">\n",
       "  <thead>\n",
       "    <tr style=\"text-align: right;\">\n",
       "      <th></th>\n",
       "      <th>BAD</th>\n",
       "      <th>LOAN</th>\n",
       "      <th>MORTDUE</th>\n",
       "      <th>VALUE</th>\n",
       "      <th>YOJ</th>\n",
       "      <th>DEROG</th>\n",
       "      <th>DELINQ</th>\n",
       "      <th>CLAGE</th>\n",
       "      <th>NINQ</th>\n",
       "      <th>CLNO</th>\n",
       "      <th>DEBTINC</th>\n",
       "      <th>REASON_DebtCon</th>\n",
       "      <th>REASON_HomeImp</th>\n",
       "      <th>JOB_Mgr</th>\n",
       "      <th>JOB_Office</th>\n",
       "      <th>JOB_Other</th>\n",
       "      <th>JOB_ProfExe</th>\n",
       "      <th>JOB_Sales</th>\n",
       "      <th>JOB_Self</th>\n",
       "    </tr>\n",
       "  </thead>\n",
       "  <tbody>\n",
       "    <tr>\n",
       "      <th>0</th>\n",
       "      <td>1</td>\n",
       "      <td>1700</td>\n",
       "      <td>30548</td>\n",
       "      <td>40320.0</td>\n",
       "      <td>9.0</td>\n",
       "      <td>0</td>\n",
       "      <td>0.0</td>\n",
       "      <td>101.466002</td>\n",
       "      <td>1.0</td>\n",
       "      <td>8</td>\n",
       "      <td>37.113614</td>\n",
       "      <td>0</td>\n",
       "      <td>1</td>\n",
       "      <td>0</td>\n",
       "      <td>0</td>\n",
       "      <td>1</td>\n",
       "      <td>0</td>\n",
       "      <td>0</td>\n",
       "      <td>0</td>\n",
       "    </tr>\n",
       "    <tr>\n",
       "      <th>1</th>\n",
       "      <td>1</td>\n",
       "      <td>1800</td>\n",
       "      <td>28502</td>\n",
       "      <td>43034.0</td>\n",
       "      <td>11.0</td>\n",
       "      <td>0</td>\n",
       "      <td>0.0</td>\n",
       "      <td>88.766030</td>\n",
       "      <td>0.0</td>\n",
       "      <td>8</td>\n",
       "      <td>36.884894</td>\n",
       "      <td>0</td>\n",
       "      <td>1</td>\n",
       "      <td>0</td>\n",
       "      <td>0</td>\n",
       "      <td>1</td>\n",
       "      <td>0</td>\n",
       "      <td>0</td>\n",
       "      <td>0</td>\n",
       "    </tr>\n",
       "    <tr>\n",
       "      <th>2</th>\n",
       "      <td>0</td>\n",
       "      <td>2300</td>\n",
       "      <td>102370</td>\n",
       "      <td>120953.0</td>\n",
       "      <td>2.0</td>\n",
       "      <td>0</td>\n",
       "      <td>0.0</td>\n",
       "      <td>90.992533</td>\n",
       "      <td>0.0</td>\n",
       "      <td>13</td>\n",
       "      <td>31.588503</td>\n",
       "      <td>0</td>\n",
       "      <td>1</td>\n",
       "      <td>0</td>\n",
       "      <td>1</td>\n",
       "      <td>0</td>\n",
       "      <td>0</td>\n",
       "      <td>0</td>\n",
       "      <td>0</td>\n",
       "    </tr>\n",
       "    <tr>\n",
       "      <th>3</th>\n",
       "      <td>1</td>\n",
       "      <td>2400</td>\n",
       "      <td>34863</td>\n",
       "      <td>47471.0</td>\n",
       "      <td>12.0</td>\n",
       "      <td>0</td>\n",
       "      <td>0.0</td>\n",
       "      <td>70.491080</td>\n",
       "      <td>1.0</td>\n",
       "      <td>21</td>\n",
       "      <td>38.263601</td>\n",
       "      <td>0</td>\n",
       "      <td>1</td>\n",
       "      <td>1</td>\n",
       "      <td>0</td>\n",
       "      <td>0</td>\n",
       "      <td>0</td>\n",
       "      <td>0</td>\n",
       "      <td>0</td>\n",
       "    </tr>\n",
       "    <tr>\n",
       "      <th>4</th>\n",
       "      <td>0</td>\n",
       "      <td>2400</td>\n",
       "      <td>98449</td>\n",
       "      <td>117195.0</td>\n",
       "      <td>4.0</td>\n",
       "      <td>0</td>\n",
       "      <td>0.0</td>\n",
       "      <td>93.811775</td>\n",
       "      <td>0.0</td>\n",
       "      <td>13</td>\n",
       "      <td>29.681827</td>\n",
       "      <td>0</td>\n",
       "      <td>1</td>\n",
       "      <td>0</td>\n",
       "      <td>1</td>\n",
       "      <td>0</td>\n",
       "      <td>0</td>\n",
       "      <td>0</td>\n",
       "      <td>0</td>\n",
       "    </tr>\n",
       "  </tbody>\n",
       "</table>\n",
       "</div>"
      ],
      "text/plain": [
       "   BAD  LOAN  MORTDUE     VALUE   YOJ  DEROG  DELINQ       CLAGE  NINQ  CLNO  \\\n",
       "0    1  1700    30548   40320.0   9.0      0     0.0  101.466002   1.0     8   \n",
       "1    1  1800    28502   43034.0  11.0      0     0.0   88.766030   0.0     8   \n",
       "2    0  2300   102370  120953.0   2.0      0     0.0   90.992533   0.0    13   \n",
       "3    1  2400    34863   47471.0  12.0      0     0.0   70.491080   1.0    21   \n",
       "4    0  2400    98449  117195.0   4.0      0     0.0   93.811775   0.0    13   \n",
       "\n",
       "     DEBTINC  REASON_DebtCon  REASON_HomeImp  JOB_Mgr  JOB_Office  JOB_Other  \\\n",
       "0  37.113614               0               1        0           0          1   \n",
       "1  36.884894               0               1        0           0          1   \n",
       "2  31.588503               0               1        0           1          0   \n",
       "3  38.263601               0               1        1           0          0   \n",
       "4  29.681827               0               1        0           1          0   \n",
       "\n",
       "   JOB_ProfExe  JOB_Sales  JOB_Self  \n",
       "0            0          0         0  \n",
       "1            0          0         0  \n",
       "2            0          0         0  \n",
       "3            0          0         0  \n",
       "4            0          0         0  "
      ]
     },
     "execution_count": 36,
     "metadata": {},
     "output_type": "execute_result"
    }
   ],
   "source": [
    "#더미변수 생성\n",
    "df_raw_dummy = pd.get_dummies(df_raw)\n",
    "df_raw_dummy.head()"
   ]
  },
  {
   "cell_type": "code",
   "execution_count": 37,
   "metadata": {},
   "outputs": [
    {
     "name": "stdout",
     "output_type": "stream",
     "text": [
      "train data X size : (2623, 18)\n",
      "train data Y size : (2623,)\n",
      "test data X size : (1125, 18)\n",
      "test data Y size : (1125,)\n"
     ]
    }
   ],
   "source": [
    "#목표변수, 설명변수 데이터 지정\n",
    "df_raw_y = df_raw_dummy['BAD']\n",
    "df_raw_x = df_raw_dummy.drop('BAD',axis=1,inplace=False)\n",
    "\n",
    "#데이터 분할 (train:test = 7:3)\n",
    "df_train_x,df_test_x,df_train_y,df_test_y = train_test_split(df_raw_x,df_raw_y,\n",
    "                                                            test_size=0.3, random_state=1234)\n",
    "\n",
    "print(\"train data X size : {}\".format(df_train_x.shape))\n",
    "print(\"train data Y size : {}\".format(df_train_y.shape))\n",
    "print(\"test data X size : {}\".format(df_test_x.shape))\n",
    "print(\"test data Y size : {}\".format(df_test_y.shape))"
   ]
  },
  {
   "cell_type": "markdown",
   "metadata": {},
   "source": [
    "### 2. 분류 모델 실행"
   ]
  },
  {
   "cell_type": "code",
   "execution_count": 41,
   "metadata": {},
   "outputs": [],
   "source": [
    "#분석모델\n",
    "model = ['Decision Tree', 'RandomForest', 'GradientBoosting']\n",
    "#정확도 저장\n",
    "train_accuracy = []; test_accuracy = []\n",
    "#f1 저장\n",
    "model_f1_score = []\n",
    "#auc score 저장\n",
    "model_auc = []"
   ]
  },
  {
   "cell_type": "code",
   "execution_count": 42,
   "metadata": {},
   "outputs": [],
   "source": [
    "## 의사결정 나무\n",
    "\n",
    "dt_model = DecisionTreeClassifier(max_depth=4, min_samples_leaf=30)\n",
    "dt_model.fit(df_train_x, df_train_y)\n",
    "\n",
    "#train 정확도\n",
    "train_accuracy.append(dt_model.score(df_train_x, df_train_y))\n",
    "#test 정확도\n",
    "test_accuracy.append(dt_model.score(df_test_x, df_test_y))\n",
    "#예측값\n",
    "y_pred = dt_model.predict(df_test_x)\n",
    "#roc curve\n",
    "fpr, tpr, thresholds = roc_curve(df_test_y, y_pred)\n",
    "roc_auc = auc(fpr, tpr)\n",
    "#auc저장\n",
    "model_auc.append(roc_auc)"
   ]
  },
  {
   "cell_type": "code",
   "execution_count": 43,
   "metadata": {},
   "outputs": [
    {
     "data": {
      "image/png": "[encoded data removed]",
      "text/plain": [
       "<Figure size 432x288 with 1 Axes>"
      ]
     },
     "metadata": {},
     "output_type": "display_data"
    }
   ],
   "source": [
    "plt.plot(fpr, label='AUC = %0.2f'%roc_auc)\n",
    "plt.legend(loc='lower right')\n",
    "plt.ylabel('TPR'); plt.xlabel('FRR')\n",
    "plt.show()"
   ]
  },
  {
   "cell_type": "code",
   "execution_count": 44,
   "metadata": {},
   "outputs": [],
   "source": [
    "model_f1_score.append(f1_score(df_test_y,y_pred))"
   ]
  },
  {
   "cell_type": "code",
   "execution_count": 45,
   "metadata": {},
   "outputs": [],
   "source": [
    "## 랜덤포레스트\n",
    "\n",
    "rf_model = RandomForestClassifier(min_samples_leaf=20, max_depth=4, n_estimators=100, random_state=1234)\n",
    "rf_model.fit(df_train_x,df_train_y)\n",
    "\n",
    "train_accuracy.append(rf_model.score(df_train_x,df_train_y))\n",
    "test_accuracy.append(rf_model.score(df_test_x, df_test_y))\n",
    "y_pred = rf_model.predict(df_test_x)\n",
    "#roc curve\n",
    "fpr, tpr, thresholds = roc_curve(df_test_y, y_pred)\n",
    "roc_auc = auc(fpr, tpr)\n",
    "#auc저장\n",
    "model_auc.append(roc_auc)"
   ]
  },
  {
   "cell_type": "code",
   "execution_count": 46,
   "metadata": {},
   "outputs": [
    {
     "data": {
      "image/png": "[encoded data removed]",
      "text/plain": [
       "<Figure size 432x288 with 1 Axes>"
      ]
     },
     "metadata": {},
     "output_type": "display_data"
    }
   ],
   "source": [
    "plt.plot(fpr, label='AUC = %0.2f'%roc_auc)\n",
    "plt.legend(loc='lower right')\n",
    "plt.ylabel('TPR'); plt.xlabel('FRR')\n",
    "plt.show()"
   ]
  },
  {
   "cell_type": "code",
   "execution_count": 47,
   "metadata": {},
   "outputs": [],
   "source": [
    "model_f1_score.append(f1_score(df_test_y, y_pred))"
   ]
  },
  {
   "cell_type": "code",
   "execution_count": 48,
   "metadata": {},
   "outputs": [],
   "source": [
    "## 그래디언트 부스팅\n",
    "\n",
    "gb_model = GradientBoostingClassifier(min_samples_leaf=10, max_depth=4, n_estimators=100,\n",
    "                                      learning_rate = 0.1, random_state=1234)\n",
    "gb_model.fit(df_train_x,df_train_y)\n",
    "\n",
    "train_accuracy.append(gb_model.score(df_train_x,df_train_y))\n",
    "test_accuracy.append(gb_model.score(df_test_x, df_test_y))\n",
    "y_pred = gb_model.predict(df_test_x)\n",
    "#roc curve\n",
    "fpr, tpr, thresholds = roc_curve(df_test_y, y_pred)\n",
    "roc_auc = auc(fpr, tpr)\n",
    "#auc저장\n",
    "model_auc.append(roc_auc)"
   ]
  },
  {
   "cell_type": "code",
   "execution_count": 49,
   "metadata": {},
   "outputs": [
    {
     "data": {
      "image/png": "[encoded data removed]",
      "text/plain": [
       "<Figure size 432x288 with 1 Axes>"
      ]
     },
     "metadata": {},
     "output_type": "display_data"
    }
   ],
   "source": [
    "plt.plot(fpr, label='AUC = %0.2f'%roc_auc)\n",
    "plt.legend(loc='lower right')\n",
    "plt.ylabel('TPR'); plt.xlabel('FRR')\n",
    "plt.show()"
   ]
  },
  {
   "cell_type": "code",
   "execution_count": 50,
   "metadata": {},
   "outputs": [],
   "source": [
    "model_f1_score.append(f1_score(df_test_y, y_pred))"
   ]
  },
  {
   "cell_type": "markdown",
   "metadata": {},
   "source": [
    "### 3. 모델별 정확도 산출 및 평가"
   ]
  },
  {
   "cell_type": "code",
   "execution_count": 67,
   "metadata": {},
   "outputs": [
    {
     "data": {
      "text/html": [
       "<div>\n",
       "<style scoped>\n",
       "    .dataframe tbody tr th:only-of-type {\n",
       "        vertical-align: middle;\n",
       "    }\n",
       "\n",
       "    .dataframe tbody tr th {\n",
       "        vertical-align: top;\n",
       "    }\n",
       "\n",
       "    .dataframe thead th {\n",
       "        text-align: right;\n",
       "    }\n",
       "</style>\n",
       "<table border=\"1\" class=\"dataframe\">\n",
       "  <thead>\n",
       "    <tr style=\"text-align: right;\">\n",
       "      <th></th>\n",
       "      <th>TrainAccuracy</th>\n",
       "      <th>TestAccuracy</th>\n",
       "      <th>F1Score</th>\n",
       "      <th>AUC</th>\n",
       "    </tr>\n",
       "  </thead>\n",
       "  <tbody>\n",
       "    <tr>\n",
       "      <th>Decision Tree</th>\n",
       "      <td>0.930</td>\n",
       "      <td>0.925</td>\n",
       "      <td>0.364</td>\n",
       "      <td>0.613</td>\n",
       "    </tr>\n",
       "    <tr>\n",
       "      <th>RandomForest</th>\n",
       "      <td>0.927</td>\n",
       "      <td>0.925</td>\n",
       "      <td>0.323</td>\n",
       "      <td>0.596</td>\n",
       "    </tr>\n",
       "    <tr>\n",
       "      <th>GradientBoosting</th>\n",
       "      <td>0.977</td>\n",
       "      <td>0.946</td>\n",
       "      <td>0.601</td>\n",
       "      <td>0.720</td>\n",
       "    </tr>\n",
       "  </tbody>\n",
       "</table>\n",
       "</div>"
      ],
      "text/plain": [
       "                  TrainAccuracy  TestAccuracy  F1Score    AUC\n",
       "Decision Tree             0.930         0.925    0.364  0.613\n",
       "RandomForest              0.927         0.925    0.323  0.596\n",
       "GradientBoosting          0.977         0.946    0.601  0.720"
      ]
     },
     "execution_count": 67,
     "metadata": {},
     "output_type": "execute_result"
    }
   ],
   "source": [
    "df_eval = pd.DataFrame(index=model)\n",
    "df_eval['TrainAccuracy'] = train_accuracy\n",
    "df_eval['TestAccuracy'] = test_accuracy\n",
    "df_eval['F1Score'] = model_f1_score\n",
    "df_eval['AUC'] = model_auc\n",
    "df_eval.round(3)"
   ]
  },
  {
   "cell_type": "code",
   "execution_count": 68,
   "metadata": {},
   "outputs": [
    {
     "data": {
      "image/png": "[encoded data removed]",
      "text/plain": [
       "<Figure size 432x288 with 1 Axes>"
      ]
     },
     "metadata": {},
     "output_type": "display_data"
    }
   ],
   "source": [
    "#정확도 bar plot 형성\n",
    "df_eval.plot.bar(rot=0)\n",
    "plt.legend(loc='lower right')\n",
    "plt.grid(axis='Y')"
   ]
  },
  {
   "cell_type": "markdown",
   "metadata": {},
   "source": [
    "Gradient Boosting 이 가장 높은 정확도와 F1-score , AUCfmf qhdlsek.\n",
    "\n",
    "Gradient Boosting > Decision Tree > RandomForest"
   ]
  },
  {
   "cell_type": "markdown",
   "metadata": {},
   "source": [
    "## [통신회사의 고객 이탈 데이터]\n",
    "통신회사의 고객 이탈 여부를 예측하기 위해 복수의 **분류모델**을 실행하고 각 모델별 분류 정확도를 **오분류율과 향상도** 기준으로 평가하시오.\n",
    "\n",
    "사용할 모델 : decision tree, random forest, gradient boost, KNN\n",
    "\n",
    "### 1. 데이터 구성하기"
   ]
  },
  {
   "cell_type": "code",
   "execution_count": 83,
   "metadata": {},
   "outputs": [
    {
     "data": {
      "text/html": [
       "<div>\n",
       "<style scoped>\n",
       "    .dataframe tbody tr th:only-of-type {\n",
       "        vertical-align: middle;\n",
       "    }\n",
       "\n",
       "    .dataframe tbody tr th {\n",
       "        vertical-align: top;\n",
       "    }\n",
       "\n",
       "    .dataframe thead th {\n",
       "        text-align: right;\n",
       "    }\n",
       "</style>\n",
       "<table border=\"1\" class=\"dataframe\">\n",
       "  <thead>\n",
       "    <tr style=\"text-align: right;\">\n",
       "      <th></th>\n",
       "      <th>CHURN</th>\n",
       "      <th>CUSTOMER_ID</th>\n",
       "      <th>GENDER</th>\n",
       "      <th>AGE</th>\n",
       "      <th>CHARGE_TYPE</th>\n",
       "      <th>HANDSET</th>\n",
       "      <th>USAGE_BAND</th>\n",
       "      <th>SERVICE_DURATION</th>\n",
       "      <th>DROPPED_CALLS</th>\n",
       "      <th>PEAK_CALLS_NO</th>\n",
       "      <th>PEAK_CALLS_TIME</th>\n",
       "      <th>WEEKEND_CALLS_NO</th>\n",
       "      <th>WEEKEND_CALLS_TIME</th>\n",
       "      <th>TOTAL_CALLS_NO</th>\n",
       "      <th>TOTAL_CALLS_TIME</th>\n",
       "    </tr>\n",
       "  </thead>\n",
       "  <tbody>\n",
       "    <tr>\n",
       "      <th>0</th>\n",
       "      <td>Active</td>\n",
       "      <td>K102990</td>\n",
       "      <td>F</td>\n",
       "      <td>31</td>\n",
       "      <td>CAT 100</td>\n",
       "      <td>ASAD170</td>\n",
       "      <td>Med</td>\n",
       "      <td>33.33</td>\n",
       "      <td>6</td>\n",
       "      <td>218</td>\n",
       "      <td>379.8</td>\n",
       "      <td>9</td>\n",
       "      <td>21.6</td>\n",
       "      <td>366</td>\n",
       "      <td>632.4</td>\n",
       "    </tr>\n",
       "    <tr>\n",
       "      <th>1</th>\n",
       "      <td>Active</td>\n",
       "      <td>K103280</td>\n",
       "      <td>M</td>\n",
       "      <td>27</td>\n",
       "      <td>CAT 100</td>\n",
       "      <td>S50</td>\n",
       "      <td>Med</td>\n",
       "      <td>30.87</td>\n",
       "      <td>10</td>\n",
       "      <td>373</td>\n",
       "      <td>656.4</td>\n",
       "      <td>11</td>\n",
       "      <td>28.0</td>\n",
       "      <td>411</td>\n",
       "      <td>810.4</td>\n",
       "    </tr>\n",
       "    <tr>\n",
       "      <th>2</th>\n",
       "      <td>Active</td>\n",
       "      <td>K103660</td>\n",
       "      <td>M</td>\n",
       "      <td>27</td>\n",
       "      <td>CAT 100</td>\n",
       "      <td>ASAD170</td>\n",
       "      <td>Med</td>\n",
       "      <td>49.40</td>\n",
       "      <td>11</td>\n",
       "      <td>260</td>\n",
       "      <td>582.0</td>\n",
       "      <td>0</td>\n",
       "      <td>0.0</td>\n",
       "      <td>265</td>\n",
       "      <td>614.1</td>\n",
       "    </tr>\n",
       "    <tr>\n",
       "      <th>3</th>\n",
       "      <td>Active</td>\n",
       "      <td>K103730</td>\n",
       "      <td>M</td>\n",
       "      <td>61</td>\n",
       "      <td>CAT 100</td>\n",
       "      <td>ASAD170</td>\n",
       "      <td>Med</td>\n",
       "      <td>48.60</td>\n",
       "      <td>1</td>\n",
       "      <td>294</td>\n",
       "      <td>661.8</td>\n",
       "      <td>14</td>\n",
       "      <td>101.5</td>\n",
       "      <td>326</td>\n",
       "      <td>844.0</td>\n",
       "    </tr>\n",
       "    <tr>\n",
       "      <th>4</th>\n",
       "      <td>Active</td>\n",
       "      <td>K104560</td>\n",
       "      <td>F</td>\n",
       "      <td>52</td>\n",
       "      <td>CAT 100</td>\n",
       "      <td>S50</td>\n",
       "      <td>Med</td>\n",
       "      <td>56.03</td>\n",
       "      <td>0</td>\n",
       "      <td>221</td>\n",
       "      <td>555.6</td>\n",
       "      <td>7</td>\n",
       "      <td>25.0</td>\n",
       "      <td>274</td>\n",
       "      <td>673.0</td>\n",
       "    </tr>\n",
       "  </tbody>\n",
       "</table>\n",
       "</div>"
      ],
      "text/plain": [
       "    CHURN CUSTOMER_ID GENDER  AGE CHARGE_TYPE  HANDSET USAGE_BAND  \\\n",
       "0  Active     K102990      F   31     CAT 100  ASAD170        Med   \n",
       "1  Active     K103280      M   27     CAT 100      S50        Med   \n",
       "2  Active     K103660      M   27     CAT 100  ASAD170        Med   \n",
       "3  Active     K103730      M   61     CAT 100  ASAD170        Med   \n",
       "4  Active     K104560      F   52     CAT 100      S50        Med   \n",
       "\n",
       "   SERVICE_DURATION  DROPPED_CALLS  PEAK_CALLS_NO  PEAK_CALLS_TIME  \\\n",
       "0             33.33              6            218            379.8   \n",
       "1             30.87             10            373            656.4   \n",
       "2             49.40             11            260            582.0   \n",
       "3             48.60              1            294            661.8   \n",
       "4             56.03              0            221            555.6   \n",
       "\n",
       "   WEEKEND_CALLS_NO  WEEKEND_CALLS_TIME  TOTAL_CALLS_NO  TOTAL_CALLS_TIME  \n",
       "0                 9                21.6             366             632.4  \n",
       "1                11                28.0             411             810.4  \n",
       "2                 0                 0.0             265             614.1  \n",
       "3                14               101.5             326             844.0  \n",
       "4                 7                25.0             274             673.0  "
      ]
     },
     "execution_count": 83,
     "metadata": {},
     "output_type": "execute_result"
    }
   ],
   "source": [
    "df_raw = pd.read_csv(\"/home/pirl/Downloads/data2/통신고객이탈.csv\")\n",
    "df_raw.head()"
   ]
  },
  {
   "cell_type": "code",
   "execution_count": 84,
   "metadata": {},
   "outputs": [
    {
     "data": {
      "text/plain": [
       "CHURN                 0\n",
       "CUSTOMER_ID           0\n",
       "GENDER                0\n",
       "AGE                   0\n",
       "CHARGE_TYPE           0\n",
       "HANDSET               0\n",
       "USAGE_BAND            0\n",
       "SERVICE_DURATION      0\n",
       "DROPPED_CALLS         0\n",
       "PEAK_CALLS_NO         0\n",
       "PEAK_CALLS_TIME       0\n",
       "WEEKEND_CALLS_NO      0\n",
       "WEEKEND_CALLS_TIME    0\n",
       "TOTAL_CALLS_NO        0\n",
       "TOTAL_CALLS_TIME      0\n",
       "dtype: int64"
      ]
     },
     "execution_count": 84,
     "metadata": {},
     "output_type": "execute_result"
    }
   ],
   "source": [
    "df_raw.isnull().sum()"
   ]
  },
  {
   "cell_type": "code",
   "execution_count": 85,
   "metadata": {},
   "outputs": [
    {
     "name": "stdout",
     "output_type": "stream",
     "text": [
      "CHURN : 2\n",
      "CUSTOMER_ID : 930\n",
      "GENDER : 2\n",
      "CHARGE_TYPE : 5\n",
      "HANDSET : 11\n",
      "USAGE_BAND : 6\n"
     ]
    }
   ],
   "source": [
    "#명목형 변수 목록\n",
    "obj_cols = df_raw.select_dtypes('object').columns\n",
    "for col in obj_cols :\n",
    "    _n = len(df_raw[col].value_counts())\n",
    "    print(col, \":\", str(_n))"
   ]
  },
  {
   "cell_type": "code",
   "execution_count": 86,
   "metadata": {},
   "outputs": [
    {
     "data": {
      "text/html": [
       "<div>\n",
       "<style scoped>\n",
       "    .dataframe tbody tr th:only-of-type {\n",
       "        vertical-align: middle;\n",
       "    }\n",
       "\n",
       "    .dataframe tbody tr th {\n",
       "        vertical-align: top;\n",
       "    }\n",
       "\n",
       "    .dataframe thead th {\n",
       "        text-align: right;\n",
       "    }\n",
       "</style>\n",
       "<table border=\"1\" class=\"dataframe\">\n",
       "  <thead>\n",
       "    <tr style=\"text-align: right;\">\n",
       "      <th></th>\n",
       "      <th>CHURN</th>\n",
       "      <th>CUSTOMER_ID</th>\n",
       "      <th>GENDER</th>\n",
       "      <th>AGE</th>\n",
       "      <th>CHARGE_TYPE</th>\n",
       "      <th>HANDSET</th>\n",
       "      <th>USAGE_BAND</th>\n",
       "      <th>SERVICE_DURATION</th>\n",
       "      <th>DROPPED_CALLS</th>\n",
       "      <th>PEAK_CALLS_NO</th>\n",
       "      <th>PEAK_CALLS_TIME</th>\n",
       "      <th>WEEKEND_CALLS_NO</th>\n",
       "      <th>WEEKEND_CALLS_TIME</th>\n",
       "      <th>TOTAL_CALLS_NO</th>\n",
       "      <th>TOTAL_CALLS_TIME</th>\n",
       "    </tr>\n",
       "  </thead>\n",
       "  <tbody>\n",
       "    <tr>\n",
       "      <th>0</th>\n",
       "      <td>0</td>\n",
       "      <td>K102990</td>\n",
       "      <td>F</td>\n",
       "      <td>31</td>\n",
       "      <td>CAT 100</td>\n",
       "      <td>ASAD170</td>\n",
       "      <td>Med</td>\n",
       "      <td>33.33</td>\n",
       "      <td>6</td>\n",
       "      <td>218</td>\n",
       "      <td>379.8</td>\n",
       "      <td>9</td>\n",
       "      <td>21.6</td>\n",
       "      <td>366</td>\n",
       "      <td>632.4</td>\n",
       "    </tr>\n",
       "    <tr>\n",
       "      <th>1</th>\n",
       "      <td>0</td>\n",
       "      <td>K103280</td>\n",
       "      <td>M</td>\n",
       "      <td>27</td>\n",
       "      <td>CAT 100</td>\n",
       "      <td>S50</td>\n",
       "      <td>Med</td>\n",
       "      <td>30.87</td>\n",
       "      <td>10</td>\n",
       "      <td>373</td>\n",
       "      <td>656.4</td>\n",
       "      <td>11</td>\n",
       "      <td>28.0</td>\n",
       "      <td>411</td>\n",
       "      <td>810.4</td>\n",
       "    </tr>\n",
       "    <tr>\n",
       "      <th>2</th>\n",
       "      <td>0</td>\n",
       "      <td>K103660</td>\n",
       "      <td>M</td>\n",
       "      <td>27</td>\n",
       "      <td>CAT 100</td>\n",
       "      <td>ASAD170</td>\n",
       "      <td>Med</td>\n",
       "      <td>49.40</td>\n",
       "      <td>11</td>\n",
       "      <td>260</td>\n",
       "      <td>582.0</td>\n",
       "      <td>0</td>\n",
       "      <td>0.0</td>\n",
       "      <td>265</td>\n",
       "      <td>614.1</td>\n",
       "    </tr>\n",
       "    <tr>\n",
       "      <th>3</th>\n",
       "      <td>0</td>\n",
       "      <td>K103730</td>\n",
       "      <td>M</td>\n",
       "      <td>61</td>\n",
       "      <td>CAT 100</td>\n",
       "      <td>ASAD170</td>\n",
       "      <td>Med</td>\n",
       "      <td>48.60</td>\n",
       "      <td>1</td>\n",
       "      <td>294</td>\n",
       "      <td>661.8</td>\n",
       "      <td>14</td>\n",
       "      <td>101.5</td>\n",
       "      <td>326</td>\n",
       "      <td>844.0</td>\n",
       "    </tr>\n",
       "    <tr>\n",
       "      <th>4</th>\n",
       "      <td>0</td>\n",
       "      <td>K104560</td>\n",
       "      <td>F</td>\n",
       "      <td>52</td>\n",
       "      <td>CAT 100</td>\n",
       "      <td>S50</td>\n",
       "      <td>Med</td>\n",
       "      <td>56.03</td>\n",
       "      <td>0</td>\n",
       "      <td>221</td>\n",
       "      <td>555.6</td>\n",
       "      <td>7</td>\n",
       "      <td>25.0</td>\n",
       "      <td>274</td>\n",
       "      <td>673.0</td>\n",
       "    </tr>\n",
       "  </tbody>\n",
       "</table>\n",
       "</div>"
      ],
      "text/plain": [
       "   CHURN CUSTOMER_ID GENDER  AGE CHARGE_TYPE  HANDSET USAGE_BAND  \\\n",
       "0      0     K102990      F   31     CAT 100  ASAD170        Med   \n",
       "1      0     K103280      M   27     CAT 100      S50        Med   \n",
       "2      0     K103660      M   27     CAT 100  ASAD170        Med   \n",
       "3      0     K103730      M   61     CAT 100  ASAD170        Med   \n",
       "4      0     K104560      F   52     CAT 100      S50        Med   \n",
       "\n",
       "   SERVICE_DURATION  DROPPED_CALLS  PEAK_CALLS_NO  PEAK_CALLS_TIME  \\\n",
       "0             33.33              6            218            379.8   \n",
       "1             30.87             10            373            656.4   \n",
       "2             49.40             11            260            582.0   \n",
       "3             48.60              1            294            661.8   \n",
       "4             56.03              0            221            555.6   \n",
       "\n",
       "   WEEKEND_CALLS_NO  WEEKEND_CALLS_TIME  TOTAL_CALLS_NO  TOTAL_CALLS_TIME  \n",
       "0                 9                21.6             366             632.4  \n",
       "1                11                28.0             411             810.4  \n",
       "2                 0                 0.0             265             614.1  \n",
       "3                14               101.5             326             844.0  \n",
       "4                 7                25.0             274             673.0  "
      ]
     },
     "execution_count": 86,
     "metadata": {},
     "output_type": "execute_result"
    }
   ],
   "source": [
    "df_raw['CHURN'] = np.where(df_raw['CHURN'] == 'Active',0,1)\n",
    "df_raw.head()"
   ]
  },
  {
   "cell_type": "code",
   "execution_count": 87,
   "metadata": {},
   "outputs": [
    {
     "data": {
      "text/plain": [
       "0    750\n",
       "1    180\n",
       "Name: CHURN, dtype: int64"
      ]
     },
     "execution_count": 87,
     "metadata": {},
     "output_type": "execute_result"
    }
   ],
   "source": [
    "df_raw['CHURN'].value_counts()"
   ]
  },
  {
   "cell_type": "markdown",
   "metadata": {},
   "source": [
    "### 2. 분류 모델링 과정에서 생성한 모델 실행"
   ]
  },
  {
   "cell_type": "code",
   "execution_count": 88,
   "metadata": {},
   "outputs": [],
   "source": [
    "#분석모델\n",
    "model = ['Decision Tree', 'RandomForest', 'GradientBoosting']\n",
    "#정확도 저장\n",
    "train_accuracy = []; test_accuracy = []\n",
    "#f1 저장\n",
    "model_f1_score = []\n",
    "#auc score 저장\n",
    "model_auc = []"
   ]
  },
  {
   "cell_type": "code",
   "execution_count": 89,
   "metadata": {},
   "outputs": [
    {
     "name": "stdout",
     "output_type": "stream",
     "text": [
      "best estimator model:\n",
      "DecisionTreeClassifier(class_weight=None, criterion='gini', max_depth=6,\n",
      "            max_features=None, max_leaf_nodes=None,\n",
      "            min_impurity_decrease=0.0, min_impurity_split=None,\n",
      "            min_samples_leaf=4, min_samples_split=10,\n",
      "            min_weight_fraction_leaf=0.0, presort=False, random_state=None,\n",
      "            splitter='best')\n",
      "\n",
      "best parameter:\n",
      "{'max_depth': 6, 'min_samples_leaf': 4, 'min_samples_split': 10}\n",
      "\n",
      "best score: \n",
      "0.936\n"
     ]
    }
   ],
   "source": [
    "#의사결정나무\n",
    "\n",
    "estimator = DecisionTreeClassifier()\n",
    "\n",
    "para_depth = [depth for depth in range(1,11)]\n",
    "para_split = [n_split * 10 for n_split in range(1,11)]\n",
    "para_leaf = [n_leaf * 2 for n_leaf in range(1,11)]\n",
    "\n",
    "param_grid={'max_depth': para_depth, 'min_samples_split': para_split, 'min_samples_leaf': para_leaf}\n",
    "grid_dt = GridSearchCV(estimator, param_grid, scoring='accuracy', n_jobs=-1)\n",
    "grid_dt.fit(df_train_x, df_train_y)\n",
    "\n",
    "print('best estimator model:\\n{}'.format(grid_dt.best_estimator_))\n",
    "print('\\nbest parameter:\\n{}'.format(grid_dt.best_params_))\n",
    "print('\\nbest score: \\n{}'.format(grid_dt.best_score_.round(3)))"
   ]
  },
  {
   "cell_type": "code",
   "execution_count": 90,
   "metadata": {},
   "outputs": [],
   "source": [
    "## 의사결정 나무\n",
    "\n",
    "dt_model = DecisionTreeClassifier(max_depth=10, min_samples_leaf=2, min_samples_split=10)\n",
    "dt_model.fit(df_train_x, df_train_y)\n",
    "\n",
    "#train 정확도\n",
    "train_accuracy.append(dt_model.score(df_train_x, df_train_y))\n",
    "#test 정확도\n",
    "test_accuracy.append(dt_model.score(df_test_x, df_test_y))\n",
    "#예측값\n",
    "y_pred = dt_model.predict(df_test_x)\n",
    "#roc curve\n",
    "fpr, tpr, thresholds = roc_curve(df_test_y, y_pred)\n",
    "roc_auc = auc(fpr, tpr)\n",
    "#auc저장\n",
    "model_auc.append(roc_auc)"
   ]
  },
  {
   "cell_type": "code",
   "execution_count": 91,
   "metadata": {},
   "outputs": [
    {
     "data": {
      "image/png": "[encoded data removed]",
      "text/plain": [
       "<Figure size 432x288 with 1 Axes>"
      ]
     },
     "metadata": {},
     "output_type": "display_data"
    }
   ],
   "source": [
    "plt.plot(fpr, label='AUC = %0.2f'%roc_auc)\n",
    "plt.legend(loc='lower right')\n",
    "plt.ylabel('TPR'); plt.xlabel('FRR')\n",
    "plt.show()"
   ]
  },
  {
   "cell_type": "code",
   "execution_count": 92,
   "metadata": {},
   "outputs": [],
   "source": [
    "model_f1_score.append(f1_score(df_test_y,y_pred))"
   ]
  },
  {
   "cell_type": "code",
   "execution_count": 93,
   "metadata": {},
   "outputs": [
    {
     "name": "stdout",
     "output_type": "stream",
     "text": [
      "best estimator model:\n",
      "RandomForestClassifier(bootstrap=True, class_weight=None, criterion='gini',\n",
      "            max_depth=9, max_features='auto', max_leaf_nodes=None,\n",
      "            min_impurity_decrease=0.0, min_impurity_split=None,\n",
      "            min_samples_leaf=10, min_samples_split=2,\n",
      "            min_weight_fraction_leaf=0.0, n_estimators=100, n_jobs=None,\n",
      "            oob_score=False, random_state=700, verbose=0, warm_start=False)\n",
      "\n",
      "best parameter:\n",
      "{'max_depth': 9, 'min_samples_leaf': 10}\n",
      "\n",
      "best score: \n",
      "0.928\n"
     ]
    }
   ],
   "source": [
    "#랜덤포레스트\n",
    "\n",
    "estimator = RandomForestClassifier(n_estimators=100, random_state=700)\n",
    "\n",
    "para_depth = [depth for depth in range(1,11)]\n",
    "para_leaf = [n_leaf * 10 for n_leaf in range(1,11)]\n",
    "\n",
    "param_grid={'max_depth': para_depth, 'min_samples_leaf': para_leaf}\n",
    "grid_rf = GridSearchCV(estimator, param_grid, scoring='accuracy', n_jobs=-1)\n",
    "grid_rf.fit(df_train_x, df_train_y)\n",
    "\n",
    "print('best estimator model:\\n{}'.format(grid_rf.best_estimator_))\n",
    "print('\\nbest parameter:\\n{}'.format(grid_rf.best_params_))\n",
    "print('\\nbest score: \\n{}'.format(grid_rf.best_score_.round(3)))"
   ]
  },
  {
   "cell_type": "code",
   "execution_count": 94,
   "metadata": {},
   "outputs": [],
   "source": [
    "## 랜덤포레스트\n",
    "\n",
    "rf_model = RandomForestClassifier(min_samples_leaf=10, max_depth=9, random_state=700)\n",
    "rf_model.fit(df_train_x,df_train_y)\n",
    "\n",
    "train_accuracy.append(rf_model.score(df_train_x,df_train_y))\n",
    "test_accuracy.append(rf_model.score(df_test_x, df_test_y))\n",
    "y_pred = rf_model.predict(df_test_x)\n",
    "#roc curve\n",
    "fpr, tpr, thresholds = roc_curve(df_test_y, y_pred)\n",
    "roc_auc = auc(fpr, tpr)\n",
    "#auc저장\n",
    "model_auc.append(roc_auc)"
   ]
  },
  {
   "cell_type": "code",
   "execution_count": 95,
   "metadata": {},
   "outputs": [
    {
     "data": {
      "image/png": "[encoded data removed]",
      "text/plain": [
       "<Figure size 432x288 with 1 Axes>"
      ]
     },
     "metadata": {},
     "output_type": "display_data"
    }
   ],
   "source": [
    "plt.plot(fpr, label='AUC = %0.2f'%roc_auc)\n",
    "plt.legend(loc='lower right')\n",
    "plt.ylabel('TPR'); plt.xlabel('FRR')\n",
    "plt.show()"
   ]
  },
  {
   "cell_type": "code",
   "execution_count": 96,
   "metadata": {},
   "outputs": [],
   "source": [
    "model_f1_score.append(f1_score(df_test_y, y_pred))"
   ]
  },
  {
   "cell_type": "code",
   "execution_count": 97,
   "metadata": {},
   "outputs": [
    {
     "name": "stdout",
     "output_type": "stream",
     "text": [
      "best estimator model:\n",
      "GradientBoostingClassifier(criterion='friedman_mse', init=None,\n",
      "              learning_rate=0.4, loss='deviance', max_depth=7,\n",
      "              max_features=None, max_leaf_nodes=None,\n",
      "              min_impurity_decrease=0.0, min_impurity_split=None,\n",
      "              min_samples_leaf=10, min_samples_split=2,\n",
      "              min_weight_fraction_leaf=0.0, n_estimators=100,\n",
      "              n_iter_no_change=None, presort='auto', random_state=700,\n",
      "              subsample=1.0, tol=0.0001, validation_fraction=0.1,\n",
      "              verbose=0, warm_start=False)\n",
      "\n",
      "best parameter:\n",
      "{'learning_rate': 0.4, 'max_depth': 7, 'min_samples_leaf': 10}\n",
      "\n",
      "best score: \n",
      "0.949\n"
     ]
    }
   ],
   "source": [
    "#그래디언트 부스팅\n",
    "\n",
    "estimator = GradientBoostingClassifier(n_estimators=100, random_state=700)\n",
    "\n",
    "para_lr = [lr * 0.1 for lr in range(1,10)]\n",
    "para_depth = [depth for depth in range(1,11)]\n",
    "para_leaf = [n_leaf * 10 for n_leaf in range(1,11)]\n",
    "\n",
    "param_grid={'learning_rate': para_lr,'max_depth': para_depth, 'min_samples_leaf': para_leaf}\n",
    "grid_gb = GridSearchCV(estimator, param_grid, scoring='accuracy', n_jobs=-1)\n",
    "grid_gb.fit(df_train_x, df_train_y)\n",
    "\n",
    "print('best estimator model:\\n{}'.format(grid_gb.best_estimator_))\n",
    "print('\\nbest parameter:\\n{}'.format(grid_gb.best_params_))\n",
    "print('\\nbest score: \\n{}'.format(grid_gb.best_score_.round(3)))"
   ]
  },
  {
   "cell_type": "code",
   "execution_count": 98,
   "metadata": {},
   "outputs": [],
   "source": [
    "## 그래디언트 부스팅\n",
    "\n",
    "gb_model = GradientBoostingClassifier(min_samples_leaf=10, max_depth=7, learning_rate = 0.4, \n",
    "                                      random_state=700)\n",
    "gb_model.fit(df_train_x,df_train_y)\n",
    "\n",
    "train_accuracy.append(gb_model.score(df_train_x,df_train_y))\n",
    "test_accuracy.append(gb_model.score(df_test_x, df_test_y))\n",
    "y_pred = gb_model.predict(df_test_x)\n",
    "#roc curve\n",
    "fpr, tpr, thresholds = roc_curve(df_test_y, y_pred)\n",
    "roc_auc = auc(fpr, tpr)\n",
    "#auc저장\n",
    "model_auc.append(roc_auc)"
   ]
  },
  {
   "cell_type": "code",
   "execution_count": 99,
   "metadata": {},
   "outputs": [
    {
     "data": {
      "image/png": "[encoded data removed]",
      "text/plain": [
       "<Figure size 432x288 with 1 Axes>"
      ]
     },
     "metadata": {},
     "output_type": "display_data"
    }
   ],
   "source": [
    "plt.plot(fpr, label='AUC = %0.2f'%roc_auc)\n",
    "plt.legend(loc='lower right')\n",
    "plt.ylabel('TPR'); plt.xlabel('FRR')\n",
    "plt.show()"
   ]
  },
  {
   "cell_type": "code",
   "execution_count": 100,
   "metadata": {},
   "outputs": [],
   "source": [
    "model_f1_score.append(f1_score(df_test_y, y_pred))"
   ]
  },
  {
   "cell_type": "code",
   "execution_count": 104,
   "metadata": {},
   "outputs": [
    {
     "name": "stdout",
     "output_type": "stream",
     "text": [
      "Accuracy on traing set:0.916\n",
      "Accuracy on test set:0.908\n"
     ]
    }
   ],
   "source": [
    "#KNN\n",
    "\n",
    "knn_uncustomized = KNeighborsClassifier()\n",
    "knn_uncustomized.fit(df_train_x, df_train_y)\n",
    "print('Accuracy on traing set:{:.3f}'.format(knn_uncustomized.score(df_train_x,df_train_y)))\n",
    "print('Accuracy on test set:{:.3f}'.format(knn_uncustomized.score(df_test_x,df_test_y)))"
   ]
  },
  {
   "cell_type": "code",
   "execution_count": 105,
   "metadata": {},
   "outputs": [
    {
     "data": {
      "text/plain": [
       "KNeighborsClassifier(algorithm='auto', leaf_size=30, metric='minkowski',\n",
       "           metric_params=None, n_jobs=None, n_neighbors=5, p=2,\n",
       "           weights='uniform')"
      ]
     },
     "execution_count": 105,
     "metadata": {},
     "output_type": "execute_result"
    }
   ],
   "source": [
    "knn_uncustomized"
   ]
  },
  {
   "cell_type": "code",
   "execution_count": 106,
   "metadata": {},
   "outputs": [],
   "source": [
    "## KNN\n",
    "\n",
    "knn_model = KNeighborsClassifier(n_neighbors=5, weights='uniform', metric='minkowski')\n",
    "knn_model.fit(df_train_x,df_train_y)\n",
    "\n",
    "train_accuracy.append(knn_model.score(df_train_x,df_train_y))\n",
    "test_accuracy.append(knn_model.score(df_test_x, df_test_y))\n",
    "y_pred = knn_model.predict(df_test_x)\n",
    "#roc curve\n",
    "fpr, tpr, thresholds = roc_curve(df_test_y, y_pred)\n",
    "roc_auc = auc(fpr, tpr)\n",
    "#auc저장\n",
    "model_auc.append(roc_auc)"
   ]
  },
  {
   "cell_type": "code",
   "execution_count": 107,
   "metadata": {},
   "outputs": [
    {
     "data": {
      "image/png": "[encoded data removed]",
      "text/plain": [
       "<Figure size 432x288 with 1 Axes>"
      ]
     },
     "metadata": {},
     "output_type": "display_data"
    }
   ],
   "source": [
    "plt.plot(fpr, label='AUC = %0.2f'%roc_auc)\n",
    "plt.legend(loc='lower right')\n",
    "plt.ylabel('TPR'); plt.xlabel('FRR')\n",
    "plt.show()"
   ]
  },
  {
   "cell_type": "code",
   "execution_count": 108,
   "metadata": {},
   "outputs": [],
   "source": [
    "model_f1_score.append(f1_score(df_test_y, y_pred))"
   ]
  },
  {
   "cell_type": "markdown",
   "metadata": {},
   "source": [
    "### 3. 모델별 오분류율 산출 및 평가"
   ]
  },
  {
   "cell_type": "code",
   "execution_count": 101,
   "metadata": {},
   "outputs": [],
   "source": [
    "from sklearn.metrics import confusion_matrix"
   ]
  },
  {
   "cell_type": "code",
   "execution_count": 110,
   "metadata": {},
   "outputs": [
    {
     "name": "stdout",
     "output_type": "stream",
     "text": [
      "1. Decision Tree\n",
      "Accuracy on training set:0.957\n",
      "Accuracy on test set:0.938\n",
      "Confusion matrix:\n",
      "[[1015    6]\n",
      " [  64   40]]\n",
      "\n",
      "2. Random Forest\n",
      "Accuracy on training set:0.936\n",
      "Accuracy on test set:0.927\n",
      "Confusion matrix:\n",
      "[[1021    0]\n",
      " [  82   22]]\n",
      "\n",
      "3. Gradient Boosting\n",
      "Accuracy on training set:1.000\n",
      "Accuracy on test set:0.948\n",
      "Confusion matrix:\n",
      "[[1019    2]\n",
      " [  57   47]]\n",
      "\n",
      "4. KNN\n",
      "Accuracy on training set:0.916\n",
      "Accuracy on test set:0.908\n",
      "Confusion matrix:\n",
      "[[1010   11]\n",
      " [  93   11]]\n"
     ]
    }
   ],
   "source": [
    "#모델별 confusion matrix\n",
    "print('1. Decision Tree')\n",
    "print(\"Accuracy on training set:{0:.3f}\".format(dt_model.score(df_train_x, df_train_y)))\n",
    "print(\"Accuracy on test set:{0:.3f}\".format(dt_model.score(df_test_x,df_test_y)))\n",
    "y_pred = dt_model.predict(df_test_x)\n",
    "print('Confusion matrix:\\n{}'.format(confusion_matrix(df_test_y, y_pred)))\n",
    "\n",
    "\n",
    "print('\\n2. Random Forest')\n",
    "print(\"Accuracy on training set:{0:.3f}\".format(rf_model.score(df_train_x, df_train_y)))\n",
    "print(\"Accuracy on test set:{0:.3f}\".format(rf_model.score(df_test_x,df_test_y)))\n",
    "y_pred = rf_model.predict(df_test_x)\n",
    "print('Confusion matrix:\\n{}'.format(confusion_matrix(df_test_y, y_pred)))\n",
    "\n",
    "\n",
    "print('\\n3. Gradient Boosting')\n",
    "print(\"Accuracy on training set:{0:.3f}\".format(gb_model.score(df_train_x, df_train_y)))\n",
    "print(\"Accuracy on test set:{0:.3f}\".format(gb_model.score(df_test_x,df_test_y)))\n",
    "y_pred = gb_model.predict(df_test_x)\n",
    "print('Confusion matrix:\\n{}'.format(confusion_matrix(df_test_y, y_pred)))\n",
    "\n",
    "\n",
    "print('\\n4. KNN')\n",
    "print(\"Accuracy on training set:{0:.3f}\".format(knn_model.score(df_train_x, df_train_y)))\n",
    "print(\"Accuracy on test set:{0:.3f}\".format(knn_model.score(df_test_x,df_test_y)))\n",
    "y_pred = knn_model.predict(df_test_x)\n",
    "print('Confusion matrix:\\n{}'.format(confusion_matrix(df_test_y, y_pred)))"
   ]
  },
  {
   "cell_type": "code",
   "execution_count": 119,
   "metadata": {},
   "outputs": [
    {
     "name": "stdout",
     "output_type": "stream",
     "text": [
      "1. Decision Tree\n",
      "0.062\n",
      "\n",
      "2. Random Forest\n",
      "0.073\n",
      "\n",
      "3. Gradient Boosting\n",
      "0.052\n",
      "\n",
      "4. KNN\n",
      "0.092\n"
     ]
    }
   ],
   "source": [
    "print('1. Decision Tree')\n",
    "print(\"%.3f\" % (70/1125))\n",
    "\n",
    "print('\\n2. Random Forest')\n",
    "print(\"%.3f\" % (82/1125))\n",
    "\n",
    "print('\\n3. Gradient Boosting')\n",
    "print(\"%.3f\" % (59/1125))\n",
    "\n",
    "print('\\n4. KNN')\n",
    "print(\"%.3f\" % (104/1125))"
   ]
  },
  {
   "cell_type": "markdown",
   "metadata": {},
   "source": [
    "오분류율은 그래디언트 부스팅이 가장 낮고, 그 다음 의사결정나무, 랜덤포레스트, KNN 순서이다.\n",
    "\n",
    "### 4. 모델별 향상도 산출 및 평가"
   ]
  },
  {
   "cell_type": "code",
   "execution_count": null,
   "metadata": {},
   "outputs": [],
   "source": []
  }
 ],
 "metadata": {
  "kernelspec": {
   "display_name": "Python 3",
   "language": "python",
   "name": "python3"
  },
  "language_info": {
   "codemirror_mode": {
    "name": "ipython",
    "version": 3
   },
   "file_extension": ".py",
   "mimetype": "text/x-python",
   "name": "python",
   "nbconvert_exporter": "python",
   "pygments_lexer": "ipython3",
   "version": "3.7.3"
  }
 },
 "nbformat": 4,
 "nbformat_minor": 2
}

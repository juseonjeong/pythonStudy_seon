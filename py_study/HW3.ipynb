{
 "cells": [
  {
   "cell_type": "markdown",
   "metadata": {},
   "source": [
    "### add_comma.py\n",
    "천 단위마다 쉼표(,) 추가하는 함수 정의하기"
   ]
  },
  {
   "cell_type": "code",
   "execution_count": 109,
   "metadata": {},
   "outputs": [],
   "source": [
    "def add_comma(val):\n",
    "    st_val = str(val)\n",
    "    if len(st_val) <= 3:\n",
    "        comma_added = str(val)\n",
    "    else:\n",
    "        if len(st_val) >=6:\n",
    "            c=''\n",
    "            if len(st_val)%3 == 0:\n",
    "                for i in range(len(st_val)//3,1,-1):\n",
    "                    ab = st_val[-3*i:-3*(i-1)]+','\n",
    "                    c += ab\n",
    "                comma_added = c+st_val[-3:]\n",
    "            elif len(st_val)%3 == 1:\n",
    "                for i in range(len(st_val)//3,1,-1):\n",
    "                    ab = st_val[-3*i:-3*(i-1)]+','\n",
    "                    c += ab\n",
    "                comma_added = st_val[0:1] +','+c+ st_val[-3:]\n",
    "            elif len(st_val)%3 == 2:\n",
    "                for i in range(len(st_val)//3,1,-1):\n",
    "                    ab = st_val[-3*i:-3*(i-1)]+','\n",
    "                    c += ab\n",
    "                comma_added = st_val[0:2] +','+c+ st_val[-3:]\n",
    "        else:\n",
    "            comma_added = st_val[-len(st_val):-3]+','+st_val[-3:]\n",
    "    return comma_added"
   ]
  },
  {
   "cell_type": "code",
   "execution_count": 113,
   "metadata": {},
   "outputs": [
    {
     "data": {
      "text/plain": [
       "'1,234,567'"
      ]
     },
     "execution_count": 113,
     "metadata": {},
     "output_type": "execute_result"
    }
   ],
   "source": [
    "add_comma(1234567)"
   ]
  },
  {
   "cell_type": "markdown",
   "metadata": {},
   "source": [
    "### tok.py\n",
    "입력받은 단어열의 n-gram을 구해주는 tokenize() 함수 정의하기"
   ]
  },
  {
   "cell_type": "code",
   "execution_count": 47,
   "metadata": {},
   "outputs": [],
   "source": [
    "def tokenize(trg, N=1):\n",
    "    trg_list = []\n",
    "    for i in range(len(trg.split())):\n",
    "        trg_list.append(' '.join(trg.split()[i:i+N]))\n",
    "    return trg_list"
   ]
  },
  {
   "cell_type": "code",
   "execution_count": 48,
   "metadata": {},
   "outputs": [],
   "source": [
    "def main():\n",
    "    a = 'There was a farmer who had a dog.'\n",
    "    print(tokenize(a))\n",
    "    print(tokenize(a,2))"
   ]
  },
  {
   "cell_type": "code",
   "execution_count": 49,
   "metadata": {},
   "outputs": [
    {
     "name": "stdout",
     "output_type": "stream",
     "text": [
      "['There', 'was', 'a', 'farmer', 'who', 'had', 'a', 'dog.']\n",
      "['There was', 'was a', 'a farmer', 'farmer who', 'who had', 'had a', 'a dog.', 'dog.']\n"
     ]
    }
   ],
   "source": [
    "if __name__ == '__main__':\n",
    "    main()"
   ]
  },
  {
   "cell_type": "markdown",
   "metadata": {},
   "source": [
    "### mean_and_var.py\n",
    "평면상 여러 점의 좌표(x1,x2)를 입력받아, 평균과 분산을 구하는 함수 정의하기"
   ]
  },
  {
   "cell_type": "code",
   "execution_count": null,
   "metadata": {},
   "outputs": [],
   "source": [
    "def get_min_max(l):\n",
    "    min_val = min(l)\n",
    "    max_val = max(l)\n",
    "    l.remove(min_val)\n",
    "    l.remove(max_val)\n",
    "    return min_val,max_val"
   ]
  },
  {
   "cell_type": "code",
   "execution_count": null,
   "metadata": {},
   "outputs": [],
   "source": [
    "def mean_and_var(*val):\n",
    "    "
   ]
  },
  {
   "cell_type": "code",
   "execution_count": null,
   "metadata": {},
   "outputs": [],
   "source": [
    "def main():\n",
    "    v1=(0,1)\n",
    "    v2=(0.5,0.5)\n",
    "    v3=(1,0)\n",
    "    \n",
    "    m,var=mean_and_var(v1,v2,v3)\n",
    "    print('평균:',m,'분산:',var)"
   ]
  },
  {
   "cell_type": "code",
   "execution_count": 114,
   "metadata": {},
   "outputs": [],
   "source": [
    "v1=(0,1)\n",
    "v2=(0.5,0.5)\n",
    "v3=(1,0)"
   ]
  },
  {
   "cell_type": "code",
   "execution_count": 116,
   "metadata": {},
   "outputs": [],
   "source": [
    "a,b = v1"
   ]
  },
  {
   "cell_type": "code",
   "execution_count": 118,
   "metadata": {},
   "outputs": [
    {
     "name": "stdout",
     "output_type": "stream",
     "text": [
      "1\n"
     ]
    }
   ],
   "source": [
    "print(b)"
   ]
  },
  {
   "cell_type": "code",
   "execution_count": null,
   "metadata": {},
   "outputs": [],
   "source": []
  }
 ],
 "metadata": {
  "kernelspec": {
   "display_name": "Python 3",
   "language": "python",
   "name": "python3"
  },
  "language_info": {
   "codemirror_mode": {
    "name": "ipython",
    "version": 3
   },
   "file_extension": ".py",
   "mimetype": "text/x-python",
   "name": "python",
   "nbconvert_exporter": "python",
   "pygments_lexer": "ipython3",
   "version": "3.7.3"
  }
 },
 "nbformat": 4,
 "nbformat_minor": 2
}

{
 "cells": [
  {
   "cell_type": "markdown",
   "metadata": {},
   "source": [
    "### 과제1 - set.py\n",
    "Set 클래스 구현 : list를 이용해 Set 구현"
   ]
  },
  {
   "cell_type": "code",
   "execution_count": 178,
   "metadata": {},
   "outputs": [],
   "source": [
    "import copy"
   ]
  },
  {
   "cell_type": "code",
   "execution_count": 197,
   "metadata": {},
   "outputs": [],
   "source": [
    "class Set:\n",
    "    def __init__(self, member=[]):\n",
    "        self.member = member\n",
    "    \n",
    "    def append(self, a):\n",
    "        if a in self.member :\n",
    "            self.member = self.member\n",
    "        else :\n",
    "            self.member += [a]\n",
    "    def delete(self, a):\n",
    "        if a in self.member :\n",
    "            self.member = self.member - [a]\n",
    "        else :\n",
    "            self.member = self.member\n",
    "    def union(self, s2):\n",
    "        ss = self.member + s2.member\n",
    "        for i in self.member :\n",
    "            if i in s2.member:\n",
    "                ss.remove(i)\n",
    "        return(ss)\n",
    "    def intersection(self, s2):\n",
    "        sss = []\n",
    "        for i in self.member :\n",
    "            if i in s2.member:\n",
    "                sss.append(i)\n",
    "        return(sss)\n",
    "    def difference(self, s2):\n",
    "        sa = copy.deepcopy(self.member)\n",
    "        for i in s2.member:\n",
    "            if i in self.member:\n",
    "                sa.remove(i)\n",
    "        return(sa)"
   ]
  },
  {
   "cell_type": "code",
   "execution_count": 198,
   "metadata": {},
   "outputs": [],
   "source": [
    "a = Set([1,2,3])\n",
    "b = Set([2,3,4])"
   ]
  },
  {
   "cell_type": "code",
   "execution_count": 182,
   "metadata": {},
   "outputs": [
    {
     "name": "stdout",
     "output_type": "stream",
     "text": [
      "[1, 2, 3, 4]\n",
      "\n",
      "[1]\n",
      "\n",
      "[2, 3]\n"
     ]
    }
   ],
   "source": [
    "#합집합 [1,2,3,4]\n",
    "c = a.union(b)\n",
    "print(c)\n",
    "print()\n",
    "\n",
    "#차집합 [1]\n",
    "d = a.difference(b)\n",
    "print(d)\n",
    "print()\n",
    "\n",
    "#교집합 [2,3]\n",
    "e = a.intersection(b)\n",
    "print(e)"
   ]
  },
  {
   "cell_type": "markdown",
   "metadata": {},
   "source": [
    "### 과제1 - set.py\n",
    "Set 클래스 구현 : 연산자 오버로딩 구현"
   ]
  },
  {
   "cell_type": "code",
   "execution_count": 206,
   "metadata": {},
   "outputs": [],
   "source": [
    "class Set:\n",
    "    def __init__(self, member=[]):\n",
    "        self.member = member\n",
    "    def __add__(self, s2):\n",
    "        ss = self.member + s2.member\n",
    "        for i in self.member :\n",
    "            if i in s2.member:\n",
    "                ss.remove(i)\n",
    "        return(ss)  \n",
    "    def __sub__(self, s2):\n",
    "        sa = copy.deepcopy(self.member)\n",
    "        for i in s2.member:\n",
    "            if i in self.member:\n",
    "                sa.remove(i)\n",
    "        return(sa)\n",
    "    def __truediv__(self, s2):\n",
    "        sss = []\n",
    "        for i in self.member :\n",
    "            if i in s2.member:\n",
    "                sss.append(i)\n",
    "        return(sss)        "
   ]
  },
  {
   "cell_type": "code",
   "execution_count": 207,
   "metadata": {},
   "outputs": [
    {
     "name": "stdout",
     "output_type": "stream",
     "text": [
      "[1, 2, 3, 4]\n",
      "\n",
      "[1]\n",
      "\n",
      "[2, 3]\n"
     ]
    }
   ],
   "source": [
    "a = Set([1,2,3])\n",
    "b = Set([2,3,4])\n",
    "\n",
    "#합집합\n",
    "c = a+b\n",
    "print(c)\n",
    "print()\n",
    "\n",
    "#차집합\n",
    "d= a-b\n",
    "print(d)\n",
    "print()\n",
    "\n",
    "#교집합\n",
    "e= a/b\n",
    "print(e)"
   ]
  },
  {
   "cell_type": "markdown",
   "metadata": {},
   "source": [
    "### 과제2 - people.py\n",
    "Person, Student, Professor 클래스 구현"
   ]
  },
  {
   "cell_type": "code",
   "execution_count": 469,
   "metadata": {},
   "outputs": [],
   "source": [
    "class Person:\n",
    "    def __init__(self, name='', age=0, department=''):\n",
    "        self.name = name\n",
    "        self.age = age\n",
    "        self.department = department\n",
    "    def get_name(self,name):\n",
    "        return self.name\n",
    "    \n",
    "class Student(Person):\n",
    "    def __init__(self, name='', age=0, department='', idd=0, GPA=0.0, advisor='None'):\n",
    "        Person.__init__(self,name=name, age=age, department=department)\n",
    "        self.idd = idd\n",
    "        self.GPA = GPA\n",
    "    def print_info(self, advisor='None'):\n",
    "        print(\"제 이름은 %s, 나이는 %d, 학과는 %s, 지도교수님은\" %(self.name,self.age,self.department), self.advisor, \"입니다\")\n",
    "    def reg_advisor(self, advisor):\n",
    "        self.advisor = advisor.get_name(advisor)\n",
    "        \n",
    "class Professor(Person):\n",
    "    def __init__(self, name='', age=0, department='', position='', laboratory='', student=[]):\n",
    "        Person.__init__(self, name=name, age=age, department=department)\n",
    "        self.position = position\n",
    "        self.laboratory = laboratory\n",
    "        self.student = student\n",
    "    def print_info(self, student='None'):\n",
    "        print(\"제 이름은 %s, 나이는 %d, 학과는 %s, 지도학생은\" %(self.name, self.age, self.department), (','.join(self.student)),\"입니다\")\n",
    "    def reg_student(self, student):\n",
    "        self.student.append(student.get_name(student))"
   ]
  },
  {
   "cell_type": "code",
   "execution_count": 470,
   "metadata": {},
   "outputs": [],
   "source": [
    "stu1 = Student('Kim', 30, 'Computer', 20001234, 4.5)\n",
    "stu2 = Student('Lee', 22, 'Computer', 20101234, 0.5)\n",
    "prof1 = Professor('Lee', 55, 'Computer', 'Full', 'KLE')"
   ]
  },
  {
   "cell_type": "code",
   "execution_count": 471,
   "metadata": {},
   "outputs": [],
   "source": [
    "stu1.reg_advisor(prof1)\n",
    "stu2.reg_advisor(prof1)\n",
    "prof1.reg_student(stu1)\n",
    "prof1.reg_student(stu2)"
   ]
  },
  {
   "cell_type": "code",
   "execution_count": 472,
   "metadata": {},
   "outputs": [
    {
     "name": "stdout",
     "output_type": "stream",
     "text": [
      "제 이름은 Kim, 나이는 30, 학과는 Computer, 지도교수님은 Lee 입니다\n",
      "제 이름은 Lee, 나이는 22, 학과는 Computer, 지도교수님은 Lee 입니다\n",
      "제 이름은 Lee, 나이는 55, 학과는 Computer, 지도학생은 Kim,Lee 입니다\n"
     ]
    }
   ],
   "source": [
    "stu1.print_info()\n",
    "stu2.print_info()\n",
    "prof1.print_info()"
   ]
  },
  {
   "cell_type": "markdown",
   "metadata": {},
   "source": [
    "### 과제3 - and_op.py\n",
    "AND 논리 연산 기능을 위한 W,b를 선언하고, W*x + b연산을 하여 그 결과 값을 출력하라"
   ]
  },
  {
   "cell_type": "code",
   "execution_count": 208,
   "metadata": {},
   "outputs": [],
   "source": [
    "import numpy as np"
   ]
  },
  {
   "cell_type": "code",
   "execution_count": 209,
   "metadata": {},
   "outputs": [],
   "source": [
    "x1 = np.array([0,0])\n",
    "x2 = np.array([0,1])\n",
    "x3 = np.array([1,0])\n",
    "x4 = np.array([1,1])"
   ]
  },
  {
   "cell_type": "code",
   "execution_count": 306,
   "metadata": {},
   "outputs": [],
   "source": [
    "W = np.array([[0,1],[1,2]])\n",
    "b = np.array([0,-1])"
   ]
  },
  {
   "cell_type": "code",
   "execution_count": 307,
   "metadata": {},
   "outputs": [
    {
     "name": "stdout",
     "output_type": "stream",
     "text": [
      "[[0 1]\n",
      " [1 2]]\n",
      "[ 0 -1]\n"
     ]
    }
   ],
   "source": [
    "print(W)\n",
    "print(b.T)"
   ]
  },
  {
   "cell_type": "code",
   "execution_count": 308,
   "metadata": {},
   "outputs": [
    {
     "name": "stdout",
     "output_type": "stream",
     "text": [
      "0\n",
      "0\n",
      "0\n",
      "1\n"
     ]
    }
   ],
   "source": [
    "X = [x1,x2,x3,x4]\n",
    "for i in X:\n",
    "    a = np.argmax(W.dot(i) + b)\n",
    "    print(a)"
   ]
  },
  {
   "cell_type": "code",
   "execution_count": null,
   "metadata": {},
   "outputs": [],
   "source": []
  }
 ],
 "metadata": {
  "kernelspec": {
   "display_name": "Python 3",
   "language": "python",
   "name": "python3"
  },
  "language_info": {
   "codemirror_mode": {
    "name": "ipython",
    "version": 3
   },
   "file_extension": ".py",
   "mimetype": "text/x-python",
   "name": "python",
   "nbconvert_exporter": "python",
   "pygments_lexer": "ipython3",
   "version": "3.7.3"
  }
 },
 "nbformat": 4,
 "nbformat_minor": 2
}

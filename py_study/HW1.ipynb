{
 "cells": [
  {
   "cell_type": "markdown",
   "metadata": {},
   "source": [
    "#### 8/9금\n",
    "\n",
    "### 파이썬 기초 1"
   ]
  },
  {
   "cell_type": "code",
   "execution_count": 3,
   "metadata": {},
   "outputs": [
    {
     "name": "stdout",
     "output_type": "stream",
     "text": [
      "화씨온도 : 100\n",
      "섭씨온도 : 37.777778\n"
     ]
    }
   ],
   "source": [
    "#실습1 [ppt 21]\n",
    "\n",
    "temp = int(input(\"화씨온도 : \"))\n",
    "print(\"섭씨온도 : %f\" %((temp-32)*5/9))"
   ]
  },
  {
   "cell_type": "code",
   "execution_count": 8,
   "metadata": {},
   "outputs": [
    {
     "name": "stdout",
     "output_type": "stream",
     "text": [
      "투입한 돈 : 5000\n",
      "물건값 : 2700\n",
      "거스름돈: 2300\n",
      "500원짜리 : 4 개\n",
      "100원짜리 : 3 개\n"
     ]
    }
   ],
   "source": [
    "#실습2 [ppt 22]\n",
    "\n",
    "money1 = int(input(\"투입한 돈 : \"))\n",
    "money2 = int(input(\"물건값 : \"))\n",
    "print(\"거스름돈: %d\" %(money1-money2))\n",
    "print(\"500원짜리 : %d 개\" %((money1-money2)//500))\n",
    "a = (money1-money2)%500\n",
    "print(\"100원짜리 : %d 개\" %(a/100))"
   ]
  },
  {
   "cell_type": "code",
   "execution_count": 17,
   "metadata": {},
   "outputs": [
    {
     "data": {
      "text/plain": [
       "'Py'"
      ]
     },
     "execution_count": 17,
     "metadata": {},
     "output_type": "execute_result"
    }
   ],
   "source": [
    "#문자열 슬라이싱 [pppt 29]\n",
    "\n",
    "word ='Python'\n",
    "word[0:2]"
   ]
  },
  {
   "cell_type": "code",
   "execution_count": 19,
   "metadata": {},
   "outputs": [
    {
     "data": {
      "text/plain": [
       "'hon'"
      ]
     },
     "execution_count": 19,
     "metadata": {},
     "output_type": "execute_result"
    }
   ],
   "source": [
    "word[3:]"
   ]
  },
  {
   "cell_type": "code",
   "execution_count": 22,
   "metadata": {},
   "outputs": [
    {
     "data": {
      "text/plain": [
       "True"
      ]
     },
     "execution_count": 22,
     "metadata": {},
     "output_type": "execute_result"
    }
   ],
   "source": [
    "#문자열 멤버확인 [ppt 30]\n",
    "\n",
    "word = 'Python'\n",
    "'on' in word"
   ]
  },
  {
   "cell_type": "code",
   "execution_count": 23,
   "metadata": {},
   "outputs": [
    {
     "data": {
      "text/plain": [
       "'1. 2. 3. 4'"
      ]
     },
     "execution_count": 23,
     "metadata": {},
     "output_type": "execute_result"
    }
   ],
   "source": [
    "#문자열 함수 join [ppt 31]\n",
    "\n",
    "'. '.join('1234')"
   ]
  },
  {
   "cell_type": "code",
   "execution_count": 24,
   "metadata": {},
   "outputs": [
    {
     "data": {
      "text/plain": [
       "'o'"
      ]
     },
     "execution_count": 24,
     "metadata": {},
     "output_type": "execute_result"
    }
   ],
   "source": [
    "#실습3 [ppt 32]\n",
    "\n",
    "word = 'Hello'\n",
    "word[len(word)-1]"
   ]
  },
  {
   "cell_type": "code",
   "execution_count": 31,
   "metadata": {},
   "outputs": [
    {
     "data": {
      "text/plain": [
       "['python', 'is', 'fun']"
      ]
     },
     "execution_count": 31,
     "metadata": {},
     "output_type": "execute_result"
    }
   ],
   "source": [
    "#문자열 함수 split [ppt 33]\n",
    "\n",
    "s1 = 'python\\nis fun'\n",
    "s1.split()"
   ]
  },
  {
   "cell_type": "code",
   "execution_count": 32,
   "metadata": {},
   "outputs": [
    {
     "data": {
      "text/plain": [
       "['python\\nis', 'fun']"
      ]
     },
     "execution_count": 32,
     "metadata": {},
     "output_type": "execute_result"
    }
   ],
   "source": [
    "s1.split(' ')"
   ]
  },
  {
   "cell_type": "code",
   "execution_count": 33,
   "metadata": {},
   "outputs": [
    {
     "data": {
      "text/plain": [
       "[1, 2, 8]"
      ]
     },
     "execution_count": 33,
     "metadata": {},
     "output_type": "execute_result"
    }
   ],
   "source": [
    "#리스트 수정 및 삭제 [ppt 40]\n",
    "\n",
    "a = [1,2,3]\n",
    "a[2] = 8\n",
    "a"
   ]
  },
  {
   "cell_type": "code",
   "execution_count": 34,
   "metadata": {},
   "outputs": [
    {
     "name": "stdout",
     "output_type": "stream",
     "text": [
      "1 2 3\n"
     ]
    }
   ],
   "source": [
    "#리스트 패킹, 언패킹 [ppt 41]\n",
    "\n",
    "t = [1,2,3]\n",
    "a,b,c = t\n",
    "print(a,b,c)"
   ]
  },
  {
   "cell_type": "code",
   "execution_count": 59,
   "metadata": {},
   "outputs": [
    {
     "name": "stdout",
     "output_type": "stream",
     "text": [
      "날짜(연/월/일)입력 : 2019/08/09\n"
     ]
    }
   ],
   "source": [
    "today = (input(\"날짜(연/월/일)입력 : \"))\n",
    "todaylist = today.split(\"/\")"
   ]
  },
  {
   "cell_type": "code",
   "execution_count": 66,
   "metadata": {},
   "outputs": [
    {
     "name": "stdout",
     "output_type": "stream",
     "text": [
      "[2019, 8, 9]\n"
     ]
    }
   ],
   "source": [
    "tt = list(map(int,todaylist))  #int형으로 변환\n",
    "print(tt)"
   ]
  },
  {
   "cell_type": "code",
   "execution_count": 65,
   "metadata": {},
   "outputs": [
    {
     "name": "stdout",
     "output_type": "stream",
     "text": [
      "날짜(연/월/일)입력 : 2019/08/09\n",
      "입력한 날짜의 10년 후는 2029년 8월 9일\n"
     ]
    }
   ],
   "source": [
    "#실습4 [ppt 42]\n",
    "\n",
    "today = (input(\"날짜(연/월/일)입력 : \"))\n",
    "todaylist = today.split(\"/\")\n",
    "tt = list(map(int,todaylist))\n",
    "print(\"입력한 날짜의 10년 후는 %d년 %d월 %d일\" %(tt[0]+10, tt[1], tt[2]))"
   ]
  },
  {
   "cell_type": "markdown",
   "metadata": {},
   "source": [
    "### 파이썬 기초2"
   ]
  },
  {
   "cell_type": "code",
   "execution_count": null,
   "metadata": {},
   "outputs": [],
   "source": [
    "#실습1 [ppt 10]\n",
    "\n",
    "eng = int(input(\"영어 점수 입력: \"))\n",
    "math = int(input(\"수학 점수 입력: \"))\n",
    "if (eng>=40) and (math>=40) and ((eng+math)>=110) :\n",
    "    print(\"합격\")\n",
    "else :\n",
    "    "
   ]
  },
  {
   "cell_type": "code",
   "execution_count": null,
   "metadata": {},
   "outputs": [],
   "source": []
  },
  {
   "cell_type": "code",
   "execution_count": 70,
   "metadata": {},
   "outputs": [
    {
     "name": "stdout",
     "output_type": "stream",
     "text": [
      "1. 2. 3. 4. 5. "
     ]
    }
   ],
   "source": [
    "#while문 : 1부터 5까지 출력 [ppt 13]\n",
    "\n",
    "number = 1\n",
    "while number <=5 :\n",
    "    print(number, end='. ')\n",
    "    number += 1"
   ]
  },
  {
   "cell_type": "code",
   "execution_count": 77,
   "metadata": {},
   "outputs": [
    {
     "name": "stdout",
     "output_type": "stream",
     "text": [
      "1부터 10까지의 합: 55\n"
     ]
    }
   ],
   "source": [
    "#while문 : 1부터 10까지의 합 [ppt 14]\n",
    "\n",
    "num = 1\n",
    "total = 0\n",
    "while num <= 10:\n",
    "    total = num + total\n",
    "    num += 1\n",
    "print(\"1부터 10까지의 합:\", total)"
   ]
  },
  {
   "cell_type": "code",
   "execution_count": 82,
   "metadata": {},
   "outputs": [
    {
     "data": {
      "text/plain": [
       "'3'"
      ]
     },
     "execution_count": 82,
     "metadata": {},
     "output_type": "execute_result"
    }
   ],
   "source": [
    "a = '31'\n",
    "a[0]\n"
   ]
  },
  {
   "cell_type": "code",
   "execution_count": null,
   "metadata": {},
   "outputs": [],
   "source": [
    "int(a[0])"
   ]
  },
  {
   "cell_type": "code",
   "execution_count": null,
   "metadata": {},
   "outputs": [],
   "source": []
  },
  {
   "cell_type": "code",
   "execution_count": null,
   "metadata": {},
   "outputs": [],
   "source": [
    "#실습2 [ppt 19]\n",
    "\n",
    "star = input(\"Input an integer: \")\n",
    "for i in star :\n",
    "    for i:\n",
    "        print(\"❀\", end='.')"
   ]
  }
 ],
 "metadata": {
  "kernelspec": {
   "display_name": "Python 3",
   "language": "python",
   "name": "python3"
  },
  "language_info": {
   "codemirror_mode": {
    "name": "ipython",
    "version": 3
   },
   "file_extension": ".py",
   "mimetype": "text/x-python",
   "name": "python",
   "nbconvert_exporter": "python",
   "pygments_lexer": "ipython3",
   "version": "3.7.3"
  }
 },
 "nbformat": 4,
 "nbformat_minor": 2
}

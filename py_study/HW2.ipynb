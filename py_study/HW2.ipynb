{
 "cells": [
  {
   "cell_type": "markdown",
   "metadata": {},
   "source": [
    "## [파이썬 프로그래밍 실습3]\n",
    "\n",
    "### 딕셔너리\n",
    "### 실습1\n",
    "for문을 사용하여 딕셔너리 타입의 d의 모든 value를 출력해 보시오."
   ]
  },
  {
   "cell_type": "code",
   "execution_count": 3,
   "metadata": {},
   "outputs": [
    {
     "name": "stdout",
     "output_type": "stream",
     "text": [
      "1 2 10 "
     ]
    }
   ],
   "source": [
    "d ={'youn':1, 'park':2, 'kim': 10}\n",
    "for i in d.values():\n",
    "    print(i, end=' ')"
   ]
  },
  {
   "cell_type": "markdown",
   "metadata": {},
   "source": [
    "### 실습2\n",
    "딕셔너리 key의 알파벳을 기준으로 순서대로 출력하시오."
   ]
  },
  {
   "cell_type": "code",
   "execution_count": 28,
   "metadata": {},
   "outputs": [
    {
     "name": "stdout",
     "output_type": "stream",
     "text": [
      "five 5\n",
      "four 4\n",
      "one 1\n",
      "three 3\n",
      "two 2\n"
     ]
    }
   ],
   "source": [
    "d = {'one':1, 'two':2, 'three':3, 'four':4, 'five':5}\n",
    "for i in sorted(d):\n",
    "    print(i, d[i])"
   ]
  },
  {
   "cell_type": "markdown",
   "metadata": {},
   "source": [
    "### 실습3\n",
    "어떤 문장을 입력 받으면 해당 문장에서 각 알파벳이 몇 개씩 나오는지 저장하는 딕셔너리를 만든 후, 아래와 같이 출력하시오."
   ]
  },
  {
   "cell_type": "code",
   "execution_count": 30,
   "metadata": {},
   "outputs": [
    {
     "name": "stdout",
     "output_type": "stream",
     "text": [
      "Enter a sentence: Python is fun!\n",
      "{'o': 1, 'y': 1, 'i': 1, 's': 1, 'h': 1, ' ': 2, 'u': 1, 'n': 2, '!': 1, 't': 1, 'f': 1, 'P': 1}\n"
     ]
    }
   ],
   "source": [
    "#count이용\n",
    "\n",
    "sentence = input(\"Enter a sentence: \")\n",
    "d={}\n",
    "sent = list(sentence)\n",
    "sent_set = set(sent)\n",
    "for i in sent_set:\n",
    "    d[i] = sent.count(i)\n",
    "print(d)"
   ]
  },
  {
   "cell_type": "code",
   "execution_count": 31,
   "metadata": {},
   "outputs": [
    {
     "name": "stdout",
     "output_type": "stream",
     "text": [
      "Enter a sentence: Python is fun!\n",
      "{'o': 1, 'y': 1, 'i': 1, 's': 1, 'h': 1, ' ': 2, 'u': 1, 'n': 2, '!': 1, 't': 1, 'f': 1, 'P': 12}\n"
     ]
    }
   ],
   "source": [
    "#count이용x\n",
    "\n",
    "sentence = input(\"Enter a sentence: \")\n",
    "sent = list(sentence)\n",
    "sent_set = set(sent)\n",
    "k = 0\n",
    "for i in sent_set:\n",
    "    if i in sent :\n",
    "        k +=1\n",
    "d[i] = k\n",
    "print(d)"
   ]
  },
  {
   "cell_type": "markdown",
   "metadata": {},
   "source": [
    "### 파일\n",
    "\n",
    "### 실습1\n",
    "파일에 있는 각 단어 수 구하기"
   ]
  },
  {
   "cell_type": "code",
   "execution_count": 34,
   "metadata": {},
   "outputs": [
    {
     "name": "stdout",
     "output_type": "stream",
     "text": [
      "['first', 'line', 'second', 'line', 'third', 'line']\n"
     ]
    }
   ],
   "source": [
    "f =open('test.txt', 'r')\n",
    "lines = f.read().split()\n",
    "print(lines)\n",
    "f.close()"
   ]
  },
  {
   "cell_type": "code",
   "execution_count": 46,
   "metadata": {},
   "outputs": [
    {
     "name": "stdout",
     "output_type": "stream",
     "text": [
      "{'line': 3, 'first': 1, 'third': 1, 'second': 1}\n"
     ]
    }
   ],
   "source": [
    "d = {}\n",
    "lines_set = set(lines)\n",
    "for i in lines_set :\n",
    "    d[i] = lines.count(i)\n",
    "print(d)"
   ]
  },
  {
   "cell_type": "code",
   "execution_count": 48,
   "metadata": {},
   "outputs": [
    {
     "name": "stdout",
     "output_type": "stream",
     "text": [
      "line 3\n",
      "first 1\n",
      "third 1\n",
      "second 1\n"
     ]
    }
   ],
   "source": [
    "for i in d:\n",
    "    print(i, d[i])"
   ]
  },
  {
   "cell_type": "markdown",
   "metadata": {},
   "source": [
    "### 실습2\n",
    "파일명을 입력 받아, 해당 파일을 한 줄씩 읽어 파일의 내용을 모두 대문자로 출력하는 프로그램을 작성하시오."
   ]
  },
  {
   "cell_type": "code",
   "execution_count": 55,
   "metadata": {},
   "outputs": [
    {
     "name": "stdout",
     "output_type": "stream",
     "text": [
      "FIRST LINE\n",
      "SECOND LINE\n",
      "THIRD LINE"
     ]
    }
   ],
   "source": [
    "f =open('test.txt', 'r')\n",
    "for i in range(3):\n",
    "    line = f.readline().upper()\n",
    "    print(line, end='')\n",
    "f.close()"
   ]
  },
  {
   "cell_type": "markdown",
   "metadata": {},
   "source": [
    "### 실습3\n"
   ]
  },
  {
   "cell_type": "code",
   "execution_count": null,
   "metadata": {},
   "outputs": [],
   "source": [
    "#"
   ]
  },
  {
   "cell_type": "markdown",
   "metadata": {},
   "source": [
    "### 실습4\n",
    "아래의 score.txt를 읽어서 학생들의 성적을 처리하여 그 결과를 report.txt로 출력하는 프로그램을 작성하시오."
   ]
  },
  {
   "cell_type": "code",
   "execution_count": 315,
   "metadata": {},
   "outputs": [
    {
     "name": "stdout",
     "output_type": "stream",
     "text": [
      "201901 89 78 83.5(B)\n",
      "201902 76 84 80.0(B)\n",
      "201903 67 42 54.5(F)\n",
      "201904 66 88 77.0(C)\n",
      "201905 98 99 98.5(A)\n",
      "\n"
     ]
    }
   ],
   "source": [
    "f =open(\"score.txt\", 'r')\n",
    "f2 = open(\"report.txt\", 'w')\n",
    "for line in f.readlines():\n",
    "    linesp = line.split()\n",
    "    score =(int(linesp[1])+int(linesp[2]))/2\n",
    "    linesp.append(str(score))\n",
    "    if score >= 90:\n",
    "        grade = 'A'\n",
    "    elif score >= 80:\n",
    "        grade = 'B'\n",
    "    elif score >= 70:\n",
    "        grade = 'C'\n",
    "    elif score >= 60:\n",
    "        grade = 'D'\n",
    "    else:\n",
    "        grade = 'F'\n",
    "    f2.write(linesp[0]+' '+linesp[1]+' '+linesp[2]+' '+linesp[3]+'('+grade+')')\n",
    "    f2.write('\\n')\n",
    "f.close()\n",
    "f2.close()\n",
    "\n",
    "f2 = open(\"report.txt\",\"r\")\n",
    "\n",
    "data = f2.read()\n",
    "print(data)\n",
    "\n",
    "f2.close()"
   ]
  }
 ],
 "metadata": {
  "kernelspec": {
   "display_name": "Python 3",
   "language": "python",
   "name": "python3"
  },
  "language_info": {
   "codemirror_mode": {
    "name": "ipython",
    "version": 3
   },
   "file_extension": ".py",
   "mimetype": "text/x-python",
   "name": "python",
   "nbconvert_exporter": "python",
   "pygments_lexer": "ipython3",
   "version": "3.7.3"
  }
 },
 "nbformat": 4,
 "nbformat_minor": 2
}

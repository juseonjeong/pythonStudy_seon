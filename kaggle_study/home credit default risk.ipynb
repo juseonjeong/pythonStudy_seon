{
 "cells": [
  {
   "cell_type": "markdown",
   "metadata": {},
   "source": [
    "# 1. 문제 정의\n",
    "## (Home Credit Default Risk)\n",
    "\n",
    "\n",
    "\n",
    "은행 계좌가 없는 사람들에게 대출 서비스를 제공하기 위해 \"Home Credit : 국제적인 비은행 금융 기관\" 의 데이터를 이용한다. 고객이 대출금을 상환할 수 있을지 아니면 어려움을 겪을지를 예측해야 한다.\n",
    "\n",
    "# 2. 데이터 수집하기"
   ]
  },
  {
   "cell_type": "code",
<<<<<<< HEAD
   "execution_count": null,
=======
   "execution_count": 1,
>>>>>>> f4125ee4225eb42a210cffffb322d30f6d215f6e
   "metadata": {},
   "outputs": [],
   "source": [
    "# numpy and pandas for data manipulation\n",
    "import numpy as np\n",
    "import pandas as pd \n",
    "\n",
    "# sklearn preprocessing for dealing with categorical variables\n",
    "from sklearn.preprocessing import LabelEncoder\n",
    "\n",
    "# File system manangement\n",
    "import os\n",
    "\n",
    "# Suppress warnings \n",
    "import warnings\n",
    "warnings.filterwarnings('ignore')\n",
    "\n",
    "# matplotlib and seaborn for plotting\n",
    "import matplotlib.pyplot as plt\n",
    "import seaborn as sns"
   ]
  },
  {
   "cell_type": "markdown",
   "metadata": {},
   "source": [
    "# 3. 탐구 자료 분석\n",
    "### 데이터 설명\n",
    "* application_train/application_test : Home Credit의 각 대출 신청에 대한 정보.(0: 대출 상환, 1: 대출 미상환)\n",
    "\n",
    "* bureau : 다른 금융 기관에서 고객의 이전 신용에 관한 데이터. \n",
    "\n",
    "* bureau_balance : 이전 신용에 대한 월별 데이터.\n",
    "\n",
    "* previous_application : \n",
    "\n",
    "* POS_CASH_BALANCE : 고객의 이전 대출 월별 데이터.\n",
    "\n",
    "* credit_card_balance : 고객의 이전 신용 카드로 받은 신용에 대한 월별 데이터.\n",
    "\n",
    "* installments_payment : 이전 대출에 대한 지불내역.\n"
   ]
  },
  {
   "cell_type": "code",
<<<<<<< HEAD
   "execution_count": null,
=======
   "execution_count": 23,
>>>>>>> f4125ee4225eb42a210cffffb322d30f6d215f6e
   "metadata": {},
   "outputs": [],
   "source": [
    "app_train = pd.read_csv(\"/home/pirl/Downloads/application_train.csv\")\n",
    "app_test = pd.read_csv(\"/home/pirl/Downloads/application_test.csv\")"
   ]
  },
  {
   "cell_type": "code",
   "execution_count": null,
   "metadata": {},
   "outputs": [],
   "source": [
    "app_train.shape"
   ]
  },
  {
   "cell_type": "code",
   "execution_count": null,
   "metadata": {},
   "outputs": [],
   "source": [
    "app_train.head()"
   ]
  },
  {
   "cell_type": "markdown",
   "metadata": {},
   "source": [
    "training data는 307511개의 관측값과 122개의 특징들을 가지고 있다.\n",
    "\n",
    "여기서, TARGET은 우리가 예측하고 싶은 label 이다.\n",
    "\n",
    "### TARGET 열의 분포 확인"
   ]
  },
  {
   "cell_type": "code",
   "execution_count": null,
   "metadata": {},
   "outputs": [],
   "source": [
    "#먼저, 각 범주(0:대출 상환, 1:대출 미상환)에 대한 count값을 구할 수 있다.\n",
    "app_train['TARGET'].value_counts()"
   ]
  },
  {
   "cell_type": "code",
   "execution_count": null,
   "metadata": {},
   "outputs": [],
   "source": [
    "app_train['TARGET'].astype(int).plot.hist() #astype 자료형 변환"
   ]
  },
  {
   "cell_type": "markdown",
   "metadata": {},
   "source": [
    "상환되지 않은 대출보다 제 시간에 상환된 대출이 더 많음을 알 수 있다.\n",
    "\n",
    "\n",
    "### 결측치의 계산\n",
    "#### 그다음, 각 열별로 결측치의 수와 비율에 대해 알아보자."
   ]
  },
  {
   "cell_type": "code",
   "execution_count": null,
   "metadata": {},
   "outputs": [],
   "source": [
    "\n",
    "def missing_values_table(df):\n",
    "        # 결측치의 개수\n",
    "        mis_val = df.isnull().sum()\n",
    "        \n",
    "        # 결측치의 비율\n",
    "        mis_val_percent = 100 * df.isnull().sum() / len(df)\n",
    "        \n",
    "        # 결과값을 가지고 table 만들기 : concat(병합)\n",
    "        mis_val_table1 = pd.concat([mis_val, mis_val_percent], axis=1)\n",
    "        \n",
    "        # 열이름 바꾸기\n",
    "        mis_val_table = mis_val_table1.rename(\n",
    "        columns = {0 : 'Missing Values', 1 : '% of Total Values'})\n",
    "        \n",
    "        # 결측치의 비율로 내림차순 정렬\n",
    "        mis_val_table = mis_val_table[\n",
    "            mis_val_table.iloc[:,1] != 0].sort_values(\n",
    "        '% of Total Values', ascending=False).round(1)\n",
    "        \n",
    "        # 요약 정보 출력\n",
    "        print (\"Your selected dataframe has \" + str(df.shape[1]) + \" columns.\\n\"      \n",
    "            \"There are \" + str(mis_val_table.shape[0]) +\n",
    "              \" columns that have missing values.\")\n",
    "        \n",
    "        # 결측치에 대한 정보를 데이터프레임으로 출력\n",
    "        return mis_val_table\n",
    "    "
   ]
  },
  {
   "cell_type": "code",
   "execution_count": null,
   "metadata": {},
   "outputs": [],
   "source": [
    "missing_values = missing_values_table(app_train)\n",
    "missing_values.head(20)"
   ]
  },
  {
   "cell_type": "markdown",
   "metadata": {},
   "source": [
    "### 열의 타입"
   ]
  },
  {
   "cell_type": "code",
<<<<<<< HEAD
   "execution_count": null,
   "metadata": {},
   "outputs": [],
=======
   "execution_count": 14,
   "metadata": {},
   "outputs": [
    {
     "data": {
      "text/plain": [
       "float64    65\n",
       "int64      41\n",
       "object     16\n",
       "dtype: int64"
      ]
     },
     "execution_count": 14,
     "metadata": {},
     "output_type": "execute_result"
    }
   ],
>>>>>>> f4125ee4225eb42a210cffffb322d30f6d215f6e
   "source": [
    "app_train.dtypes.value_counts()"
   ]
  },
  {
   "cell_type": "code",
<<<<<<< HEAD
   "execution_count": null,
   "metadata": {},
   "outputs": [],
=======
   "execution_count": 21,
   "metadata": {},
   "outputs": [
    {
     "data": {
      "text/plain": [
       "NAME_CONTRACT_TYPE             2\n",
       "CODE_GENDER                    3\n",
       "FLAG_OWN_CAR                   2\n",
       "FLAG_OWN_REALTY                2\n",
       "NAME_TYPE_SUITE                7\n",
       "NAME_INCOME_TYPE               8\n",
       "NAME_EDUCATION_TYPE            5\n",
       "NAME_FAMILY_STATUS             6\n",
       "NAME_HOUSING_TYPE              6\n",
       "OCCUPATION_TYPE               18\n",
       "WEEKDAY_APPR_PROCESS_START     7\n",
       "ORGANIZATION_TYPE             58\n",
       "FONDKAPREMONT_MODE             4\n",
       "HOUSETYPE_MODE                 3\n",
       "WALLSMATERIAL_MODE             7\n",
       "EMERGENCYSTATE_MODE            2\n",
       "dtype: int64"
      ]
     },
     "execution_count": 21,
     "metadata": {},
     "output_type": "execute_result"
    }
   ],
>>>>>>> f4125ee4225eb42a210cffffb322d30f6d215f6e
   "source": [
    "app_train.select_dtypes('object').apply(pd.Series.nunique, axis=0)"
   ]
  },
  {
   "cell_type": "markdown",
   "metadata": {},
   "source": [
    "### 범주형 변수의 인코딩\n",
    "#### one hot encoding  "
   ]
  },
  {
   "cell_type": "code",
   "execution_count": 24,
   "metadata": {},
   "outputs": [
    {
     "name": "stdout",
     "output_type": "stream",
     "text": [
      "3 columns were label encoded.\n"
     ]
    }
   ],
   "source": [
    "# sklearn\n",
    "\n",
    "# label encoder 객체 재등록\n",
    "le = LabelEncoder()\n",
    "le_count = 0\n",
    "\n",
    "# 열 반복\n",
    "for col in app_train:\n",
    "    if app_train[col].dtype == 'object':\n",
    "        \n",
    "        if len(list(app_train[col].unique())) <= 2:\n",
    "            # Train on the training data\n",
    "            le.fit(app_train[col])\n",
    "            # Transform both training and testing data\n",
    "            app_train[col] = le.transform(app_train[col])\n",
    "            app_test[col] = le.transform(app_test[col])\n",
    "            \n",
    "            # Keep track of how many columns were label encoded\n",
    "            le_count += 1\n",
    "            \n",
    "print('%d columns were label encoded.' % le_count)"
   ]
  },
  {
   "cell_type": "code",
   "execution_count": 25,
   "metadata": {},
   "outputs": [
    {
     "name": "stdout",
     "output_type": "stream",
     "text": [
      "Training Features shape:  (307511, 243)\n",
      "Testing Features shape:  (48744, 239)\n"
     ]
    }
   ],
   "source": [
    "app_train = pd.get_dummies(app_train)\n",
    "app_test = pd.get_dummies(app_test)\n",
    "\n",
    "print('Training Features shape: ', app_train.shape)\n",
    "print('Testing Features shape: ', app_test.shape)"
   ]
  },
  {
   "cell_type": "markdown",
   "metadata": {},
   "source": [
    "#### 데이터 정렬"
   ]
  },
  {
   "cell_type": "code",
   "execution_count": 6,
   "metadata": {},
   "outputs": [
    {
     "ename": "SyntaxError",
     "evalue": "invalid syntax (<ipython-input-6-4785a465974b>, line 1)",
     "output_type": "error",
     "traceback": [
      "\u001b[1;36m  File \u001b[1;32m\"<ipython-input-6-4785a465974b>\"\u001b[1;36m, line \u001b[1;32m1\u001b[0m\n\u001b[1;33m    code_cell .run_this_cell {\u001b[0m\n\u001b[1;37m                             ^\u001b[0m\n\u001b[1;31mSyntaxError\u001b[0m\u001b[1;31m:\u001b[0m invalid syntax\n"
     ]
    }
   ],
   "source": [
<<<<<<< HEAD
    "code_cell .run_this_cell {\n",
    "    visibility: hidden;\n",
    "    cursor: pointer;\n",
    "    color: #333;\n",
    "    padding-top: 5px;\n",
    "    padding-bottom: 5px;\n",
    "    padding-left: 2ex;\n",
    "    padding-right: 2ex;\n",
    "    width: 1ex;\n",
    "}"
=======
    "#A"
>>>>>>> f4125ee4225eb42a210cffffb322d30f6d215f6e
   ]
  },
  {
   "cell_type": "code",
   "execution_count": null,
   "metadata": {},
   "outputs": [],
   "source": []
  }
 ],
 "metadata": {
  "kernelspec": {
   "display_name": "Python 3",
   "language": "python",
   "name": "python3"
  },
  "language_info": {
   "codemirror_mode": {
    "name": "ipython",
    "version": 3
   },
   "file_extension": ".py",
   "mimetype": "text/x-python",
   "name": "python",
   "nbconvert_exporter": "python",
   "pygments_lexer": "ipython3",
   "version": "3.7.3"
  }
 },
 "nbformat": 4,
 "nbformat_minor": 2
}

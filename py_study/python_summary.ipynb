{
 "cells": [
  {
   "cell_type": "code",
   "execution_count": 3,
   "metadata": {},
   "outputs": [
    {
     "name": "stdout",
     "output_type": "stream",
     "text": [
      "['False', 'None', 'True', 'and', 'as', 'assert', 'async', 'await', 'break', 'class', 'continue', 'def', 'del', 'elif', 'else', 'except', 'finally', 'for', 'from', 'global', 'if', 'import', 'in', 'is', 'lambda', 'nonlocal', 'not', 'or', 'pass', 'raise', 'return', 'try', 'while', 'with', 'yield']\n"
     ]
    }
   ],
   "source": [
    "#예약어 목록 보기\n",
    "import keyword\n",
    "print(keyword.kwlist)"
   ]
  },
  {
   "cell_type": "code",
   "execution_count": 6,
   "metadata": {},
   "outputs": [
    {
     "name": "stdout",
     "output_type": "stream",
     "text": [
      "lifeistoo short. lifeistoo short.\n"
     ]
    }
   ],
   "source": [
    "#문자열 합치기\n",
    "print(\"life\"\"is\"\"too short.\", \"life\"+\"is\"+\"too short.\")"
   ]
  },
  {
   "cell_type": "code",
   "execution_count": 8,
   "metadata": {},
   "outputs": [
    {
     "name": "stdout",
     "output_type": "stream",
     "text": [
      "화씨온도: 100\n",
      "섭씨온도: 37.777778\n"
     ]
    }
   ],
   "source": [
    "#실습문제1\n",
    "\n",
    "temp = int(input(\"화씨온도: \"))\n",
    "temp1 = (temp-32)*5/9\n",
    "print(\"섭씨온도: %f\" %temp1)"
   ]
  },
  {
   "cell_type": "code",
   "execution_count": 3,
   "metadata": {},
   "outputs": [
    {
     "name": "stdout",
     "output_type": "stream",
     "text": [
      "투입한 돈: 5000\n",
      "물건값: 2700\n",
      "거스름돈: 2300\n",
      "500원짜리: 4개\n",
      "100원짜리: 3개\n"
     ]
    }
   ],
   "source": [
    "#실습문제2\n",
    "\n",
    "money = int(input(\"투입한 돈: \"))\n",
    "price = int(input(\"물건값: \"))\n",
    "print(\"거스름돈: %d\" %(money-price))\n",
    "print(\"500원짜리: %d개\" %((money-price)//500))\n",
    "print(\"100원짜리: %d개\" %(((money-price)%500)//100))"
   ]
  },
  {
   "cell_type": "code",
   "execution_count": 5,
   "metadata": {},
   "outputs": [
    {
     "name": "stdout",
     "output_type": "stream",
     "text": [
      "12345\n",
      "54321\n",
      "135\n"
     ]
    }
   ],
   "source": [
    "#문자열 슬라이싱\n",
    "word='12345'\n",
    "print(word[:])\n",
    "print(word[::-1])\n",
    "print(word[::2])"
   ]
  },
  {
   "cell_type": "code",
   "execution_count": 9,
   "metadata": {},
   "outputs": [
    {
     "data": {
      "text/plain": [
       "'o'"
      ]
     },
     "execution_count": 9,
     "metadata": {},
     "output_type": "execute_result"
    }
   ],
   "source": [
    "#실습문제3\n",
    "\n",
    "word='Hello'\n",
    "word[len(word)-1]\n",
    "#len(word)"
   ]
  },
  {
   "cell_type": "code",
   "execution_count": 10,
   "metadata": {},
   "outputs": [
    {
     "data": {
      "text/plain": [
       "['one', 'two', 'three']"
      ]
     },
     "execution_count": 10,
     "metadata": {},
     "output_type": "execute_result"
    }
   ],
   "source": [
    "#split()\n",
    "s2 = 'one:two:three'\n",
    "s2.split(':')"
   ]
  },
  {
   "cell_type": "code",
   "execution_count": 11,
   "metadata": {},
   "outputs": [
    {
     "data": {
      "text/plain": [
       "'one:two:three'"
      ]
     },
     "execution_count": 11,
     "metadata": {},
     "output_type": "execute_result"
    }
   ],
   "source": [
    "s2"
   ]
  },
  {
   "cell_type": "code",
   "execution_count": 12,
   "metadata": {},
   "outputs": [
    {
     "name": "stdout",
     "output_type": "stream",
     "text": [
      "1 2\n"
     ]
    }
   ],
   "source": [
    "#리스트 패킹,언패킹\n",
    "t=[1,2,3]\n",
    "a,b,c=t\n",
    "print(a,b)"
   ]
  },
  {
   "cell_type": "code",
   "execution_count": 21,
   "metadata": {},
   "outputs": [
    {
     "name": "stdout",
     "output_type": "stream",
     "text": [
      "날짜(연/월/일)입력: 2019/08/12\n",
      "입력한 날짜의 10년 후는 2029년 08월 12일\n"
     ]
    }
   ],
   "source": [
    "#실습문제4\n",
    "\n",
    "day = input(\"날짜(연/월/일)입력: \")\n",
    "day1 = day.split('/')\n",
    "print(\"입력한 날짜의 10년 후는 %d년 %s월 %s일\" %(int(day1[0])+10,day1[1],day1[2]))"
   ]
  },
  {
   "cell_type": "code",
   "execution_count": 26,
   "metadata": {},
   "outputs": [
    {
     "name": "stdout",
     "output_type": "stream",
     "text": [
      "영어 점수 입력: 35\n",
      "수학 점수 입력: 95\n",
      "불합격: 영어 점수 부족\n"
     ]
    }
   ],
   "source": [
    "#조건문 - 실습1\n",
    "\n",
    "eng = int(input(\"영어 점수 입력: \"))\n",
    "math = int(input(\"수학 점수 입력: \"))\n",
    "sum2 = eng+math\n",
    "\n",
    "if sum2 >= 110:\n",
    "    if math < 40:\n",
    "        print(\"불합격: 수학 점수 부족\")\n",
    "    elif eng < 40:\n",
    "        print(\"불합격: 영어 점수 부족\")\n",
    "    else :\n",
    "        print(\"합격\")\n",
    "else:\n",
    "    print(\"불합격: 총합 점수 부족\")"
   ]
  },
  {
   "cell_type": "code",
   "execution_count": 36,
   "metadata": {},
   "outputs": [
    {
     "name": "stdout",
     "output_type": "stream",
     "text": [
      "세 개의 수를 입력하시오: 30 22 50\n",
      "가장 큰 수는 50입니다.\n"
     ]
    }
   ],
   "source": [
    "#조건문 - 실습2\n",
    "\n",
    "number = input(\"세 개의 수를 입력하시오: \")\n",
    "number1 = number.split(' ')\n",
    "number2 = (map(int,number1))\n",
    "print(\"가장 큰 수는 %d입니다.\" %max(number2))"
   ]
  },
  {
   "cell_type": "code",
   "execution_count": 4,
   "metadata": {},
   "outputs": [
    {
     "name": "stdout",
     "output_type": "stream",
     "text": [
      "1부터 10까지의 합: 55\n"
     ]
    }
   ],
   "source": [
    "#while문\n",
    "number = 1\n",
    "sum = 0\n",
    "while number <= 10:\n",
    "    sum += number\n",
    "    number +=1\n",
    "print(\"1부터 10까지의 합:\",sum)"
   ]
  },
  {
   "cell_type": "code",
   "execution_count": 5,
   "metadata": {},
   "outputs": [
    {
     "name": "stdout",
     "output_type": "stream",
     "text": [
      "python"
     ]
    }
   ],
   "source": [
    "#for문\n",
    "for x in 'python':\n",
    "    print(x,end='')"
   ]
  },
  {
   "cell_type": "code",
   "execution_count": 7,
   "metadata": {},
   "outputs": [
    {
     "name": "stdout",
     "output_type": "stream",
     "text": [
      "출력하고 싶은 단을 입력하세요:7\n",
      "7 * 1 = 7\n",
      "7 * 2 = 14\n",
      "7 * 3 = 21\n",
      "7 * 4 = 28\n",
      "7 * 5 = 35\n",
      "7 * 6 = 42\n",
      "7 * 7 = 49\n",
      "7 * 8 = 56\n",
      "7 * 9 = 63\n"
     ]
    }
   ],
   "source": [
    "#반복문 - 실습1\n",
    "\n",
    "num = int(input(\"출력하고 싶은 단을 입력하세요:\"))\n",
    "for i in range(1,10):\n",
    "    print(\"%d * %d = %d\" %(num,i,num*i))"
   ]
  },
  {
   "cell_type": "code",
   "execution_count": 8,
   "metadata": {},
   "outputs": [
    {
     "name": "stdout",
     "output_type": "stream",
     "text": [
      "Input an integer: 3159\n",
      "★★★\n",
      "★\n",
      "★★★★★\n",
      "★★★★★★★★★\n"
     ]
    }
   ],
   "source": [
    "#반복문 - 실습2\n",
    "\n",
    "num = input(\"Input an integer: \")\n",
    "for i in num:\n",
    "    num1 = int(i)\n",
    "    print('★'*num1)"
   ]
  },
  {
   "cell_type": "code",
   "execution_count": 46,
   "metadata": {},
   "outputs": [
    {
     "name": "stdout",
     "output_type": "stream",
     "text": [
      "Enter a number: 7\n",
      "Enter a number: 2\n",
      "Enter a number: 9\n",
      "Enter a number: 3\n",
      "Enter a number: 5\n",
      "Enter a number: done\n",
      "[7.0, 2.0, 9.0, 3.0, 5.0]\n",
      "Average: 5.2\n",
      "Maximum: 9.0\n",
      "Minimum: 2.0\n"
     ]
    }
   ],
   "source": [
    "#리스트 - 실습1\n",
    "\n",
    "num_list = []\n",
    "while True:\n",
    "    num = input(\"Enter a number: \")\n",
    "    if num == 'done':\n",
    "        break\n",
    "    else:\n",
    "        num_list.append(num)\n",
    "num_list1 = list(map(float,num_list))\n",
    "print(num_list1)\n",
    "#print(\"Average:\",(sum(num_list1)/len(num_list1)))\n",
    "summ=0\n",
    "for i in num_list1:\n",
    "    summ+=i\n",
    "print(\"Average:\",summ/len(num_list1))\n",
    "print(\"Maximum:\",max(num_list1))\n",
    "print(\"Minimum:\",min(num_list1))"
   ]
  },
  {
   "cell_type": "code",
   "execution_count": 47,
   "metadata": {},
   "outputs": [
    {
     "data": {
      "text/plain": [
       "tuple"
      ]
     },
     "execution_count": 47,
     "metadata": {},
     "output_type": "execute_result"
    }
   ],
   "source": [
    "#튜플\n",
    "t1=()\n",
    "type(t1)"
   ]
  },
  {
   "cell_type": "code",
   "execution_count": 56,
   "metadata": {},
   "outputs": [],
   "source": [
    "t4 = 1,2,3 #괄호 생략 가능"
   ]
  },
  {
   "cell_type": "code",
   "execution_count": 57,
   "metadata": {},
   "outputs": [
    {
     "data": {
      "text/plain": [
       "tuple"
      ]
     },
     "execution_count": 57,
     "metadata": {},
     "output_type": "execute_result"
    }
   ],
   "source": [
    "type(t4)"
   ]
  },
  {
   "cell_type": "code",
   "execution_count": 58,
   "metadata": {},
   "outputs": [
    {
     "data": {
      "text/plain": [
       "'HelloHello'"
      ]
     },
     "execution_count": 58,
     "metadata": {},
     "output_type": "execute_result"
    }
   ],
   "source": [
    "#집합\n",
    "word = 'Hello'*2\n",
    "word"
   ]
  },
  {
   "cell_type": "code",
   "execution_count": 59,
   "metadata": {},
   "outputs": [
    {
     "data": {
      "text/plain": [
       "['H', 'e', 'l', 'l', 'o', 'H', 'e', 'l', 'l', 'o']"
      ]
     },
     "execution_count": 59,
     "metadata": {},
     "output_type": "execute_result"
    }
   ],
   "source": [
    "word_list = list(word)\n",
    "word_list"
   ]
  },
  {
   "cell_type": "code",
   "execution_count": 60,
   "metadata": {},
   "outputs": [
    {
     "data": {
      "text/plain": [
       "{'H', 'e', 'l', 'o'}"
      ]
     },
     "execution_count": 60,
     "metadata": {},
     "output_type": "execute_result"
    }
   ],
   "source": [
    "ss = set(word_list)\n",
    "ss"
   ]
  },
  {
   "cell_type": "code",
   "execution_count": 61,
   "metadata": {},
   "outputs": [
    {
     "data": {
      "text/plain": [
       "('e', 'o', 'H', 'l')"
      ]
     },
     "execution_count": 61,
     "metadata": {},
     "output_type": "execute_result"
    }
   ],
   "source": [
    "t = tuple(ss)\n",
    "t"
   ]
  },
  {
   "cell_type": "code",
   "execution_count": 62,
   "metadata": {},
   "outputs": [
    {
     "data": {
      "text/plain": [
       "{'H', 'e', 'l', 'o'}"
      ]
     },
     "execution_count": 62,
     "metadata": {},
     "output_type": "execute_result"
    }
   ],
   "source": [
    "ss.add('e')\n",
    "ss"
   ]
  },
  {
   "cell_type": "code",
   "execution_count": 64,
   "metadata": {},
   "outputs": [
    {
     "data": {
      "text/plain": [
       "{'H', 'a', 'e', 'l', 'o'}"
      ]
     },
     "execution_count": 64,
     "metadata": {},
     "output_type": "execute_result"
    }
   ],
   "source": [
    "ss.add('a')\n",
    "ss"
   ]
  },
  {
   "cell_type": "code",
   "execution_count": 65,
   "metadata": {},
   "outputs": [
    {
     "data": {
      "text/plain": [
       "{'kim': 1, 'park': 2}"
      ]
     },
     "execution_count": 65,
     "metadata": {},
     "output_type": "execute_result"
    }
   ],
   "source": [
    "#딕셔너리\n",
    "d = {}\n",
    "d['kim'] = 1\n",
    "d['park'] = 2\n",
    "d"
   ]
  },
  {
   "cell_type": "code",
   "execution_count": 66,
   "metadata": {},
   "outputs": [
    {
     "data": {
      "text/plain": [
       "2"
      ]
     },
     "execution_count": 66,
     "metadata": {},
     "output_type": "execute_result"
    }
   ],
   "source": [
    "d['park']"
   ]
  },
  {
   "cell_type": "code",
   "execution_count": 67,
   "metadata": {},
   "outputs": [
    {
     "data": {
      "text/plain": [
       "{'kim': 3, 'park': 2}"
      ]
     },
     "execution_count": 67,
     "metadata": {},
     "output_type": "execute_result"
    }
   ],
   "source": [
    "d['kim'] = 3\n",
    "d"
   ]
  },
  {
   "cell_type": "code",
   "execution_count": 68,
   "metadata": {},
   "outputs": [
    {
     "data": {
      "text/plain": [
       "{'kim': 3, 'park': 2, 'youn': 1}"
      ]
     },
     "execution_count": 68,
     "metadata": {},
     "output_type": "execute_result"
    }
   ],
   "source": [
    "d['youn'] = 1\n",
    "d"
   ]
  },
  {
   "cell_type": "code",
   "execution_count": 69,
   "metadata": {},
   "outputs": [
    {
     "data": {
      "text/plain": [
       "dict_keys(['kim', 'park', 'youn'])"
      ]
     },
     "execution_count": 69,
     "metadata": {},
     "output_type": "execute_result"
    }
   ],
   "source": [
    "d.keys()"
   ]
  },
  {
   "cell_type": "code",
   "execution_count": 71,
   "metadata": {},
   "outputs": [
    {
     "data": {
      "text/plain": [
       "dict_values([3, 2, 1])"
      ]
     },
     "execution_count": 71,
     "metadata": {},
     "output_type": "execute_result"
    }
   ],
   "source": [
    "d.values()"
   ]
  },
  {
   "cell_type": "code",
   "execution_count": 72,
   "metadata": {},
   "outputs": [
    {
     "data": {
      "text/plain": [
       "dict_items([('kim', 3), ('park', 2), ('youn', 1)])"
      ]
     },
     "execution_count": 72,
     "metadata": {},
     "output_type": "execute_result"
    }
   ],
   "source": [
    "d.items()"
   ]
  },
  {
   "cell_type": "code",
   "execution_count": 73,
   "metadata": {},
   "outputs": [
    {
     "data": {
      "text/plain": [
       "True"
      ]
     },
     "execution_count": 73,
     "metadata": {},
     "output_type": "execute_result"
    }
   ],
   "source": [
    "'kim' in d"
   ]
  },
  {
   "cell_type": "code",
   "execution_count": 74,
   "metadata": {},
   "outputs": [
    {
     "data": {
      "text/plain": [
       "{'park': 2, 'youn': 1}"
      ]
     },
     "execution_count": 74,
     "metadata": {},
     "output_type": "execute_result"
    }
   ],
   "source": [
    "del d['kim']\n",
    "d"
   ]
  },
  {
   "cell_type": "code",
   "execution_count": 75,
   "metadata": {},
   "outputs": [
    {
     "data": {
      "text/plain": [
       "{}"
      ]
     },
     "execution_count": 75,
     "metadata": {},
     "output_type": "execute_result"
    }
   ],
   "source": [
    "d.clear()\n",
    "d"
   ]
  },
  {
   "cell_type": "code",
   "execution_count": 93,
   "metadata": {},
   "outputs": [
    {
     "name": "stdout",
     "output_type": "stream",
     "text": [
      "Enter a sentence: Python is fun!\n",
      "{'o': 1, 'n': 2, 'f': 1, 'y': 1, 't': 1, 'u': 1, 'h': 1, 'P': 1, 'i': 1, 's': 1, '!': 1, ' ': 2}\n"
     ]
    }
   ],
   "source": [
    "#딕셔너리 - 실습1\n",
    "\n",
    "sent = input(\"Enter a sentence: \")\n",
    "sent_list = list(sent)\n",
    "sent_set = set(sent_list)\n",
    "sent_count = 0\n",
    "sent_dict = {}\n",
    "for i in sent_set:\n",
    "    sent_count = sent_list.count(i)\n",
    "    sent_dict[i]=sent_count\n",
    "print(sent_dict)"
   ]
  },
  {
   "cell_type": "code",
   "execution_count": 96,
   "metadata": {},
   "outputs": [],
   "source": [
    "#파일쓰기\n",
    "f=open('newnew.txt','w')\n",
    "for i in range(1,6):\n",
    "    data = '%d line\\n'%i\n",
    "    f.write(data)\n",
    "f.close()"
   ]
  },
  {
   "cell_type": "code",
   "execution_count": 110,
   "metadata": {},
   "outputs": [
    {
     "name": "stdout",
     "output_type": "stream",
     "text": [
      "['1 line\\n', '2 line\\n', '3 line\\n', '4 line\\n', '5 line\\n']\n"
     ]
    }
   ],
   "source": [
    "f=open('newnew.txt','r')\n",
    "lines=f.readlines()\n",
    "print(lines)\n",
    "f.close()"
   ]
  },
  {
   "cell_type": "code",
   "execution_count": 111,
   "metadata": {},
   "outputs": [
    {
     "name": "stdout",
     "output_type": "stream",
     "text": [
      "1 line\n",
      "2 line\n",
      "3 line\n",
      "4 line\n",
      "5 line\n",
      "\n"
     ]
    }
   ],
   "source": [
    "f=open('newnew.txt','r')\n",
    "data = f.read()\n",
    "print(data)\n",
    "f.close()"
   ]
  },
  {
   "cell_type": "code",
   "execution_count": 114,
   "metadata": {},
   "outputs": [],
   "source": [
    "#파일 - 실습1\n",
    "\n",
    "f=open('test.txt','w')\n",
    "f.write('first line\\n')\n",
    "f.write('second line\\n')\n",
    "f.write('third line\\n')\n",
    "f.close()"
   ]
  },
  {
   "cell_type": "code",
   "execution_count": 149,
   "metadata": {},
   "outputs": [
    {
     "name": "stdout",
     "output_type": "stream",
     "text": [
      "['first', 'line', 'second', 'line', 'third', 'line']\n"
     ]
    }
   ],
   "source": [
    "f=open('test.txt','r')\n",
    "line_list =[]\n",
    "for line in f:\n",
    "    line_list.append(line.strip())\n",
    "    line_list1 = ','.join(line_list).replace(',',' ').split()\n",
    "print(line_list1)\n",
    "f.close()"
   ]
  },
  {
   "cell_type": "code",
   "execution_count": 150,
   "metadata": {},
   "outputs": [
    {
     "name": "stdout",
     "output_type": "stream",
     "text": [
      "{'third': 1, 'line': 3, 'second': 1, 'first': 1}\n"
     ]
    }
   ],
   "source": [
    "line_set = set(line_list1)\n",
    "line_dict = {}\n",
    "line_count = 0\n",
    "for i in line_set:\n",
    "    line_count = line_list1.count(i)\n",
    "    line_dict[i] = line_count\n",
    "print(line_dict)"
   ]
  },
  {
   "cell_type": "code",
   "execution_count": 154,
   "metadata": {},
   "outputs": [
    {
     "name": "stdout",
     "output_type": "stream",
     "text": [
      "third 1\n"
     ]
    },
    {
     "ename": "AttributeError",
     "evalue": "'NoneType' object has no attribute 'upper'",
     "output_type": "error",
     "traceback": [
      "\u001b[1;31m---------------------------------------------------------------------------\u001b[0m",
      "\u001b[1;31mAttributeError\u001b[0m                            Traceback (most recent call last)",
      "\u001b[1;32m<ipython-input-154-4fd77f4dfe53>\u001b[0m in \u001b[0;36m<module>\u001b[1;34m\u001b[0m\n\u001b[0;32m      1\u001b[0m \u001b[1;32mfor\u001b[0m \u001b[0mk\u001b[0m\u001b[1;33m,\u001b[0m\u001b[0mv\u001b[0m \u001b[1;32min\u001b[0m \u001b[0mline_dict\u001b[0m\u001b[1;33m.\u001b[0m\u001b[0mitems\u001b[0m\u001b[1;33m(\u001b[0m\u001b[1;33m)\u001b[0m\u001b[1;33m:\u001b[0m\u001b[1;33m\u001b[0m\u001b[1;33m\u001b[0m\u001b[0m\n\u001b[1;32m----> 2\u001b[1;33m     \u001b[0mprint\u001b[0m\u001b[1;33m(\u001b[0m\u001b[0mk\u001b[0m\u001b[1;33m,\u001b[0m\u001b[0mv\u001b[0m\u001b[1;33m)\u001b[0m\u001b[1;33m.\u001b[0m\u001b[0mupper\u001b[0m\u001b[1;33m(\u001b[0m\u001b[1;33m)\u001b[0m\u001b[1;33m\u001b[0m\u001b[1;33m\u001b[0m\u001b[0m\n\u001b[0m",
      "\u001b[1;31mAttributeError\u001b[0m: 'NoneType' object has no attribute 'upper'"
     ]
    }
   ],
   "source": [
    "for k,v in line_dict.items():\n",
    "    print(k,v)"
   ]
  },
  {
   "cell_type": "code",
   "execution_count": 160,
   "metadata": {},
   "outputs": [
    {
     "name": "stdout",
     "output_type": "stream",
     "text": [
      "Enter a file name: test.txt\n",
      "FIRST LINE\n",
      "SECOND LINE\n",
      "THIRD LINE\n"
     ]
    }
   ],
   "source": [
    "#파일 - 실습2\n",
    "\n",
    "file_name = input(\"Enter a file name: \")\n",
    "f=open(file_name,'r')\n",
    "for line in f.readlines():\n",
    "    print(line.upper(), end='')"
   ]
  },
  {
   "cell_type": "code",
   "execution_count": 167,
   "metadata": {},
   "outputs": [
    {
     "name": "stdout",
     "output_type": "stream",
     "text": [
      "hello\n"
     ]
    }
   ],
   "source": [
    "def say():\n",
    "    return 'hello'\n",
    "\n",
    "a = say()\n",
    "print(a)"
   ]
  },
  {
   "cell_type": "code",
   "execution_count": 166,
   "metadata": {},
   "outputs": [
    {
     "name": "stdout",
     "output_type": "stream",
     "text": [
      "hello\n",
      "None\n"
     ]
    }
   ],
   "source": [
    "def say():\n",
    "    print('hello')\n",
    "    \n",
    "a = say()\n",
    "print(a)"
   ]
  },
  {
   "cell_type": "code",
   "execution_count": 176,
   "metadata": {},
   "outputs": [],
   "source": [
    "#연습문제1\n",
    "\n",
    "a=1\n",
    "b=2\n",
    "\n",
    "def addd(a,b):\n",
    "    result = a+b\n",
    "    return result\n",
    "def subb(a,b):\n",
    "    result = a-b\n",
    "    return result\n",
    "def mull(a,b):\n",
    "    result = a*b\n",
    "    return result\n",
    "def divv(a,b):\n",
    "    result = a//b\n",
    "    return result"
   ]
  },
  {
   "cell_type": "code",
   "execution_count": 178,
   "metadata": {},
   "outputs": [
    {
     "name": "stdout",
     "output_type": "stream",
     "text": [
      "3 -1 2 0\n"
     ]
    }
   ],
   "source": [
    "print(addd(a,b), subb(a,b), mull(a,b), divv(a,b))"
   ]
  },
  {
   "cell_type": "code",
   "execution_count": 182,
   "metadata": {},
   "outputs": [],
   "source": [
    "#연습문제2\n",
    "\n",
    "def factorial(n):\n",
    "    m = 1\n",
    "    while n>0:\n",
    "        m *=n\n",
    "        n -=1\n",
    "    fac_res = m\n",
    "    return fac_res"
   ]
  },
  {
   "cell_type": "code",
   "execution_count": 183,
   "metadata": {},
   "outputs": [
    {
     "data": {
      "text/plain": [
       "6"
      ]
     },
     "execution_count": 183,
     "metadata": {},
     "output_type": "execute_result"
    }
   ],
   "source": [
    "factorial(3)"
   ]
  },
  {
   "cell_type": "code",
   "execution_count": 184,
   "metadata": {},
   "outputs": [
    {
     "data": {
      "text/plain": [
       "120"
      ]
     },
     "execution_count": 184,
     "metadata": {},
     "output_type": "execute_result"
    }
   ],
   "source": [
    "factorial(5)"
   ]
  },
  {
   "cell_type": "code",
   "execution_count": 186,
   "metadata": {},
   "outputs": [],
   "source": [
    "#연습문제3\n",
    "\n",
    "def pow(n,a):\n",
    "    return n**a"
   ]
  },
  {
   "cell_type": "code",
   "execution_count": 187,
   "metadata": {},
   "outputs": [
    {
     "data": {
      "text/plain": [
       "125"
      ]
     },
     "execution_count": 187,
     "metadata": {},
     "output_type": "execute_result"
    }
   ],
   "source": [
    "pow(5,3)"
   ]
  },
  {
   "cell_type": "code",
   "execution_count": 188,
   "metadata": {},
   "outputs": [
    {
     "data": {
      "text/plain": [
       "16"
      ]
     },
     "execution_count": 188,
     "metadata": {},
     "output_type": "execute_result"
    }
   ],
   "source": [
    "pow(2,4)"
   ]
  },
  {
   "cell_type": "code",
   "execution_count": 191,
   "metadata": {},
   "outputs": [],
   "source": [
    "#디폴트 매개변수\n",
    "def printName(first,second='Lee'):\n",
    "    print('My name is',first,'',second + '.')"
   ]
  },
  {
   "cell_type": "code",
   "execution_count": 192,
   "metadata": {},
   "outputs": [
    {
     "name": "stdout",
     "output_type": "stream",
     "text": [
      "My name is Chulsoo  Kim.\n"
     ]
    }
   ],
   "source": [
    "printName('Chulsoo','Kim')"
   ]
  },
  {
   "cell_type": "code",
   "execution_count": 193,
   "metadata": {},
   "outputs": [
    {
     "name": "stdout",
     "output_type": "stream",
     "text": [
      "My name is Chulsoo  Lee.\n"
     ]
    }
   ],
   "source": [
    "printName('Chulsoo')"
   ]
  },
  {
   "cell_type": "code",
   "execution_count": 196,
   "metadata": {},
   "outputs": [
    {
     "name": "stdout",
     "output_type": "stream",
     "text": [
      "16시간 4분 54초\n"
     ]
    }
   ],
   "source": [
    "#연습문제4\n",
    "\n",
    "def hour_min_sec(second):\n",
    "    secc = second%60\n",
    "    minn = (second//60)%60\n",
    "    hour = (second//60)//60\n",
    "    return (hour,minn,secc)\n",
    "hour,minn,secc = hour_min_sec(57894)\n",
    "print('%d시간 %d분 %d초' %(hour,minn,secc))"
   ]
  },
  {
   "cell_type": "code",
   "execution_count": 200,
   "metadata": {},
   "outputs": [
    {
     "name": "stdout",
     "output_type": "stream",
     "text": [
      "[1, 2, 3, 4, 5, 6]\n"
     ]
    }
   ],
   "source": [
    "#mutable타입의 매개변수 : list & dictionary\n",
    "t=[1,2,3]\n",
    "\n",
    "def test(a):\n",
    "    a+=[4,5,6]\n",
    "test(t)\n",
    "print(t)"
   ]
  },
  {
   "cell_type": "code",
   "execution_count": 205,
   "metadata": {},
   "outputs": [
    {
     "name": "stdout",
     "output_type": "stream",
     "text": [
      "1\n",
      "9\n",
      "[3, 5, 2]\n"
     ]
    }
   ],
   "source": [
    "#연습문제5\n",
    "\n",
    "def get_min_max(l):\n",
    "    min1 = min(l)\n",
    "    max1 = max(l)\n",
    "    l.remove(min1)\n",
    "    l.remove(max1)\n",
    "    return (min1,max1)\n",
    "\n",
    "l=[3,5,9,1,2]\n",
    "(min_val,max_val) = get_min_max(l)\n",
    "print(min_val)\n",
    "print(max_val)\n",
    "print(l)"
   ]
  },
  {
   "cell_type": "code",
   "execution_count": 281,
   "metadata": {},
   "outputs": [],
   "source": [
    "#연습문제6\n",
    "\n",
    "def dotpro(a,b):\n",
    "    result = 0\n",
    "    for k,v in a.items():\n",
    "        if k in b:\n",
    "            result += v*b[k]\n",
    "\n",
    "    return result"
   ]
  },
  {
   "cell_type": "code",
   "execution_count": 282,
   "metadata": {},
   "outputs": [
    {
     "data": {
      "text/plain": [
       "15"
      ]
     },
     "execution_count": 282,
     "metadata": {},
     "output_type": "execute_result"
    }
   ],
   "source": [
    "v1={'a':5}\n",
    "v2={'a':3,'b':2}\n",
    "\n",
    "dotpro(v1,v2)"
   ]
  },
  {
   "cell_type": "code",
   "execution_count": 283,
   "metadata": {},
   "outputs": [
    {
     "data": {
      "text/plain": [
       "0"
      ]
     },
     "execution_count": 283,
     "metadata": {},
     "output_type": "execute_result"
    }
   ],
   "source": [
    "v1={'c':5}\n",
    "v2={'a':2,'b':1}\n",
    "\n",
    "dotpro(v1,v2)"
   ]
  },
  {
   "cell_type": "code",
   "execution_count": 284,
   "metadata": {},
   "outputs": [
    {
     "data": {
      "text/plain": [
       "3"
      ]
     },
     "execution_count": 284,
     "metadata": {},
     "output_type": "execute_result"
    }
   ],
   "source": [
    "v1={'a':5,'b':4}\n",
    "v2={'a':-1,'b':2}\n",
    "\n",
    "dotpro(v1,v2)"
   ]
  },
  {
   "cell_type": "code",
   "execution_count": 208,
   "metadata": {},
   "outputs": [
    {
     "data": {
      "text/plain": [
       "'g'"
      ]
     },
     "execution_count": 208,
     "metadata": {},
     "output_type": "execute_result"
    }
   ],
   "source": [
    "import random\n",
    "random.choice('abcdefg')"
   ]
  },
  {
   "cell_type": "code",
   "execution_count": 245,
   "metadata": {},
   "outputs": [
    {
     "data": {
      "text/plain": [
       "7"
      ]
     },
     "execution_count": 245,
     "metadata": {},
     "output_type": "execute_result"
    }
   ],
   "source": [
    "random.randint(1,7)"
   ]
  },
  {
   "cell_type": "code",
   "execution_count": 248,
   "metadata": {},
   "outputs": [],
   "source": [
    "random.shuffle([1,2,3,4,5])"
   ]
  },
  {
   "cell_type": "code",
   "execution_count": 249,
   "metadata": {},
   "outputs": [
    {
     "data": {
      "text/plain": [
       "[3, 6, 1]"
      ]
     },
     "execution_count": 249,
     "metadata": {},
     "output_type": "execute_result"
    }
   ],
   "source": [
    "random.sample([1,2,3,4,5,6],3)"
   ]
  },
  {
   "cell_type": "code",
   "execution_count": null,
   "metadata": {},
   "outputs": [],
   "source": [
    "#연습문제7\n",
    "\n"
   ]
  },
  {
   "cell_type": "code",
   "execution_count": 285,
   "metadata": {},
   "outputs": [],
   "source": [
    "class Account:\n",
    "    #계좌의 속성\n",
    "    number = '0000-000-000000'\n",
    "    balance = 0\n",
    "    rate = 1.0\n",
    "    \n",
    "    #계좌의 기능\n",
    "    def deposit(self,money): #입금\n",
    "        self.balance += money\n",
    "    def withdraw(self,money): #인출\n",
    "        self.balance -= money\n",
    "    def obtain_interest(self): #이자획득\n",
    "        self.balance += self.balance*(self.rate/100)"
   ]
  },
  {
   "cell_type": "code",
   "execution_count": 286,
   "metadata": {},
   "outputs": [],
   "source": [
    "acc1 = Account()\n",
    "acc2 = Account()\n",
    "acc3 = Account()"
   ]
  },
  {
   "cell_type": "code",
   "execution_count": 287,
   "metadata": {},
   "outputs": [
    {
     "name": "stdout",
     "output_type": "stream",
     "text": [
      "500\n",
      "1000\n",
      "0\n"
     ]
    }
   ],
   "source": [
    "acc1.deposit(500)\n",
    "acc2.deposit(1000)\n",
    "\n",
    "print(acc1.balance)\n",
    "print(acc2.balance)\n",
    "print(acc3.balance)"
   ]
  },
  {
   "cell_type": "code",
   "execution_count": 288,
   "metadata": {},
   "outputs": [
    {
     "name": "stdout",
     "output_type": "stream",
     "text": [
      "1010.0\n"
     ]
    }
   ],
   "source": [
    "acc2.obtain_interest()\n",
    "\n",
    "print(acc2.balance)"
   ]
  },
  {
   "cell_type": "code",
   "execution_count": 292,
   "metadata": {},
   "outputs": [],
   "source": [
    "class Account:\n",
    "    #계좌의 속성\n",
    "    number = '0000-000-000000'\n",
    "    balance = 0\n",
    "    rate = 1.0\n",
    "    num_acc = 0\n",
    "    \n",
    "    def __init__(self,num='000-000-00000', amnt=0, rate=1.0):\n",
    "        self.number = num\n",
    "        self.balnce = amnt\n",
    "        self.rate = rate\n",
    "        Account.num_acc += 1\n",
    "    \n",
    "    #계좌의 기능\n",
    "    def deposit(self,money): #입금\n",
    "        self.balance += money\n",
    "    def withdraw(self,money): #인출\n",
    "        self.balance -= money\n",
    "    def obtain_interest(self): #이자획득\n",
    "        self.balance += self.balance*(self.rate/100)"
   ]
  },
  {
   "cell_type": "code",
   "execution_count": 293,
   "metadata": {},
   "outputs": [
    {
     "name": "stdout",
     "output_type": "stream",
     "text": [
      "2\n"
     ]
    }
   ],
   "source": [
    "acc1 = Account()\n",
    "acc2 = Account()\n",
    "\n",
    "print(Account.num_acc) #개설된 계좌의 총 수"
   ]
  },
  {
   "cell_type": "code",
   "execution_count": 294,
   "metadata": {},
   "outputs": [],
   "source": [
    "#최소잔액계좌\n",
    "class MinBalanceAccount(Account): #Account 클래스를 상속받음\n",
    "    def __init__(self,min_balance,num='0000-000-00000'):\n",
    "        Account.__init__(self,num=num,amnt=amnt,rate=rate)\n",
    "        self.minimum_balance = min_balance\n",
    "        self.bonus_rate = 1.0"
   ]
  },
  {
   "cell_type": "code",
   "execution_count": 299,
   "metadata": {},
   "outputs": [
    {
     "name": "stdout",
     "output_type": "stream",
     "text": [
      "Sorry, minimum balance must be maintained\n",
      "500\n",
      "1000\n"
     ]
    }
   ],
   "source": [
    "class Account:\n",
    "\tnum_acc = 0\n",
    "\t# 계좌의 기능(Method)\n",
    "\tdef __init__(self, num='OOO-OOO-OOOOO', amnt=0, rate=1.0):\n",
    "\t\tself.number = num\n",
    "\t\tself.balance = amnt\n",
    "\t\tself.rate = rate\n",
    "\t\tAccount.num_acc += 1\n",
    "\tdef deposit(self, money): #입금\n",
    "\t\tself.balance += money\n",
    "\tdef withdraw(self, money): #인출\n",
    "\t\tself.balance -= money\n",
    "\t\treturn True\n",
    "\tdef obtain_interest(self): #이자 획득\n",
    "\t\tself.balance += self.balance*(self.rate/100)\n",
    "\tdef __add__(self, another): #두 계좌 통합 기능\n",
    "\t\treturn Account(amnt=self.balance+another.balance, rate=self.rate)\n",
    "\tdef transfer(self, another, amnt):\n",
    "\t\tif self.withdraw(amnt):\n",
    "\t\t\tanother.deposit(amnt)\n",
    "\tdef __repr__(self):\n",
    "\t\treturn str(self.balance)\n",
    "\n",
    "class MinBalanceAccount(Account): #Account 클래스를 상속받음\n",
    "\tdef __init__(self, min_balance=0, num='OOOO-OOO-OOOOO',amnt=0, rate=1.0):\n",
    "\t\tAccount.__init__(self, num=num, amnt=amnt,rate=rate)\n",
    "\t\tself.minimum_balance = min_balance\n",
    "\t\tself.bonus_rate = 1.0\n",
    "\tdef withdraw(self, amnt): # 인출 기능 수정\n",
    "\t\tif self.balance - amnt < self.minimum_balance:\n",
    "\t\t\tprint('Sorry, minimum balance must be maintained')\n",
    "\t\t\treturn False\n",
    "\t\telse:\n",
    "\t\t\tAccount.withdraw(self, amnt)\n",
    "\tdef obtain_interest(self): #보너스 이율 반영\n",
    "\t\tself.balance += (self.balance)*((self.rate+self.bonus_rate)/100.0)\n",
    "\n",
    "acc1 = MinBalanceAccount()\n",
    "acc2 = MinBalanceAccount()\n",
    "acc1.deposit(500)\t#==Account.deposit(acc1, 500)\n",
    "acc2.deposit(1000)\t#==Account.deposit(acc2, 1000)\n",
    "acc1.transfer(acc2,600)\n",
    "print(acc1)\n",
    "print(acc2.balance)"
   ]
  },
  {
   "cell_type": "code",
   "execution_count": null,
   "metadata": {},
   "outputs": [],
   "source": []
  }
 ],
 "metadata": {
  "kernelspec": {
   "display_name": "Python 3",
   "language": "python",
   "name": "python3"
  },
  "language_info": {
   "codemirror_mode": {
    "name": "ipython",
    "version": 3
   },
   "file_extension": ".py",
   "mimetype": "text/x-python",
   "name": "python",
   "nbconvert_exporter": "python",
   "pygments_lexer": "ipython3",
   "version": "3.7.3"
  }
 },
 "nbformat": 4,
 "nbformat_minor": 2
}

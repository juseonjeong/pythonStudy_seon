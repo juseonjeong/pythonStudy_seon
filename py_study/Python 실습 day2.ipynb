{
 "cells": [
  {
   "cell_type": "code",
   "execution_count": 1,
   "metadata": {},
   "outputs": [],
   "source": [
    "import numpy as np\n",
    "from scipy import stats\n",
    "import pandas as pd\n",
    "import statsmodels.api as sm\n",
    "import matplotlib.pyplot as pit\n",
    "import seaborn as sns\n",
    "from statsmodels.stats.proportion import proportions_ztest"
   ]
  },
  {
   "cell_type": "markdown",
   "metadata": {},
   "source": [
    "## 추론통계\n",
    "### 1. 모평균 신뢰구간 추정\n",
    "#### 연습\n",
    "새로운 품종의 배추 40통을 랜덤추출하여 무게를 측정. 모표준편차는 0.397, 평균 무게에 대한 95%신뢰구간을 구하시오."
   ]
  },
  {
   "cell_type": "code",
   "execution_count": 21,
   "metadata": {},
   "outputs": [
    {
     "name": "stdout",
     "output_type": "stream",
     "text": [
      "신뢰구간:(2.58,2.82)\n"
     ]
    }
   ],
   "source": [
    "#EXH_QC.csv 에서 읽어옴\n",
    "ds_example = pd.read_csv(\"/home/pirl/Downloads/data/EXH_QC.csv\")\n",
    "df = ds_example[['Cabbage weight']].copy()\n",
    "\n",
    "#정규분포 구간 추정 함수 실행\n",
    "lower,upper = stats.norm.interval(0.95, loc=2.7, scale=0.397/np.sqrt(40))\n",
    "#lower,upper = stats.norm.interval(0.95, loc=df.mean(), scale=stats.sem(df)) 도 해보기\n",
    "print(\"신뢰구간:({0},{1})\".format(lower.round(2), upper.round(2)))"
   ]
  },
  {
   "cell_type": "code",
   "execution_count": 20,
   "metadata": {},
   "outputs": [
    {
     "data": {
      "text/plain": [
       "Cabbage weight    2.695\n",
       "dtype: float64"
      ]
     },
     "execution_count": 20,
     "metadata": {},
     "output_type": "execute_result"
    }
   ],
   "source": [
    "df.mean()"
   ]
  },
  {
   "cell_type": "markdown",
   "metadata": {},
   "source": [
    "#### 실습\n",
    "감자 20박스를 랜덤추출하여 무게를 측정. 모표준편차는 3.8, 평균 무게에 대한 95%신뢰구간을 구하시오."
   ]
  },
  {
   "cell_type": "code",
   "execution_count": 34,
   "metadata": {},
   "outputs": [],
   "source": [
    "df = pd.DataFrame({'Sample' : [18, 18, 20, 21, 20, 23, 19, 18, 17, 21,\n",
    "                               22, 20, 20, 21, 20, 19, 19, 18, 17, 19]})"
   ]
  },
  {
   "cell_type": "code",
   "execution_count": 35,
   "metadata": {},
   "outputs": [
    {
     "data": {
      "text/html": [
       "<div>\n",
       "<style scoped>\n",
       "    .dataframe tbody tr th:only-of-type {\n",
       "        vertical-align: middle;\n",
       "    }\n",
       "\n",
       "    .dataframe tbody tr th {\n",
       "        vertical-align: top;\n",
       "    }\n",
       "\n",
       "    .dataframe thead th {\n",
       "        text-align: right;\n",
       "    }\n",
       "</style>\n",
       "<table border=\"1\" class=\"dataframe\">\n",
       "  <thead>\n",
       "    <tr style=\"text-align: right;\">\n",
       "      <th></th>\n",
       "      <th>Sample</th>\n",
       "    </tr>\n",
       "  </thead>\n",
       "  <tbody>\n",
       "    <tr>\n",
       "      <th>0</th>\n",
       "      <td>18</td>\n",
       "    </tr>\n",
       "    <tr>\n",
       "      <th>1</th>\n",
       "      <td>18</td>\n",
       "    </tr>\n",
       "    <tr>\n",
       "      <th>2</th>\n",
       "      <td>20</td>\n",
       "    </tr>\n",
       "    <tr>\n",
       "      <th>3</th>\n",
       "      <td>21</td>\n",
       "    </tr>\n",
       "    <tr>\n",
       "      <th>4</th>\n",
       "      <td>20</td>\n",
       "    </tr>\n",
       "    <tr>\n",
       "      <th>5</th>\n",
       "      <td>23</td>\n",
       "    </tr>\n",
       "    <tr>\n",
       "      <th>6</th>\n",
       "      <td>19</td>\n",
       "    </tr>\n",
       "    <tr>\n",
       "      <th>7</th>\n",
       "      <td>18</td>\n",
       "    </tr>\n",
       "    <tr>\n",
       "      <th>8</th>\n",
       "      <td>17</td>\n",
       "    </tr>\n",
       "    <tr>\n",
       "      <th>9</th>\n",
       "      <td>21</td>\n",
       "    </tr>\n",
       "    <tr>\n",
       "      <th>10</th>\n",
       "      <td>22</td>\n",
       "    </tr>\n",
       "    <tr>\n",
       "      <th>11</th>\n",
       "      <td>20</td>\n",
       "    </tr>\n",
       "    <tr>\n",
       "      <th>12</th>\n",
       "      <td>20</td>\n",
       "    </tr>\n",
       "    <tr>\n",
       "      <th>13</th>\n",
       "      <td>21</td>\n",
       "    </tr>\n",
       "    <tr>\n",
       "      <th>14</th>\n",
       "      <td>20</td>\n",
       "    </tr>\n",
       "    <tr>\n",
       "      <th>15</th>\n",
       "      <td>19</td>\n",
       "    </tr>\n",
       "    <tr>\n",
       "      <th>16</th>\n",
       "      <td>19</td>\n",
       "    </tr>\n",
       "    <tr>\n",
       "      <th>17</th>\n",
       "      <td>18</td>\n",
       "    </tr>\n",
       "    <tr>\n",
       "      <th>18</th>\n",
       "      <td>17</td>\n",
       "    </tr>\n",
       "    <tr>\n",
       "      <th>19</th>\n",
       "      <td>19</td>\n",
       "    </tr>\n",
       "  </tbody>\n",
       "</table>\n",
       "</div>"
      ],
      "text/plain": [
       "    Sample\n",
       "0       18\n",
       "1       18\n",
       "2       20\n",
       "3       21\n",
       "4       20\n",
       "5       23\n",
       "6       19\n",
       "7       18\n",
       "8       17\n",
       "9       21\n",
       "10      22\n",
       "11      20\n",
       "12      20\n",
       "13      21\n",
       "14      20\n",
       "15      19\n",
       "16      19\n",
       "17      18\n",
       "18      17\n",
       "19      19"
      ]
     },
     "execution_count": 35,
     "metadata": {},
     "output_type": "execute_result"
    }
   ],
   "source": [
    "df"
   ]
  },
  {
   "cell_type": "code",
   "execution_count": 37,
   "metadata": {},
   "outputs": [
    {
     "name": "stdout",
     "output_type": "stream",
     "text": [
      "신뢰구간:([18.8],[20.2])\n"
     ]
    }
   ],
   "source": [
    "#s/sqrt(n)\n",
    "\n",
    "lower,upper = stats.norm.interval(0.95, loc=np.mean(df), scale=stats.sem(df))\n",
    "print(\"신뢰구간:({0},{1})\".format(lower.round(2), upper.round(2)))"
   ]
  },
  {
   "cell_type": "code",
   "execution_count": 29,
   "metadata": {},
   "outputs": [
    {
     "name": "stdout",
     "output_type": "stream",
     "text": [
      "신뢰구간:([17.83],[21.17])\n"
     ]
    }
   ],
   "source": [
    "#sigma(:모표준편차)/sqrt(n)\n",
    "\n",
    "lower,upper = stats.norm.interval(0.95, loc=np.mean(df), scale=3.8/np.sqrt(20))\n",
    "print(\"신뢰구간:({0},{1})\".format(lower.round(2), upper.round(2)))"
   ]
  },
  {
   "cell_type": "code",
   "execution_count": 33,
   "metadata": {},
   "outputs": [
    {
     "name": "stdout",
     "output_type": "stream",
     "text": [
      "신뢰구간:([16.43],[22.57])\n"
     ]
    }
   ],
   "source": [
    "lower,upper = stats.norm.interval(0.95, loc=np.mean(df), scale=np.std(df))\n",
    "print(\"신뢰구간:({0},{1})\".format(lower.round(2), upper.round(2)))"
   ]
  },
  {
   "cell_type": "markdown",
   "metadata": {},
   "source": [
    "#### 연습\n",
    "강종의 평균 인장강도를 55kg/mm^2으로 기대하고 있음. 이를 검증하기 위해 임의로 20개의 코일을 대상으로 랜덤하게 채취. 이 모평균값의 95%신뢰구간을 추정하시오."
   ]
  },
  {
   "cell_type": "code",
   "execution_count": 39,
   "metadata": {},
   "outputs": [
    {
     "name": "stdout",
     "output_type": "stream",
     "text": [
      "신뢰구간:([54.39],[55.33])\n"
     ]
    }
   ],
   "source": [
    "df = pd.DataFrame({'sample': [54.1, 53.3, 56.1, 55.7, 54.0, 54.1, 54.5, 57.1, 55.2, 53.8,\n",
    "                             54.1, 54.1, 56.1, 55.0, 55.9, 56.0, 54.9, 54.3, 53.9, 55.0]})\n",
    "\n",
    "lower,upper = stats.t.interval(0.95, len(df)-1, loc=np.mean(df), scale=stats.sem(df))\n",
    "print(\"신뢰구간:({0},{1})\".format(lower.round(2), upper.round(2)))"
   ]
  },
  {
   "cell_type": "markdown",
   "metadata": {},
   "source": [
    "### 2. 가설검정\n",
    "#### 연습 (1-sample t-test)\n",
    "고객서비스센터의 고객만족도 평균은 76.7이다. 개선활동을 완료한 후 다음과 같은 10개의 고객만족도 데이터를 얻었다. 개선활동이 만족도를 변화시켰는가?"
   ]
  },
  {
   "cell_type": "code",
   "execution_count": 42,
   "metadata": {},
   "outputs": [
    {
     "name": "stdout",
     "output_type": "stream",
     "text": [
      "1-sample t-test\n",
      "t검정통계량 :[0.864]\n",
      "p-value :[0.41]\n"
     ]
    }
   ],
   "source": [
    "df = pd.DataFrame({'sample': [74.5, 81.2, 73.8, 82.0, 76.3, 75.7, 80.2, 72.6, 77.9, 82.8]})\n",
    "\n",
    "t_result = stats.ttest_1samp(df,76.7)\n",
    "t,p = t_result.statistic.round(3), t_result.pvalue.round(3)\n",
    "print(\"1-sample t-test\")\n",
    "print(\"t검정통계량 :{}\".format(t))\n",
    "print(\"p-value :{}\".format(p))"
   ]
  },
  {
   "cell_type": "markdown",
   "metadata": {},
   "source": [
    "#### 연습 (2-sample t-test)\n",
    "제품을 A공급자와 B공급자로 부터 제품을 받아 두께를 측정한 데이터이다. 공급자 간에 모평균에 차이가 있다고 할 수 있을까?"
   ]
  },
  {
   "cell_type": "code",
   "execution_count": 47,
   "metadata": {},
   "outputs": [
    {
     "name": "stdout",
     "output_type": "stream",
     "text": [
      "2-Sample t-test\n",
      "t검정통계량:[1.7]\n",
      "p-value:{} [0.111]\n"
     ]
    }
   ],
   "source": [
    "df1 = pd.DataFrame({'A': [1.883, 1.715, 1.799, 1.768, 1.711, 1.832, 1.427, 1.344]})\n",
    "df2 = pd.DataFrame({'B': [1.435, 1.572, 1.486, 1.511, 1.457, 1.548, 1.404, 1.883]})\n",
    "\n",
    "t_result = stats.ttest_ind(df1, df2, equal_var = True) #equal_var지정안하면 True!\n",
    "\n",
    "t,p = t_result.statistic.round(3), t_result.pvalue.round(3)\n",
    "\n",
    "print(\"2-Sample t-test\")\n",
    "print(\"t검정통계량:{}\".format(t))\n",
    "print(\"p-value:{}\",format(p))"
   ]
  },
  {
   "cell_type": "markdown",
   "metadata": {},
   "source": [
    "#### 연습 (paired t-test)\n",
    "회사원 10명에 대해 영어점수가 학원가기 전의 점수와 학원수강 후에 영어점수가 짝을 이루고 있다. 회사원들의 성적은 학원가기 전후에 대해 차이가 있는지 검정하라."
   ]
  },
  {
   "cell_type": "code",
   "execution_count": 49,
   "metadata": {},
   "outputs": [
    {
     "name": "stdout",
     "output_type": "stream",
     "text": [
      "Paired t-test\n",
      "t검정통계량:[-5.324]\n",
      "p-value:{} [0.]\n"
     ]
    }
   ],
   "source": [
    "df1 = pd.DataFrame({'before': [720, 589, 780, 648, 720, 589, 780, 648, 780, 648]})\n",
    "df2 = pd.DataFrame({'after': [810, 670, 790, 712, 810, 670, 790, 712, 790, 712]})\n",
    "\n",
    "t_result = stats.ttest_rel(df1, df2)\n",
    "\n",
    "t,p = t_result.statistic.round(3), t_result.pvalue.round(3)\n",
    "\n",
    "print(\"Paired t-test\")\n",
    "print(\"t검정통계량:{}\".format(t))\n",
    "print(\"p-value:{}\",format(p))"
   ]
  },
  {
   "cell_type": "markdown",
   "metadata": {},
   "source": [
    "#### 연습 (ANOVA)\n",
    "posco 그룹별 직원들의 토익성적에 차이가 있는지를 알고 싶다. 각 그룹별 토익 점수의 차이 여부를 검정하여라."
   ]
  },
  {
   "cell_type": "code",
   "execution_count": 50,
   "metadata": {
    "scrolled": true
   },
   "outputs": [
    {
     "name": "stdout",
     "output_type": "stream",
     "text": [
      "One-way ANOVA\n",
      "F검정통계량:[4.263]\n",
      "p-value:{} [0.025]\n"
     ]
    }
   ],
   "source": [
    "df1 = pd.DataFrame({'A': [892, 623, 721, 678, 723, 790, 720, 670, 690, 771]})\n",
    "df2 = pd.DataFrame({'B': [721, 821, 910, 678, 723, 790, 711, 790, 745, 891]})\n",
    "df3 = pd.DataFrame({'C': [621, 915, 888, 721, 894, 834, 841, 912, 845, 889]})\n",
    "f_result = stats.f_oneway(df1, df2,df3)\n",
    "\n",
    "f,p = f_result.statistic.round(3), f_result.pvalue.round(3)\n",
    "\n",
    "print(\"One-way ANOVA\")\n",
    "print(\"F검정통계량:{}\".format(f))\n",
    "print(\"p-value:{}\",format(p))"
   ]
  },
  {
   "cell_type": "code",
   "execution_count": 53,
   "metadata": {},
   "outputs": [
    {
     "name": "stdout",
     "output_type": "stream",
     "text": [
      "2-Sample t-test\n",
      "t검정통계량:[-1.468]\n",
      "p-value:{} [0.159]\n"
     ]
    }
   ],
   "source": [
    "df11 = pd.DataFrame({'A': [892, 623, 721, 678, 723, 790, 720, 670, 690, 771]})\n",
    "df21 = pd.DataFrame({'B': [721, 821, 910, 678, 723, 790, 711, 790, 745, 891]})\n",
    "\n",
    "t_result = stats.ttest_ind(df11, df21)\n",
    "\n",
    "t,p = t_result.statistic.round(3), t_result.pvalue.round(3)\n",
    "\n",
    "print(\"2-Sample t-test\")\n",
    "print(\"t검정통계량:{}\".format(t))\n",
    "print(\"p-value:{}\",format(p))"
   ]
  },
  {
   "cell_type": "code",
   "execution_count": 54,
   "metadata": {},
   "outputs": [
    {
     "name": "stdout",
     "output_type": "stream",
     "text": [
      "2-Sample t-test\n",
      "t검정통계량:[-2.831]\n",
      "p-value:{} [0.011]\n"
     ]
    }
   ],
   "source": [
    "df12 = pd.DataFrame({'A': [892, 623, 721, 678, 723, 790, 720, 670, 690, 771]})\n",
    "df32 = pd.DataFrame({'C': [621, 915, 888, 721, 894, 834, 841, 912, 845, 889]})\n",
    "\n",
    "t_result = stats.ttest_ind(df12, df32)\n",
    "\n",
    "t,p = t_result.statistic.round(3), t_result.pvalue.round(3)\n",
    "\n",
    "print(\"2-Sample t-test\")\n",
    "print(\"t검정통계량:{}\".format(t))\n",
    "print(\"p-value:{}\",format(p))\n",
    "\n",
    "#p-value : 0.011 로 유의수준 0.05보다 작기때문에 귀무가설을 기각한다.\n",
    "#즉, A그룹과 C그룹사이의 평균에 차이가 있다."
   ]
  },
  {
   "cell_type": "code",
   "execution_count": 55,
   "metadata": {},
   "outputs": [
    {
     "name": "stdout",
     "output_type": "stream",
     "text": [
      "2-Sample t-test\n",
      "t검정통계량:[-1.5]\n",
      "p-value:{} [0.151]\n"
     ]
    }
   ],
   "source": [
    "df23 = pd.DataFrame({'B': [721, 821, 910, 678, 723, 790, 711, 790, 745, 891]})\n",
    "df33 = pd.DataFrame({'C': [621, 915, 888, 721, 894, 834, 841, 912, 845, 889]})\n",
    "\n",
    "t_result = stats.ttest_ind(df23, df33)\n",
    "\n",
    "t,p = t_result.statistic.round(3), t_result.pvalue.round(3)\n",
    "\n",
    "print(\"2-Sample t-test\")\n",
    "print(\"t검정통계량:{}\".format(t))\n",
    "print(\"p-value:{}\",format(p))"
   ]
  },
  {
   "cell_type": "markdown",
   "metadata": {},
   "source": [
    "#### 연습 (1 proportion test)\n",
    "고급강 제품을 가공하는 국내 고객사는 전체 중에 10% 정도가 만족. 한 해 동안 품질에 대해 노력을 하였고 전체고객 중 100여 개의 업체를 표본으로 하여 가공품질을 확인한 후 15개의 업체가 만족을 표현했다. 과연 품질개선을 한 결과로 기존보다 전체 고객 중 만족도의 차이가 있는 것인가?"
   ]
  },
  {
   "cell_type": "code",
   "execution_count": 61,
   "metadata": {},
   "outputs": [
    {
     "name": "stdout",
     "output_type": "stream",
     "text": [
      "1 Proportion test\n",
      "p검정통계량 :1.400\n",
      "p-value: {0:0.3f} 0.16142946236708322\n"
     ]
    }
   ],
   "source": [
    "from statsmodels.stats.proportion import proportions_ztest\n",
    "\n",
    "count=15\n",
    "nobs=100 #표본 수를 늘려도 보자!\n",
    "value=.1\n",
    "\n",
    "stat, pval = proportions_ztest(count, nobs, value)\n",
    "\n",
    "print(\"1 Proportion test\")\n",
    "print('p검정통계량 :{0:0.3f}'.format(stat))\n",
    "print('p-value: {0:0.3f}',format(pval))"
   ]
  },
  {
   "cell_type": "markdown",
   "metadata": {},
   "source": [
    "#### 연습 (2 proportion test)\n",
    "동일한 제품을 생산하는 두 공장에서 불량률을 측정한 결과이다. 두 공정의 불량률이 같다고 할 수 있는가?"
   ]
  },
  {
   "cell_type": "code",
   "execution_count": 59,
   "metadata": {},
   "outputs": [
    {
     "name": "stdout",
     "output_type": "stream",
     "text": [
      "2 Proportion test\n",
      "p통계량 :1.553\n",
      "p-value :0.120\n"
     ]
    }
   ],
   "source": [
    "count=np.array([4,1])\n",
    "nobs=np.array([1000,1200])\n",
    "\n",
    "stat, pval = proportions_ztest(count,nobs)\n",
    "\n",
    "print(\"2 Proportion test\")\n",
    "print('p통계량 :{0:0.3f}'.format(stat))\n",
    "print('p-value :{0:0.3f}'.format(pval))"
   ]
  },
  {
   "cell_type": "markdown",
   "metadata": {},
   "source": [
    "#### 연습 (카이제곱 검정)\n",
    "근무조별로 철강제품을 생산하고 있는데, 생산 제품의 규격이 3가지 종류가 있다. 근무조별로 제품을 생산하는 부하는 차이가 있겠는가?"
   ]
  },
  {
   "cell_type": "code",
   "execution_count": 65,
   "metadata": {},
   "outputs": [
    {
     "name": "stdout",
     "output_type": "stream",
     "text": [
      "chi-square test\n",
      "chisq: 13.366\n",
      "p-value: 0.038\n",
      "degree of freedom: 6\n",
      "expected value:\n",
      "[[258.333 276.333 230.667 234.667]\n",
      " [258.333 276.333 230.667 234.667]\n",
      " [258.333 276.333 230.667 234.667]]\n"
     ]
    }
   ],
   "source": [
    "df = pd.DataFrame({'HSG':[270, 260, 236, 234], 'SS':[228, 285, 225, 262],\n",
    "                   'SPA':[277, 284, 231, 208]})\n",
    "\n",
    "chi, pval, dof, expected = stats.chi2_contingency(df.T)\n",
    "\n",
    "print(\"chi-square test\")\n",
    "print('chisq: {0:0.3f}'.format(chi))\n",
    "print('p-value: {0:0.3f}'.format(pval))\n",
    "print('degree of freedom: {}'.format(dof))\n",
    "print('expected value:\\n{}'.format(expected.round(3)))"
   ]
  },
  {
   "cell_type": "markdown",
   "metadata": {},
   "source": [
    "### 2. 상관분석\n",
    "#### 연습\n",
    "부품수리시간과 부품 수 간에 관계를 분석하기 위한 상관분석 실시"
   ]
  },
  {
   "cell_type": "code",
   "execution_count": 71,
   "metadata": {},
   "outputs": [
    {
     "name": "stdout",
     "output_type": "stream",
     "text": [
      "Correlation Analysis\n",
      "corr: 0.989\n",
      "p-value:0.000\n"
     ]
    }
   ],
   "source": [
    "df1 = [1,2,3,4,4,5,6,6,7,8]\n",
    "df2 = [23,29,49,64,74,87,96,97,109,119]\n",
    "\n",
    "corr,pval = stats.pearsonr(df1, df2)\n",
    "\n",
    "print(\"Correlation Analysis\")\n",
    "print('corr: {0:0.3f}'.format(corr))\n",
    "print('p-value:{0:0.3f}'.format(pval))"
   ]
  },
  {
   "cell_type": "markdown",
   "metadata": {},
   "source": [
    "### 3. 회귀분석\n",
    "#### 연습\n",
    "부품수리시간과 부품 수 간에 관계를 분석하기 위한 회귀분석 실시"
   ]
  },
  {
   "cell_type": "code",
   "execution_count": 75,
   "metadata": {},
   "outputs": [
    {
     "name": "stdout",
     "output_type": "stream",
     "text": [
      "                            OLS Regression Results                            \n",
      "==============================================================================\n",
      "Dep. Variable:                      y   R-squared:                       0.979\n",
      "Model:                            OLS   Adj. R-squared:                  0.976\n",
      "Method:                 Least Squares   F-statistic:                     365.3\n",
      "Date:                Fri, 12 Jul 2019   Prob (F-statistic):           5.82e-08\n",
      "Time:                        13:51:09   Log-Likelihood:                -29.401\n",
      "No. Observations:                  10   AIC:                             62.80\n",
      "Df Residuals:                       8   BIC:                             63.41\n",
      "Df Model:                           1                                         \n",
      "Covariance Type:            nonrobust                                         \n",
      "==============================================================================\n",
      "                 coef    std err          t      P>|t|      [0.025      0.975]\n",
      "------------------------------------------------------------------------------\n",
      "const          7.1712      3.886      1.845      0.102      -1.791      16.133\n",
      "x1            14.6802      0.768     19.112      0.000      12.909      16.451\n",
      "==============================================================================\n",
      "Omnibus:                        0.118   Durbin-Watson:                   1.283\n",
      "Prob(Omnibus):                  0.943   Jarque-Bera (JB):                0.241\n",
      "Skew:                           0.191   Prob(JB):                        0.886\n",
      "Kurtosis:                       2.343   Cond. No.                         12.5\n",
      "==============================================================================\n",
      "\n",
      "Warnings:\n",
      "[1] Standard Errors assume that the covariance matrix of the errors is correctly specified.\n"
     ]
    },
    {
     "name": "stderr",
     "output_type": "stream",
     "text": [
      "/home/pirl/anaconda3/lib/python3.7/site-packages/scipy/stats/stats.py:1416: UserWarning: kurtosistest only valid for n>=20 ... continuing anyway, n=10\n",
      "  \"anyway, n=%i\" % int(n))\n"
     ]
    }
   ],
   "source": [
    "#데이터 선언\n",
    "MINUTES = [1,2,3,4,4,5,6,6,7,8]\n",
    "UNITS = [23,29,49,64,74,87,96,97,109,119]\n",
    "\n",
    "#Simple Linear Regression\n",
    "MINUTES = sm.add_constant(MINUTES)\n",
    "model = sm.OLS(UNITS, MINUTES)\n",
    "result = model.fit()\n",
    "\n",
    "#Simple Linear Regression 결과 출력\n",
    "print(result.summary())"
   ]
  },
  {
   "cell_type": "code",
   "execution_count": null,
   "metadata": {},
   "outputs": [],
   "source": []
  }
 ],
 "metadata": {
  "kernelspec": {
   "display_name": "Python 3",
   "language": "python",
   "name": "python3"
  },
  "language_info": {
   "codemirror_mode": {
    "name": "ipython",
    "version": 3
   },
   "file_extension": ".py",
   "mimetype": "text/x-python",
   "name": "python",
   "nbconvert_exporter": "python",
   "pygments_lexer": "ipython3",
   "version": "3.7.3"
  }
 },
 "nbformat": 4,
 "nbformat_minor": 2
}

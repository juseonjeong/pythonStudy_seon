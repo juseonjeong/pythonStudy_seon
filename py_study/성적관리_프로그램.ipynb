{
 "cells": [
  {
   "cell_type": "code",
   "execution_count": null,
   "metadata": {},
   "outputs": [],
   "source": [
    "import sys\n",
    "\n",
    "args = sys.argv\n",
    "\n",
    "f = open(sys.argv[1], 'r')\n",
    "\n",
    "for line in f.readlines():\n",
    "    print(line, end='')\n",
    "    linesp = line.split()\n",
    "    linesp[2] = [linesp[0], linesp[3], linesp[4]]\n",
    "    stu_list.append(linesp[2])\n",
    "\n",
    "f.close()"
   ]
  },
  {
   "cell_type": "code",
   "execution_count": 1,
   "metadata": {},
   "outputs": [
    {
     "name": "stdout",
     "output_type": "stream",
     "text": [
      " Student        Name          Midterm  Final    Average     Grade\n",
      "---------------------------------------------------------------\n",
      "20180001\tHong Gildong\t84\t73\n",
      "20180002\tLee Jieun\t92\t89\n",
      "20180007\tKim Cheolsu\t57\t62\n",
      "20180009\tLee Yeonghee\t81\t84\n",
      "20180011\tHa Donghun\t58\t68\n"
     ]
    }
   ],
   "source": [
    "print(\" Student{:>12}{:>17}{:>7}{:>11}{:>10}\".format(\"Name\",\"Midterm\",\"Final\",\"Average\",\"Grade\"))\n",
    "print(\"---------------------------------------------------------------\")\n",
    "stu_list=[] #학생목록\n",
    "f = open(\"students.txt\",'r')\n",
    "for line in f.readlines():\n",
    "    print(line, end='')\n",
    "    linesp = line.split()\n",
    "    linesp[2] = [linesp[0], linesp[3], linesp[4]]\n",
    "    stu_list.append(linesp[2])\n",
    "f.close()"
   ]
  },
  {
   "cell_type": "markdown",
   "metadata": {},
   "source": [
    "# ============================================"
   ]
  },
  {
   "cell_type": "code",
   "execution_count": 46,
   "metadata": {
    "scrolled": true
   },
   "outputs": [
    {
     "name": "stdout",
     "output_type": "stream",
     "text": [
      "Student \tName \t     Midterm   Final \t  Average \tGrade\n",
      "----------------------------------------------------------------------\n",
      "20180001\tHong Gildong\t84\t73         78.5           C\n",
      "20180002\tLee Jieun\t92\t89         90.5           A\n",
      "20180007\tKim Cheolsu\t57\t62         59.5           F\n",
      "20180009\tLee Yeonghee\t81\t84         82.5           B\n",
      "20180011\tHa Donghun\t58\t68         63.0           D\n"
     ]
    }
   ],
   "source": [
    "print('Student','\\tName','\\t     Midterm','  Final','\\t  Average', '\\tGrade')\n",
    "print('----------------------------------------------------------------------')\n",
    "f =open('students.txt', 'r')\n",
    "stu_dict = {}\n",
    "for line in f.readlines():\n",
    "    line=line.strip()\n",
    "    line1 = line.split('\\t')\n",
    "    average=(int(line1[2])+int(line1[3]))/2\n",
    "    if average >= 90:\n",
    "        grade = 'A'\n",
    "    elif average >= 80:\n",
    "        grade = 'B'\n",
    "    elif average >= 70:\n",
    "        grade = 'C'\n",
    "    elif average >= 60:\n",
    "        grade = 'D'\n",
    "    else:\n",
    "        grade = 'F'\n",
    "    line1.append(average)\n",
    "    line1.append(grade)\n",
    "    stu_dict[int(line1[0])] = [int(line1[2]), int(line1[3]), line1[4]]\n",
    "    sorted_s1 = sorted(stu_dict.items(),key=lambda a: a[1][2], reverse=True)\n",
    "    print(line,' '*7,average,' '*9,grade)\n",
    "f.close()"
   ]
  },
  {
   "cell_type": "code",
   "execution_count": 41,
   "metadata": {},
   "outputs": [
    {
     "data": {
      "text/plain": [
       "str"
      ]
     },
     "execution_count": 41,
     "metadata": {},
     "output_type": "execute_result"
    }
   ],
   "source": [
    "type(line)"
   ]
  },
  {
   "cell_type": "code",
   "execution_count": 33,
   "metadata": {},
   "outputs": [
    {
     "data": {
      "text/plain": [
       "90.5"
      ]
     },
     "execution_count": 33,
     "metadata": {},
     "output_type": "execute_result"
    }
   ],
   "source": [
    "stu_dict[20180002][2]"
   ]
  },
  {
   "cell_type": "code",
   "execution_count": 36,
   "metadata": {},
   "outputs": [],
   "source": [
    "sorted_s1 = sorted(stu_dict.items(),key=lambda a: a[1][2], reverse=True)"
   ]
  },
  {
   "cell_type": "code",
   "execution_count": 37,
   "metadata": {},
   "outputs": [
    {
     "name": "stdout",
     "output_type": "stream",
     "text": [
      "[(20180002, [92, 89, 90.5]), (20180009, [81, 84, 82.5]), (20180001, [84, 73, 78.5]), (20180011, [58, 68, 63.0]), (20180007, [57, 62, 59.5])]\n"
     ]
    }
   ],
   "source": [
    "print(sorted_s1)"
   ]
  },
  {
   "cell_type": "code",
   "execution_count": 14,
   "metadata": {},
   "outputs": [
    {
     "name": "stdout",
     "output_type": "stream",
     "text": [
      "['20180001', '84', '73']\n",
      "['20180002', '92', '89']\n",
      "['20180007', '57', '62']\n",
      "['20180009', '81', '84']\n",
      "['20180011', '58', '68']\n"
     ]
    }
   ],
   "source": [
    "for stu in stu_list:\n",
    "    print(stu)"
   ]
  },
  {
   "cell_type": "code",
   "execution_count": 6,
   "metadata": {},
   "outputs": [
    {
     "data": {
      "text/plain": [
       "dict"
      ]
     },
     "execution_count": 6,
     "metadata": {},
     "output_type": "execute_result"
    }
   ],
   "source": [
    "a = {}\n",
    "type(a)"
   ]
  },
  {
   "cell_type": "code",
   "execution_count": 17,
   "metadata": {},
   "outputs": [
    {
     "name": "stdout",
     "output_type": "stream",
     "text": [
      "['20180001', '84', '73', 78.5, 78.5, 78.5]\n",
      "['20180002', '92', '89', 90.5, 90.5, 90.5]\n",
      "['20180007', '57', '62', 59.5, 59.5, 59.5]\n",
      "['20180009', '81', '84', 82.5, 82.5, 82.5]\n",
      "['20180011', '58', '68', 63.0, 63.0, 63.0]\n"
     ]
    },
    {
     "ename": "TypeError",
     "evalue": "'<' not supported between instances of 'float' and 'str'",
     "output_type": "error",
     "traceback": [
      "\u001b[0;31m---------------------------------------------------------------------------\u001b[0m",
      "\u001b[0;31mTypeError\u001b[0m                                 Traceback (most recent call last)",
      "\u001b[0;32m<ipython-input-17-cf4262c7c18a>\u001b[0m in \u001b[0;36m<module>\u001b[0;34m\u001b[0m\n\u001b[1;32m      3\u001b[0m     \u001b[0mstu\u001b[0m\u001b[0;34m.\u001b[0m\u001b[0mappend\u001b[0m\u001b[0;34m(\u001b[0m\u001b[0maverage\u001b[0m\u001b[0;34m)\u001b[0m\u001b[0;34m\u001b[0m\u001b[0;34m\u001b[0m\u001b[0m\n\u001b[1;32m      4\u001b[0m     \u001b[0mprint\u001b[0m\u001b[0;34m(\u001b[0m\u001b[0mstu\u001b[0m\u001b[0;34m)\u001b[0m\u001b[0;34m\u001b[0m\u001b[0;34m\u001b[0m\u001b[0m\n\u001b[0;32m----> 5\u001b[0;31m \u001b[0mstu_list\u001b[0m\u001b[0;34m[\u001b[0m\u001b[0;36m3\u001b[0m\u001b[0;34m]\u001b[0m\u001b[0;34m.\u001b[0m\u001b[0msort\u001b[0m\u001b[0;34m(\u001b[0m\u001b[0mreverse\u001b[0m\u001b[0;34m=\u001b[0m\u001b[0;32mFalse\u001b[0m\u001b[0;34m)\u001b[0m\u001b[0;34m\u001b[0m\u001b[0;34m\u001b[0m\u001b[0m\n\u001b[0m",
      "\u001b[0;31mTypeError\u001b[0m: '<' not supported between instances of 'float' and 'str'"
     ]
    }
   ],
   "source": [
    "for stu in stu_list:\n",
    "    average=(int(stu[1])+int(stu[2]))/2\n",
    "    stu.append(average)\n",
    "    print(stu)\n",
    "stu_list[3].sort(reverse=False)"
   ]
  },
  {
   "cell_type": "markdown",
   "metadata": {},
   "source": [
    "## show 함수 (전체 학생 정보 출력)"
   ]
  },
  {
   "cell_type": "code",
   "execution_count": null,
   "metadata": {},
   "outputs": [],
   "source": []
  }
 ],
 "metadata": {
  "kernelspec": {
   "display_name": "Python 3",
   "language": "python",
   "name": "python3"
  },
  "language_info": {
   "codemirror_mode": {
    "name": "ipython",
    "version": 3
   },
   "file_extension": ".py",
   "mimetype": "text/x-python",
   "name": "python",
   "nbconvert_exporter": "python",
   "pygments_lexer": "ipython3",
   "version": "3.7.3"
  }
 },
 "nbformat": 4,
 "nbformat_minor": 2
}

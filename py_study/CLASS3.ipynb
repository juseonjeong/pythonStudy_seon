{
 "cells": [
  {
   "cell_type": "markdown",
   "metadata": {},
   "source": [
    "#### 8/14 수\n",
    "\n",
    "### 함수와 모듈"
   ]
  },
  {
   "cell_type": "code",
   "execution_count": 25,
   "metadata": {},
   "outputs": [],
   "source": [
    "#연습문제4\n",
    "## 초를 넘겨주면 시간, 분, 초를 리턴해주는 함수를 작성하시오.\n",
    "\n",
    "def hour_min_sec(second):\n",
    "    sec = second%60\n",
    "    if second//60 >=60:\n",
    "        minn = (second//60)%60\n",
    "        hour = (second//60)//60\n",
    "    else:\n",
    "        minn = (second//60)\n",
    "        hour = 0\n",
    "    return hour,minn,sec #순서 중요!!"
   ]
  },
  {
   "cell_type": "code",
   "execution_count": 28,
   "metadata": {},
   "outputs": [
    {
     "data": {
      "text/plain": [
       "(16, 4, 54)"
      ]
     },
     "execution_count": 28,
     "metadata": {},
     "output_type": "execute_result"
    }
   ],
   "source": [
    "hour_min_sec(57894)"
   ]
  },
  {
   "cell_type": "code",
   "execution_count": 29,
   "metadata": {},
   "outputs": [],
   "source": [
    "hour,minn,sec = hour_min_sec(57894) #변수 선언 !!"
   ]
  },
  {
   "cell_type": "code",
   "execution_count": 30,
   "metadata": {},
   "outputs": [
    {
     "name": "stdout",
     "output_type": "stream",
     "text": [
      "16시간 4분 54초\n"
     ]
    }
   ],
   "source": [
    "print('%d시간 %d분 %d초' %(hour,minn,sec))"
   ]
  },
  {
   "cell_type": "code",
   "execution_count": 42,
   "metadata": {},
   "outputs": [],
   "source": [
    "#연습문제5\n",
    "##숫자로 구성된 리스트를 입력받아 최대값, 최소값을 리턴하고 두 수를 리스트에서 제거하는 함수를 작성하시오.\n",
    "\n",
    "def get_min_max(l):\n",
    "    min_val = min(l)\n",
    "    max_val = max(l)\n",
    "    l.remove(min_val)\n",
    "    l.remove(max_val)\n",
    "    return min_val,max_val"
   ]
  },
  {
   "cell_type": "code",
   "execution_count": 43,
   "metadata": {},
   "outputs": [],
   "source": [
    "l=[3,5,9,1,2]\n",
    "min_val, max_val = get_min_max(l)"
   ]
  },
  {
   "cell_type": "code",
   "execution_count": 44,
   "metadata": {},
   "outputs": [
    {
     "name": "stdout",
     "output_type": "stream",
     "text": [
      "1\n"
     ]
    }
   ],
   "source": [
    "print(min_val)"
   ]
  },
  {
   "cell_type": "code",
   "execution_count": 45,
   "metadata": {},
   "outputs": [
    {
     "name": "stdout",
     "output_type": "stream",
     "text": [
      "9\n"
     ]
    }
   ],
   "source": [
    "print(max_val)"
   ]
  },
  {
   "cell_type": "code",
   "execution_count": 46,
   "metadata": {},
   "outputs": [
    {
     "name": "stdout",
     "output_type": "stream",
     "text": [
      "[3, 5, 2]\n"
     ]
    }
   ],
   "source": [
    "print(l)"
   ]
  },
  {
   "cell_type": "markdown",
   "metadata": {},
   "source": [
    "## ★ 어 렵 ㄷ r"
   ]
  },
  {
   "cell_type": "code",
   "execution_count": 105,
   "metadata": {},
   "outputs": [],
   "source": [
    "#연습문제6\n",
    "##내적을 계산하는 함수 작성\n",
    "\n",
    "def dot1(v1,v2):\n",
    "    res = 0\n",
    "    for k in v1:\n",
    "        try:\n",
    "            res += v1[k]*v2[k]\n",
    "        except KeyError:\n",
    "            pass\n",
    "    return res"
   ]
  },
  {
   "cell_type": "code",
   "execution_count": 106,
   "metadata": {},
   "outputs": [],
   "source": [
    "def dot2(v1,v2):\n",
    "    return sum([v1[k]*v2[k] for k in v1 if k in v2])"
   ]
  },
  {
   "cell_type": "code",
   "execution_count": 120,
   "metadata": {},
   "outputs": [],
   "source": [
    "def dot3(v1,v2):\n",
    "    res = 0\n",
    "    for k in v1:\n",
    "        if k in v2:\n",
    "            res += v1[k]*v2[k]\n",
    "    return res"
   ]
  },
  {
   "cell_type": "code",
   "execution_count": 121,
   "metadata": {},
   "outputs": [
    {
     "name": "stdout",
     "output_type": "stream",
     "text": [
      "15\n"
     ]
    }
   ],
   "source": [
    "#v1={'a':5, 'b':4}\n",
    "#v2={'a':-1, 'b':2}\n",
    "\n",
    "v1={'a':5}\n",
    "v2={'a':3, 'b':2}\n",
    "\n",
    "res =dot3(v1,v2)\n",
    "print(res)"
   ]
  },
  {
   "cell_type": "markdown",
   "metadata": {},
   "source": [
    "### 난수생성"
   ]
  },
  {
   "cell_type": "code",
   "execution_count": 137,
   "metadata": {},
   "outputs": [
    {
     "name": "stdout",
     "output_type": "stream",
     "text": [
      "**로또 추첨을 시작합니다.**\n",
      "추첨된 로또 번호 ==> [28, 9, 33, 24, 11, 22]\n"
     ]
    }
   ],
   "source": [
    "#연습문제7\n",
    "##로또 추첨 프로그램\n",
    "\n",
    "import random\n",
    "\n",
    "print(\"**로또 추첨을 시작합니다.**\")\n",
    "\n",
    "nums = random.sample([i for i in range(1,46)], 6)\n",
    "print(\"추첨된 로또 번호 ==>\", nums)"
   ]
  },
  {
   "cell_type": "code",
   "execution_count": 126,
   "metadata": {},
   "outputs": [
    {
     "data": {
      "text/plain": [
       "[30, 27, 11, 32, 18, 16]"
      ]
     },
     "execution_count": 126,
     "metadata": {},
     "output_type": "execute_result"
    }
   ],
   "source": [
    "print(\"**로또 추첨을 시작합니다.**\")\n",
    "\n",
    "print(\"추첨된 로또 번호 ==>\", )\n"
   ]
  },
  {
   "cell_type": "code",
   "execution_count": 186,
   "metadata": {},
   "outputs": [],
   "source": [
    "#연습문제8\n",
    "##\n",
    "\n",
    "def letter_dict(strr):\n",
    "    letter={}\n",
    "    stra = list(strr)\n",
    "    str_set = set(stra)\n",
    "    for i in str_set:\n",
    "        letter[i] = stra.count(i)\n",
    "    return letter"
   ]
  },
  {
   "cell_type": "code",
   "execution_count": 187,
   "metadata": {},
   "outputs": [
    {
     "name": "stdout",
     "output_type": "stream",
     "text": [
      "{'l': 1, 'p': 2, ' ': 1, 'a': 1, 'r': 1, 'e': 2, 'd': 1}\n"
     ]
    }
   ],
   "source": [
    "a = letter_dict('red apple')\n",
    "print(a)"
   ]
  },
  {
   "cell_type": "code",
   "execution_count": 188,
   "metadata": {},
   "outputs": [
    {
     "data": {
      "text/plain": [
       "2"
      ]
     },
     "execution_count": 188,
     "metadata": {},
     "output_type": "execute_result"
    }
   ],
   "source": [
    "max(a.values())"
   ]
  },
  {
   "cell_type": "code",
   "execution_count": 213,
   "metadata": {},
   "outputs": [],
   "source": [
    "def max_letter(strr):\n",
    "    for kk,vv in strr.items():\n",
    "        if vv == max(strr.values()):\n",
    "            return(kk)"
   ]
  },
  {
   "cell_type": "code",
   "execution_count": 214,
   "metadata": {},
   "outputs": [
    {
     "data": {
      "text/plain": [
       "'p'"
      ]
     },
     "execution_count": 214,
     "metadata": {},
     "output_type": "execute_result"
    }
   ],
   "source": [
    "max_letter(a)"
   ]
  },
  {
   "cell_type": "code",
   "execution_count": 224,
   "metadata": {},
   "outputs": [],
   "source": [
    "## 조교쌤 코드 ##\n",
    "\n",
    "def max_letter2(d):\n",
    "    return sorted(d.items(), key=lambda x:x[1], reverse=True)[0]"
   ]
  },
  {
   "cell_type": "code",
   "execution_count": 225,
   "metadata": {},
   "outputs": [
    {
     "data": {
      "text/plain": [
       "('p', 2)"
      ]
     },
     "execution_count": 225,
     "metadata": {},
     "output_type": "execute_result"
    }
   ],
   "source": [
    "max_letter2(a)"
   ]
  },
  {
   "cell_type": "code",
   "execution_count": 228,
   "metadata": {},
   "outputs": [],
   "source": [
    "## 조교쌤 코드 ##\n",
    "\n",
    "def max_letter3(d):\n",
    "    k,v = list((zip(*d.items()))) #zip : 순서맞는애들끼리 묶는 형태\n",
    "    return k[v.index(max(v))]"
   ]
  },
  {
   "cell_type": "code",
   "execution_count": 227,
   "metadata": {},
   "outputs": [
    {
     "data": {
      "text/plain": [
       "'p'"
      ]
     },
     "execution_count": 227,
     "metadata": {},
     "output_type": "execute_result"
    }
   ],
   "source": [
    "max_letter3(a)"
   ]
  },
  {
   "cell_type": "code",
   "execution_count": 207,
   "metadata": {},
   "outputs": [],
   "source": [
    "#연습문제9\n",
    "## 사랑하는 슬기언니 코드 ##\n",
    "\n",
    "def comb_dict(dict1, dict2):\n",
    "    uni = set(dict1).union(set(dict2))\n",
    "    c={}\n",
    "    for l in uni:\n",
    "        if l in set(dict1).intersection(set(dict2)):\n",
    "            c[l]=dict1[l]+dict2[l]\n",
    "        elif l not in set(dict2):\n",
    "            c[l] = dict1[l]\n",
    "        else:\n",
    "            c[l] = dict2[l]\n",
    "    return c"
   ]
  },
  {
   "cell_type": "code",
   "execution_count": 208,
   "metadata": {},
   "outputs": [],
   "source": [
    "a = letter_dict('red apple')\n",
    "b = letter_dict('yellow banana')"
   ]
  },
  {
   "cell_type": "code",
   "execution_count": 215,
   "metadata": {},
   "outputs": [
    {
     "name": "stdout",
     "output_type": "stream",
     "text": [
      "{'y': 1, 'b': 1, 'a': 4, 'r': 1, 'e': 3, 'd': 1, 'l': 3, 'n': 2, 'p': 2, 'w': 1, ' ': 2, 'o': 1}\n"
     ]
    }
   ],
   "source": [
    "c = comb_dict(a,b)\n",
    "print(c)"
   ]
  },
  {
   "cell_type": "code",
   "execution_count": 216,
   "metadata": {},
   "outputs": [
    {
     "data": {
      "text/plain": [
       "'a'"
      ]
     },
     "execution_count": 216,
     "metadata": {},
     "output_type": "execute_result"
    }
   ],
   "source": [
    "max_letter(c)"
   ]
  },
  {
   "cell_type": "markdown",
   "metadata": {},
   "source": [
    "### OOP"
   ]
  },
  {
   "cell_type": "code",
   "execution_count": 229,
   "metadata": {},
   "outputs": [],
   "source": [
    "class Account:\n",
    "    number = '0000-000-000000'\n",
    "    balance = 0\n",
    "    rate = 1.0\n",
    "    \n",
    "    def deposit(self, money):  #입금\n",
    "        self.balance += money\n",
    "    def withdraw(self, money):  #출금\n",
    "        self.balance -= money\n",
    "    def obtain_interest(self):  #이자획득\n",
    "        self.balance += self.balance*(self.rate/100)"
   ]
  },
  {
   "cell_type": "code",
   "execution_count": 230,
   "metadata": {},
   "outputs": [
    {
     "name": "stdout",
     "output_type": "stream",
     "text": [
      "500\n",
      "1000\n",
      "0\n"
     ]
    }
   ],
   "source": [
    "#인스턴스 : 클래스로부터 여러 개의 객체 생성 가능\n",
    "\n",
    "acc1 = Account()\n",
    "acc2 = Account()\n",
    "acc3 = Account()\n",
    "\n",
    "acc1.deposit(500)\n",
    "acc2.deposit(1000)\n",
    "\n",
    "print(acc1.balance)\n",
    "print(acc2.balance)\n",
    "print(acc3.balance)"
   ]
  },
  {
   "cell_type": "code",
   "execution_count": 231,
   "metadata": {},
   "outputs": [],
   "source": [
    "acc1.deposit(500)\n",
    "acc2.obtain_interest()"
   ]
  },
  {
   "cell_type": "code",
   "execution_count": 233,
   "metadata": {},
   "outputs": [
    {
     "name": "stdout",
     "output_type": "stream",
     "text": [
      "1000\n",
      "1010.0\n",
      "0\n"
     ]
    }
   ],
   "source": [
    "print(acc1.balance)\n",
    "print(acc2.balance)\n",
    "print(acc3.balance)"
   ]
  },
  {
   "cell_type": "code",
   "execution_count": 235,
   "metadata": {},
   "outputs": [],
   "source": [
    "def __init__(self, num='000-000-00000', amnt=0, rate=1.0):\n",
    "    self.number = num\n",
    "    self.balance = amnt\n",
    "    self.rate = rate\n",
    "def deposit(self, money):  #입금\n",
    "        self.balance += money\n",
    "def withdraw(self, money):  #출금\n",
    "    self.balance -= money\n",
    "def obtain_interest(self):  #이자획득\n",
    "    self.balance += self.balance*(self.rate/100)"
   ]
  },
  {
   "cell_type": "code",
   "execution_count": 252,
   "metadata": {},
   "outputs": [],
   "source": [
    "#개설된 계죄의 총 개수를 알고 싶다면\n",
    "class Account:\n",
    "    number = '000-000-000000'\n",
    "    balance = 0\n",
    "    rate = 1.0\n",
    "    num_acc = 0\n",
    "    \n",
    "    def __init__(self, num='000-000-00000', amnt=0, rate=1.0):\n",
    "        self.number = num\n",
    "        self.balance = amnt\n",
    "        self.rate = rate\n",
    "        Account.num_acc +=1\n",
    "    def deposit(self, money):  #입금\n",
    "        self.balance += money\n",
    "    def withdraw(self, money):  #출금\n",
    "        self.balance -= money\n",
    "    def obtain_interest(self):  #이자획득\n",
    "        self.balance += self.balance*(self.rate/100)"
   ]
  },
  {
   "cell_type": "code",
   "execution_count": 253,
   "metadata": {},
   "outputs": [
    {
     "ename": "AttributeError",
     "evalue": "'Account' object has no attribute 'num_acc'",
     "output_type": "error",
     "traceback": [
      "\u001b[0;31m---------------------------------------------------------------------------\u001b[0m",
      "\u001b[0;31mAttributeError\u001b[0m                            Traceback (most recent call last)",
      "\u001b[0;32m<ipython-input-253-fd8f1a57adca>\u001b[0m in \u001b[0;36m<module>\u001b[0;34m\u001b[0m\n\u001b[0;32m----> 1\u001b[0;31m \u001b[0mprint\u001b[0m\u001b[0;34m(\u001b[0m\u001b[0macc1\u001b[0m\u001b[0;34m.\u001b[0m\u001b[0mnum_acc\u001b[0m\u001b[0;34m)\u001b[0m\u001b[0;34m\u001b[0m\u001b[0;34m\u001b[0m\u001b[0m\n\u001b[0m",
      "\u001b[0;31mAttributeError\u001b[0m: 'Account' object has no attribute 'num_acc'"
     ]
    }
   ],
   "source": [
    "print(acc1.num_acc)"
   ]
  },
  {
   "cell_type": "code",
   "execution_count": null,
   "metadata": {},
   "outputs": [],
   "source": []
  }
 ],
 "metadata": {
  "kernelspec": {
   "display_name": "Python 3",
   "language": "python",
   "name": "python3"
  },
  "language_info": {
   "codemirror_mode": {
    "name": "ipython",
    "version": 3
   },
   "file_extension": ".py",
   "mimetype": "text/x-python",
   "name": "python",
   "nbconvert_exporter": "python",
   "pygments_lexer": "ipython3",
   "version": "3.7.3"
  }
 },
 "nbformat": 4,
 "nbformat_minor": 2
}

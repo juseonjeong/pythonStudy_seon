{
 "cells": [
  {
   "cell_type": "code",
   "execution_count": 1,
   "metadata": {},
   "outputs": [],
   "source": [
    "import pandas as pd\n",
    "\n",
    "import matplotlib.pyplot as plt\n",
    "import matplotlib\n",
    "\n",
    "from sklearn.tree import export_graphviz\n",
    "\n",
    "import graphviz\n",
    "\n",
    "from sklearn.model_selection import train_test_split\n",
    "\n",
    "from sklearn.tree import DecisionTreeRegressor\n",
    "\n",
    "from sklearn.model_selection import GridSearchCV"
   ]
  },
  {
   "cell_type": "markdown",
   "metadata": {},
   "source": [
    "### [체질검사] \n",
    "체질 비만도를 예측하기 위한 의사결정나무 분석을 실시하고 결과를 해석하시오."
   ]
  },
  {
   "cell_type": "markdown",
   "metadata": {},
   "source": [
    "#### 1.데이터 구성하기"
   ]
  },
  {
   "cell_type": "code",
   "execution_count": 2,
   "metadata": {},
   "outputs": [],
   "source": [
    "df_raw = pd.read_csv(\"/home/pirl/Downloads/data2_py/체질검사.csv\")"
   ]
  },
  {
   "cell_type": "code",
   "execution_count": 4,
   "metadata": {},
   "outputs": [
    {
     "name": "stdout",
     "output_type": "stream",
     "text": [
      "train data X size : (176, 13)\n",
      "train data Y size : (176,)\n",
      "test data X size : (76, 13)\n",
      "test data Y size : (76,)\n"
     ]
    }
   ],
   "source": [
    "#목표변수, 설명변수 데이터 지정\n",
    "df_raw_y = df_raw['FAT']\n",
    "df_raw_x = df_raw.drop('FAT',axis=1,inplace=False)\n",
    "\n",
    "#데이터 분할 (train:test = 7:3)\n",
    "df_train_x,df_test_x,df_train_y,df_test_y = train_test_split(df_raw_x,df_raw_y,\n",
    "                                                            test_size=0.3, random_state=1234)\n",
    "\n",
    "print(\"train data X size : {}\".format(df_train_x.shape))\n",
    "print(\"train data Y size : {}\".format(df_train_y.shape))\n",
    "print(\"test data X size : {}\".format(df_test_x.shape))\n",
    "print(\"test data Y size : {}\".format(df_test_y.shape))"
   ]
  },
  {
   "cell_type": "code",
   "execution_count": null,
   "metadata": {},
   "outputs": [],
   "source": []
  }
 ],
 "metadata": {
  "kernelspec": {
   "display_name": "Python 3",
   "language": "python",
   "name": "python3"
  },
  "language_info": {
   "codemirror_mode": {
    "name": "ipython",
    "version": 3
   },
   "file_extension": ".py",
   "mimetype": "text/x-python",
   "name": "python",
   "nbconvert_exporter": "python",
   "pygments_lexer": "ipython3",
   "version": "3.7.3"
  }
 },
 "nbformat": 4,
 "nbformat_minor": 2
}

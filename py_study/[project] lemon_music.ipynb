{
 "cells": [
  {
   "cell_type": "code",
   "execution_count": 1,
   "metadata": {},
   "outputs": [],
   "source": [
    "import serial\n",
    "import time\n",
    "import signal\n",
    "import threading\n",
    "import winsound"
   ]
  },
  {
   "cell_type": "code",
   "execution_count": 5,
   "metadata": {},
   "outputs": [],
   "source": [
    "line = []\n",
    "port = 'COM3'\n",
    "baud = 115200\n",
    "piano = {'do': 261, 're':293, 'mi':329, 'pa':349, 'sol':391, 'ra':440, 'si':493, 'doo':530}"
   ]
  },
  {
   "cell_type": "code",
   "execution_count": 13,
   "metadata": {},
   "outputs": [],
   "source": [
    "mel1 = ['do']; dur1 = [4]; music1 = zip(mel1, dur1)\n",
    "mel2 = ['re']; dur2 = [3]; music2 = zip(mel2, dur2)\n",
    "mel3 = ['mi']; dur3 = [3]; music3 = zip(mel3, dur3)\n",
    "mel4 = ['pa']; dur4 = [3]; music4 = zip(mel4, dur4)\n",
    "mel5 = ['sol']; dur5 = [3]; music5 = zip(mel5, dur5)\n",
    "mel6 = ['ra']; dur6 = [3]; music6 = zip(mel6, dur6)\n",
    "mel7 = ['si']; dur7 = [3]; music7 = zip(mel7, dur7)\n",
    "mel8 = ['doo']; dur8 = [3]; music8 = zip(mel8, dur8)"
   ]
  },
  {
   "cell_type": "code",
   "execution_count": 16,
   "metadata": {},
   "outputs": [],
   "source": [
    "exitThread = False\n",
    "\n",
    "def handler(signum, frame):\n",
    "     exitThread = True\n",
    "\n",
    "def parsing_data(data):\n",
    "    global tmp\n",
    "    global duration\n",
    "    tmp = data\n",
    "    print(tmp)\n",
    "    \n",
    "def readThread(ser):\n",
    "    global line\n",
    "    global exitThread\n",
    "    \n",
    "    while not exitThread:\n",
    "        for c in ser.read():\n",
    "            line.append(chr(c))\n",
    "            if c == 10:\n",
    "                parsing_data(line)\n",
    "                del line[:]"
   ]
  },
  {
   "cell_type": "code",
   "execution_count": null,
   "metadata": {
    "scrolled": true
   },
   "outputs": [],
   "source": [
    "\n",
    "#     while tmp==['2', '\\r', '\\n'] :\n",
    "#         windsound.Beep(piano['do'], 1000//duration)\n",
    "    \n",
    "#     while tmp==['1', '\\r', '\\n'] :\n",
    "#          winsound.Beep(piano['re'], 1000//duration)\n",
    "            \n",
    "#     while tmp==['1', '2', '8', '\\r', '\\n'] :\n",
    "#         winsound.Beep(piano['mi'], 1000//duration)\n",
    "    \n",
    "#     while tmp==['4', '\\r', '\\n'] :\n",
    "#         winsound.Beep(piano['pa'], 1000//duration)\n",
    "    \n",
    "    if (tmp==['2', '\\r', '\\n']):\n",
    "        for melody, duration in music1:\n",
    "            winsound.Beep(piano[melody], 1000//duration)\n",
    "    elif (tmp==['1', '\\r', '\\n']):\n",
    "        for melody, duration in music2:\n",
    "            winsound.Beep(piano[melody], 1000//duration)\n",
    "    elif (tmp==['1', '2', '8', '\\r', '\\n']):\n",
    "        for melody, duration in music3:\n",
    "            winsound.Beep(piano[melody], 1000//duration)\n",
    "    elif (tmp==['4', '\\r', '\\n']):\n",
    "        for melody, duration in music4:\n",
    "            winsound.Beep(piano[melody], 1000//duration)\n",
    "    elif (tmp==['8', '\\r', '\\n']):\n",
    "        for melody, duration in music5:\n",
    "            winsound.Beep(piano[melody], 1000//duration)\n",
    "    elif (tmp==['1','6', '\\r', '\\n']):\n",
    "        for melody, duration in music6:\n",
    "            winsound.Beep(piano[melody], 1000//duration)\n",
    "    elif (tmp==['3','2', '\\r', '\\n']):\n",
    "        for melody, duration in music7:\n",
    "            winsound.Beep(piano[melody], 1000//duration)\n",
    "    elif (tmp==['6','4', '\\r', '\\n']):\n",
    "        for melody, duration in music8:\n",
    "            winsound.Beep(piano[melody], 1000//duration)\n",
    "\n",
    "\n",
    "if __name__ == \"__main__\":\n",
    "    signal.signal(signal.SIGINT, handler)\n",
    "    ser = serial.Serial(port, baud, timeout=0)\n",
    "    thread = threading.Thread(target=readThread, args=(ser,))\n",
    "    thread.start()"
   ]
  },
  {
   "cell_type": "markdown",
   "metadata": {},
   "source": [
    "# ----------------------------------------------------------------------"
   ]
  },
  {
   "cell_type": "code",
   "execution_count": null,
   "metadata": {},
   "outputs": [],
   "source": [
    "while True:\n",
    "    keyb = input('')\n",
    "    if keyb == '0':\n",
    "        break\n",
    "    elif keyb == '1':\n",
    "        winsound.Beep(piano['do'], 1000//duration)\n",
    "    elif keyb == '2':\n",
    "        winsound.Beep(piano['re'], 1000//duration)\n",
    "    elif keyb == '3':\n",
    "        winsound.Beep(piano['mi'], 1000//duration)\n",
    "    elif keyb == '4':\n",
    "        winsound.Beep(piano['pa'], 1000//duration)\n",
    "    elif keyb == '6':\n",
    "        winsound.Beep(piano['sol'], 1000//duration)\n",
    "    elif keyb == '7':\n",
    "        winsound.Beep(piano['ra'], 1000//duration)\n",
    "    elif keyb == '8':\n",
    "        winsound.Beep(piano['si'], 1000//duration)\n",
    "    elif keyb == '9':\n",
    "        winsound.Beep(piano['doo'], 1000//duration)"
   ]
  }
 ],
 "metadata": {
  "kernelspec": {
   "display_name": "Python 3",
   "language": "python",
   "name": "python3"
  },
  "language_info": {
   "codemirror_mode": {
    "name": "ipython",
    "version": 3
   },
   "file_extension": ".py",
   "mimetype": "text/x-python",
   "name": "python",
   "nbconvert_exporter": "python",
   "pygments_lexer": "ipython3",
   "version": "3.7.3"
  }
 },
 "nbformat": 4,
 "nbformat_minor": 2
}

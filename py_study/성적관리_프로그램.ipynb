{
 "cells": [
  {
   "cell_type": "code",
   "execution_count": 3,
   "metadata": {},
   "outputs": [
    {
     "name": "stdout",
     "output_type": "stream",
     "text": [
      " Student \t\tName \tMidterm    Final   Average   Grade\n",
      "--------------------------------------------------------------------\n",
      "20180002           Lee Jieun      92        89       90.5      A  \n",
      "20180009        Lee Yeonghee      81        84       82.5      B  \n",
      "20180001        Hong Gildong      84        73       78.5      C  \n",
      "20180011          Ha Donghun      58        68       63.0      D  \n",
      "20180007         Kim Cheolsu      57        62       59.5      F  \n",
      "#show\n",
      " Student \t\tName \tMidterm    Final   Average   Grade\n",
      "--------------------------------------------------------------------\n",
      "20180002           Lee Jieun      92        89       90.5      A  \n",
      "20180009        Lee Yeonghee      81        84       82.5      B  \n",
      "20180001        Hong Gildong      84        73       78.5      C  \n",
      "20180011          Ha Donghun      58        68       63.0      D  \n",
      "20180007         Kim Cheolsu      57        62       59.5      F  \n",
      "#changescore\n",
      "Student ID:20180007\n",
      "Mid/Final?mid\n",
      "Input new score:75\n",
      " Student \t\tName \tMidterm    Final   Average   Grade\n",
      "--------------------------------------------------------------------\n",
      "20180007         Kim Cheolsu      57        62       59.5      F  \n",
      "Score changed.\n",
      "20180007         Kim Cheolsu      75        62       68.5      D  \n",
      "#show\n",
      " Student \t\tName \tMidterm    Final   Average   Grade\n",
      "--------------------------------------------------------------------\n",
      "20180002           Lee Jieun      92        89       90.5      A  \n",
      "20180009        Lee Yeonghee      81        84       82.5      B  \n",
      "20180001        Hong Gildong      84        73       78.5      C  \n",
      "20180007         Kim Cheolsu      75        62       68.5      D  \n",
      "20180011          Ha Donghun      58        68       63.0      D  \n",
      "#quit\n",
      "Save data?[yes/no]no\n",
      "$\n"
     ]
    }
   ],
   "source": [
    "import sys\n",
    "import copy\n",
    "\n",
    "stu_dict = {}\n",
    "sorted_s1 = []\n",
    "\n",
    "#1.show\n",
    "def show(f):\n",
    "    global sorted_s1\n",
    "    global stu_dict\n",
    "    sorted_s1 = sorted(stu_dict.items(),key=lambda a: a[1][3], reverse=True)\n",
    "    print(' Student','\\t\\tName','\\tMidterm','   Final','  Average', '  Grade')\n",
    "    print('--------------------------------------------------------------------')\n",
    "\n",
    "    for k,v in sorted_s1:\n",
    "        print(k,\"{:>19}{:^15}{:^5}{:^14}{:^4}\" .format(*v))\n",
    "    \n",
    "#2.search\n",
    "def search(f):\n",
    "    global sorted_s1\n",
    "    global stu_dict\n",
    "    stu_id = int(input(\"Student ID:\"))\n",
    "    k_student=[]\n",
    "    for k,v in sorted_s1:\n",
    "        k_student.append(k)\n",
    "    if stu_id not in k_student:\n",
    "        print(\"NOT SUCH PERSON\")\n",
    "    else:\n",
    "        print(' Student','\\t\\tName','\\tMidterm','   Final','  Average', '  Grade')\n",
    "        print('--------------------------------------------------------------------')\n",
    "        vv=stu_dict[stu_id]\n",
    "        print(stu_id,\"{:>19}{:^15}{:^5}{:^14}{:^4}\" .format(*vv))\n",
    "        \n",
    "#3.changescore\n",
    "def changescore(f):\n",
    "    global sorted_s1\n",
    "    global stu_dict\n",
    "    stuu_dict = copy.deepcopy(stu_dict)\n",
    "    stu_id = int(input(\"Student ID:\"))\n",
    "    k_student=[]\n",
    "    for k,v in sorted_s1:\n",
    "        k_student.append(k)\n",
    "    if stu_id not in k_student:\n",
    "        print(\"NOT SUCH PERSON\")\n",
    "    else:\n",
    "        testtype = input(\"Mid/Final?\")\n",
    "        if testtype == 'mid':\n",
    "            new_score = int(input(\"Input new score:\"))\n",
    "            if new_score <=100 and new_score >=0:\n",
    "                print(' Student','\\t\\tName','\\tMidterm','   Final','  Average', '  Grade')\n",
    "                print('--------------------------------------------------------------------')\n",
    "                vv=stuu_dict[stu_id]\n",
    "                stu_dict[stu_id][1] = new_score\n",
    "                stu_dict[stu_id][3] = (stu_dict[stu_id][1]+stu_dict[stu_id][2])/2\n",
    "                if stu_dict[stu_id][3] >= 90:\n",
    "                    stu_dict[stu_id][4] = 'A'\n",
    "                elif stu_dict[stu_id][3] >= 80:\n",
    "                    stu_dict[stu_id][4] = 'B'\n",
    "                elif stu_dict[stu_id][3] >= 70:\n",
    "                    stu_dict[stu_id][4] = 'C'\n",
    "                elif stu_dict[stu_id][3] >= 60:\n",
    "                    stu_dict[stu_id][4] = 'D'\n",
    "                else:\n",
    "                    stu_dict[stu_id][4] = 'F'\n",
    "                      \n",
    "                vvm=stu_dict[stu_id]\n",
    "                print(stu_id,\"{:>19}{:^15}{:^5}{:^14}{:^4}\" .format(*vv))\n",
    "                print(\"Score changed.\")\n",
    "                print(stu_id,\"{:>19}{:^15}{:^5}{:^14}{:^4}\" .format(*vvm))\n",
    "        elif testtype == 'final':\n",
    "            new_score = int(input(\"Input new score:\"))\n",
    "            if new_score <= 100 and new_score >=0:\n",
    "                print(' Student','\\t\\tName','\\tMidterm','   Final','  Average', '  Grade')\n",
    "                print('--------------------------------------------------------------------')\n",
    "                vv=stuu_dict[stu_id]\n",
    "                stu_dict[stu_id][2] = new_score\n",
    "                stu_dict[stu_id][3] = (stu_dict[stu_id][1]+stu_dict[stu_id][2])/2\n",
    "                if stu_dict[stu_id][3] >= 90:\n",
    "                    stu_dict[stu_id][4] = 'A'\n",
    "                elif stu_dict[stu_id][3] >= 80:\n",
    "                    stu_dict[stu_id][4] = 'B'\n",
    "                elif stu_dict[stu_id][3] >= 70:\n",
    "                    stu_dict[stu_id][4] = 'C'\n",
    "                elif stu_dict[stu_id][3] >= 60:\n",
    "                    stu_dict[stu_id][4] = 'D'\n",
    "                else:\n",
    "                    stu_dict[stu_id][4] = 'F'\n",
    "                \n",
    "                vvm=stu_dict[stu_id]\n",
    "                print(stu_id,\"{:>19}{:^15}{:^5}{:^14}{:^4}\" .format(*vv))\n",
    "                print(\"Score changed.\")\n",
    "                print(stu_id,\"{:>19}{:^15}{:^5}{:^14}{:^4}\" .format(*(stu_dict[stu_id])))\n",
    "                \n",
    "#4.add\n",
    "def add(f):\n",
    "    global sorted_s1\n",
    "    global stu_dict\n",
    "    stu_id = int(input(\"Student ID:\"))\n",
    "    k_student=[]\n",
    "    for k,v in sorted_s1:\n",
    "        k_student.append(k)\n",
    "    if stu_id in k_student:\n",
    "        print(\"ALREADY EXISTS.\")\n",
    "    else:\n",
    "        name = input(\"Name:\")\n",
    "        midterm = int(input(\"Midterm Score:\"))\n",
    "        final = int(input(\"Final Score:\"))        \n",
    "        stu_dict[stu_id]=[name,midterm,final,(midterm+final)/2]\n",
    "        if stu_dict[stu_id][3] >= 90:\n",
    "            stu_dict[stu_id].append('A')\n",
    "        elif stu_dict[stu_id][3] >= 80:\n",
    "            stu_dict[stu_id].append('B')\n",
    "        elif stu_dict[stu_id][3] >= 70:\n",
    "            stu_dict[stu_id].append('C')\n",
    "        elif stu_dict[stu_id][3] >= 60:\n",
    "            stu_dict[stu_id].append('D')\n",
    "        else:\n",
    "            stu_dict[stu_id].append('F')\n",
    "        print(\"Student added.\")\n",
    "        \n",
    "#5.searchgrade\n",
    "def searchgrade(f):\n",
    "    global sorted_s1\n",
    "    global stu_dict\n",
    "    grade = input(\"Grade to search:\")\n",
    "    if grade in ['A','B','C','D','F']:\n",
    "        g_student=[]\n",
    "        for k,v in sorted_s1:\n",
    "            g_student.append(v[4])\n",
    "        if grade not in g_student:\n",
    "            print(\"NO RESULTS.\")\n",
    "        else:\n",
    "            print(' Student','\\t\\tName','\\tMidterm','   Final','  Average', '  Grade')\n",
    "            print('--------------------------------------------------------------------')\n",
    "            for k,v in sorted_s1:\n",
    "                if grade == v[4]:\n",
    "                    print(k,\"{:>19}{:^15}{:^5}{:^14}{:^4}\" .format(*v))\n",
    "                    \n",
    "#6.remove\n",
    "def remove(f):\n",
    "    global sorted_s1\n",
    "    global stu_dict\n",
    "    k_student=[]\n",
    "    for k,v in sorted_s1:\n",
    "        k_student.append(k)\n",
    "       \n",
    "    if stu_dict =={}:\n",
    "        print('List is empty.')\n",
    "    else:\n",
    "        stu_id = int(input(\"Student ID:\"))\n",
    "        if stu_id not in k_student:\n",
    "            print(\"NO SUCH PERSON.\")\n",
    "        else:\n",
    "            del stu_dict[stu_id]\n",
    "            print(\"Student removed.\")\n",
    "        \n",
    "#7.quit\n",
    "def quit():\n",
    "    global sorted_s1\n",
    "    save = input(\"Save data?[yes/no]\")\n",
    "    if save == 'yes':\n",
    "        file_name = input(\"File name:\")\n",
    "        f2=open(file_name,'w')\n",
    "        for i in sorted_s1:\n",
    "            f2.write('{0}\\t{1}\\t{2}\\t{3}\\t{4}\\t{5}\\n'.format(i[0],i[1][0],i[1][1],i[1][2],i[1][3],i[1][4]))\n",
    "        f2.close()\n",
    "        \n",
    "#main\n",
    "def main():\n",
    "    global sorted_s1\n",
    "    global stu_dict\n",
    "    print(' Student','\\t\\tName','\\tMidterm','   Final','  Average', '  Grade')\n",
    "    print('--------------------------------------------------------------------')\n",
    "    if len(sys.argv) == 1 :\n",
    "        f =open('students.txt', 'r')\n",
    "    else:\n",
    "        f = open(sys.argv[1], 'r')\n",
    "#    f=open('students.txt','r')\n",
    "    stu_dict = {}\n",
    "    for line in f.readlines():\n",
    "        line=line.strip()\n",
    "        line1 = line.split('\\t')\n",
    "        average=(int(line1[2])+int(line1[3]))/2\n",
    "        if average >= 90:\n",
    "            grade = 'A'\n",
    "        elif average >= 80:\n",
    "            grade = 'B'\n",
    "        elif average >= 70:\n",
    "            grade = 'C'\n",
    "        elif average >= 60:\n",
    "            grade = 'D'\n",
    "        else:\n",
    "            grade = 'F'\n",
    "        line1.append(average)\n",
    "        line1.append(grade)\n",
    "        stu_dict[int(line1[0])] = [line1[1],int(line1[2]), int(line1[3]), line1[4], line1[5]]\n",
    "        sorted_s1 = sorted(stu_dict.items(),key=lambda a: a[1][3], reverse=True)\n",
    "\n",
    "\n",
    "    for k,v in sorted_s1:\n",
    "        print(k,\"{:>19}{:^15}{:^5}{:^14}{:^4}\" .format(*v))\n",
    "        \n",
    "    while 1:\n",
    "        command = input('#')\n",
    "    \n",
    "        if command.lower() == 'show':\n",
    "            show(f)\n",
    "        elif command.lower() == 'search':\n",
    "            search(f)\n",
    "        elif command.lower() == 'changescore':\n",
    "            changescore(f)\n",
    "        elif command.lower() == 'searchgrade':\n",
    "            searchgrade(f)\n",
    "        elif command.lower() == 'add':\n",
    "            add(f)\n",
    "        elif command.lower() == 'remove':\n",
    "            remove(f)\n",
    "        elif command.lower() == 'quit':\n",
    "            quit()\n",
    "            print('$')\n",
    "            break\n",
    "\n",
    "if __name__ == '__main__':\n",
    "    main()"
   ]
  },
  {
   "cell_type": "markdown",
   "metadata": {},
   "source": [
    "# ============================================"
   ]
  },
  {
   "cell_type": "code",
   "execution_count": null,
   "metadata": {},
   "outputs": [],
   "source": []
  },
  {
   "cell_type": "code",
   "execution_count": 1,
   "metadata": {},
   "outputs": [
    {
     "name": "stdout",
     "output_type": "stream",
     "text": [
      "#d\n",
      "#d\n",
      "#d\n",
      "#d\n",
      "#d\n",
      "#d\n",
      "#quit\n"
     ]
    }
   ],
   "source": [
    "while 1:\n",
    "    command = input('#')\n",
    "    if command == 'quit':\n",
    "        break"
   ]
  },
  {
   "cell_type": "code",
   "execution_count": 22,
   "metadata": {},
   "outputs": [],
   "source": [
    "list1 = [1]"
   ]
  },
  {
   "cell_type": "code",
   "execution_count": 23,
   "metadata": {},
   "outputs": [
    {
     "name": "stdout",
     "output_type": "stream",
     "text": [
      "have\n"
     ]
    }
   ],
   "source": [
    "if list1 ==[]:\n",
    "    print('empty')\n",
    "else:\n",
    "    print('have')"
   ]
  },
  {
   "cell_type": "markdown",
   "metadata": {},
   "source": [
    "### MAIN"
   ]
  },
  {
   "cell_type": "code",
   "execution_count": 1,
   "metadata": {
    "scrolled": false
   },
   "outputs": [
    {
     "name": "stdout",
     "output_type": "stream",
     "text": [
      " Student \t\tName \tMidterm    Final   Average   Grade\n",
      "--------------------------------------------------------------------\n",
      "20180002           Lee Jieun      92        89       90.5      A  \n",
      "20180009        Lee Yeonghee      81        84       82.5      B  \n",
      "20180001        Hong Gildong      84        73       78.5      C  \n",
      "20180011          Ha Donghun      58        68       63.0      D  \n",
      "20180007         Kim Cheolsu      57        62       59.5      F  \n"
     ]
    }
   ],
   "source": [
    "def main():\n",
    "    print(' Student','\\t\\tName','\\tMidterm','   Final','  Average', '  Grade')\n",
    "    print('--------------------------------------------------------------------')\n",
    "    f =open('students.txt', 'r')\n",
    "    stu_dict = {}\n",
    "    for line in f.readlines():\n",
    "        line=line.strip()\n",
    "        line1 = line.split('\\t')\n",
    "        average=(int(line1[2])+int(line1[3]))/2\n",
    "        if average >= 90:\n",
    "            grade = 'A'\n",
    "        elif average >= 80:\n",
    "            grade = 'B'\n",
    "        elif average >= 70:\n",
    "            grade = 'C'\n",
    "        elif average >= 60:\n",
    "            grade = 'D'\n",
    "        else:\n",
    "            grade = 'F'\n",
    "        line1.append(average)\n",
    "        line1.append(grade)\n",
    "        stu_dict[int(line1[0])] = [line1[1],int(line1[2]), int(line1[3]), line1[4], line1[5]]\n",
    "        sorted_s1 = sorted(stu_dict.items(),key=lambda a: a[1][2], reverse=True)\n",
    "\n",
    "    while 1:\n",
    "    command = input('#')\n",
    "    \n",
    "    if command.lower() == 'show':\n",
    "        show()\n",
    "    if command == 'quit':\n",
    "        break\n",
    "        \n",
    "    \n",
    "    for k,v in sorted_s1:\n",
    "        print(k,\"{:>19}{:^15}{:^5}{:^14}{:^4}\" .format(*v))            \n",
    "    f.close()\n",
    "\n",
    "if __name__ == '__main__':\n",
    "    main()"
   ]
  },
  {
   "cell_type": "markdown",
   "metadata": {},
   "source": [
    "### SHOW"
   ]
  },
  {
   "cell_type": "code",
   "execution_count": 2,
   "metadata": {},
   "outputs": [],
   "source": [
    "def show():\n",
    "    print(' Student','\\t\\tName','\\tMidterm','   Final','  Average', '  Grade')\n",
    "    print('--------------------------------------------------------------------')\n",
    "    for line in f.readlines():\n",
    "        line=line.strip()\n",
    "        line1 = line.split('\\t')\n",
    "        average=(int(line1[2])+int(line1[3]))/2\n",
    "        if average >= 90:\n",
    "            grade = 'A'\n",
    "        elif average >= 80:\n",
    "            grade = 'B'\n",
    "        elif average >= 70:\n",
    "            grade = 'C'\n",
    "        elif average >= 60:\n",
    "            grade = 'D'\n",
    "        else:\n",
    "            grade = 'F'\n",
    "        line1.append(average)\n",
    "        line1.append(grade)\n",
    "        stu_dict[int(line1[0])] = [line1[1],int(line1[2]), int(line1[3]), line1[4], line1[5]]\n",
    "        sorted_s1 = sorted(stu_dict.items(),key=lambda a: a[1][2], reverse=True)\n",
    "        \n",
    "    for k,v in sorted_s1:\n",
    "        print(k,\"{:>19}{:^15}{:^5}{:^14}{:^4}\" .format(*v))            \n",
    "    f.close()"
   ]
  },
  {
   "cell_type": "code",
   "execution_count": 3,
   "metadata": {},
   "outputs": [
    {
     "name": "stdout",
     "output_type": "stream",
     "text": [
      "#show\n",
      " Student \t\tName \tMidterm    Final   Average   Grade\n",
      "--------------------------------------------------------------------\n",
      "20180002           Lee Jieun      92        89       90.5      A  \n",
      "20180009        Lee Yeonghee      81        84       82.5      B  \n",
      "20180001        Hong Gildong      84        73       78.5      C  \n",
      "20180011          Ha Donghun      58        68       63.0      D  \n",
      "20180007         Kim Cheolsu      57        62       59.5      F  \n"
     ]
    }
   ],
   "source": [
    "command = input(\"#\")\n",
    "\n",
    "if command.lower() == 'show':\n",
    "    show()"
   ]
  },
  {
   "cell_type": "markdown",
   "metadata": {},
   "source": [
    "### SEARCH"
   ]
  },
  {
   "cell_type": "code",
   "execution_count": 4,
   "metadata": {},
   "outputs": [],
   "source": [
    "def search():\n",
    "    for line in f.readlines():\n",
    "        line=line.strip()\n",
    "        line1 = line.split('\\t')\n",
    "        average=(int(line1[2])+int(line1[3]))/2\n",
    "        if average >= 90:\n",
    "            grade = 'A'\n",
    "        elif average >= 80:\n",
    "            grade = 'B'\n",
    "        elif average >= 70:\n",
    "            grade = 'C'\n",
    "        elif average >= 60:\n",
    "            grade = 'D'\n",
    "        else:\n",
    "            grade = 'F'\n",
    "        line1.append(average)\n",
    "        line1.append(grade)\n",
    "        stu_dict[int(line1[0])] = [line1[1],int(line1[2]), int(line1[3]), line1[4], line1[5]]\n",
    "        sorted_s1 = sorted(stu_dict.items(),key=lambda a: a[1][2], reverse=True)\n",
    "\n",
    "    stu_id = int(input(\"Student ID:\"))\n",
    "    k_student=[]\n",
    "    for k,v in sorted_s1:\n",
    "        k_student.append(k)\n",
    "    if stu_id not in k_student:\n",
    "        print(\"NOT SUCH PERSON\")\n",
    "    else:\n",
    "        print(' Student','\\t\\tName','\\tMidterm','   Final','  Average', '  Grade')\n",
    "        print('--------------------------------------------------------------------')\n",
    "        vv=stu_dict[stu_id]\n",
    "        print(stu_id,\"{:>19}{:^15}{:^5}{:^14}{:^4}\" .format(*vv))"
   ]
  },
  {
   "cell_type": "code",
   "execution_count": 5,
   "metadata": {},
   "outputs": [
    {
     "name": "stdout",
     "output_type": "stream",
     "text": [
      "#search\n",
      "Student ID:20180002\n",
      " Student \t\tName \tMidterm    Final   Average   Grade\n",
      "--------------------------------------------------------------------\n",
      "20180002           Lee Jieun      92        89       90.5      A  \n"
     ]
    }
   ],
   "source": [
    "command = input(\"#\")\n",
    "\n",
    "if command.lower() == 'search':\n",
    "    search()"
   ]
  },
  {
   "cell_type": "markdown",
   "metadata": {},
   "source": [
    "### CHANGESCORE"
   ]
  },
  {
   "cell_type": "code",
   "execution_count": 9,
   "metadata": {},
   "outputs": [],
   "source": [
    "import copy"
   ]
  },
  {
   "cell_type": "code",
   "execution_count": 10,
   "metadata": {},
   "outputs": [],
   "source": [
    "def changescore():\n",
    "    for line in f.readlines():\n",
    "        line=line.strip()\n",
    "        line1 = line.split('\\t')\n",
    "        average=(int(line1[2])+int(line1[3]))/2\n",
    "        if average >= 90:\n",
    "            grade = 'A'\n",
    "        elif average >= 80:\n",
    "            grade = 'B'\n",
    "        elif average >= 70:\n",
    "            grade = 'C'\n",
    "        elif average >= 60:\n",
    "            grade = 'D'\n",
    "        else:\n",
    "            grade = 'F'\n",
    "        line1.append(average)\n",
    "        line1.append(grade)\n",
    "        stu_dict[int(line1[0])] = [line1[1],int(line1[2]), int(line1[3]), line1[4], line1[5]]\n",
    "        sorted_s1 = sorted(stu_dict.items(),key=lambda a: a[1][2], reverse=True)\n",
    "\n",
    "    stuu_dict = copy.deepcopy(stu_dict)\n",
    "    stu_id = int(input(\"Student ID:\"))\n",
    "    k_student=[]\n",
    "    stuu_dict = copy.deepcopy(stu_dict)\n",
    "    for k,v in sorted_s1:\n",
    "        k_student.append(k)\n",
    "    if stu_id not in k_student:\n",
    "        print(\"NOT SUCH PERSON\")\n",
    "    else:\n",
    "        testtype = input(\"Mid/Final?\")\n",
    "        if testtype == 'mid':\n",
    "            new_score = int(input(\"Input new score:\"))\n",
    "            if new_score <=100 and new_score >=0:\n",
    "                print(' Student','\\t\\tName','\\tMidterm','   Final','  Average', '  Grade')\n",
    "                print('--------------------------------------------------------------------')\n",
    "                vv=stuu_dict[stu_id]\n",
    "                stu_dict[stu_id][1] = new_score\n",
    "                stu_dict[stu_id][3] = (stu_dict[stu_id][1]+stu_dict[stu_id][2])/2\n",
    "                if stu_dict[stu_id][3] >= 90:\n",
    "                    stu_dict[stu_id][4] = 'A'\n",
    "                elif average >= 80:\n",
    "                    stu_dict[stu_id][4] = 'B'\n",
    "                elif average >= 70:\n",
    "                    stu_dict[stu_id][4] = 'C'\n",
    "                elif average >= 60:\n",
    "                    stu_dict[stu_id][4] = 'D'\n",
    "                else:\n",
    "                    stu_dict[stu_id][4] = 'F'\n",
    "                      \n",
    "                vvm=stu_dict[stu_id]\n",
    "                print(stu_id,\"{:>19}{:^15}{:^5}{:^14}{:^4}\" .format(*vv))\n",
    "                print(\"Score changed.\")\n",
    "                print(stu_id,\"{:>19}{:^15}{:^5}{:^14}{:^4}\" .format(*vvm))\n",
    "        elif testtype == 'final':\n",
    "            new_score = int(input(\"Input new score:\"))\n",
    "            if new_score <= 100 and new_score >=0:\n",
    "                print(' Student','\\t\\tName','\\tMidterm','   Final','  Average', '  Grade')\n",
    "                print('--------------------------------------------------------------------')\n",
    "                vv=stuu_dict[stu_id]\n",
    "                stu_dict[stu_id][2] = new_score\n",
    "                stu_dict[stu_id][3] = (stu_dict[stu_id][1]+stu_dict[stu_id][2])/2\n",
    "                if stu_dict[stu_id][3] >= 90:\n",
    "                    stu_dict[stu_id][4] = 'A'\n",
    "                elif average >= 80:\n",
    "                    stu_dict[stu_id][4] = 'B'\n",
    "                elif average >= 70:\n",
    "                    stu_dict[stu_id][4] = 'C'\n",
    "                elif average >= 60:\n",
    "                    stu_dict[stu_id][4] = 'D'\n",
    "                else:\n",
    "                    stu_dict[stu_id][4] = 'F'\n",
    "                \n",
    "                vvm=stu_dict[stu_id]\n",
    "                print(stu_id,\"{:>19}{:^15}{:^5}{:^14}{:^4}\" .format(*vv))\n",
    "                print(\"Score changed.\")\n",
    "                print(stu_id,\"{:>19}{:^15}{:^5}{:^14}{:^4}\" .format(*vvm))"
   ]
  },
  {
   "cell_type": "code",
   "execution_count": 12,
   "metadata": {},
   "outputs": [
    {
     "name": "stdout",
     "output_type": "stream",
     "text": [
      "#changescore\n",
      "Student ID:20180007\n",
      "Mid/Final?mid\n",
      "Input new score:75\n",
      " Student \t\tName \tMidterm    Final   Average   Grade\n",
      "--------------------------------------------------------------------\n",
      "20180007         Kim Cheolsu      57        62       59.5      F  \n",
      "Score changed.\n",
      "20180007         Kim Cheolsu      75        62       68.5      D  \n"
     ]
    }
   ],
   "source": [
    "command = input(\"#\")\n",
    "\n",
    "if command.lower() == 'changescore':\n",
    "    changescore()"
   ]
  },
  {
   "cell_type": "markdown",
   "metadata": {},
   "source": [
    "### ADD"
   ]
  },
  {
   "cell_type": "code",
   "execution_count": 13,
   "metadata": {},
   "outputs": [],
   "source": [
    "def add(f,stu_dict):\n",
    "    for line in f.readlines():\n",
    "        line=line.strip()\n",
    "        line1 = line.split('\\t')\n",
    "        average=(int(line1[2])+int(line1[3]))/2\n",
    "        if average >= 90:\n",
    "            grade = 'A'\n",
    "        elif average >= 80:\n",
    "            grade = 'B'\n",
    "        elif average >= 70:\n",
    "            grade = 'C'\n",
    "        elif average >= 60:\n",
    "            grade = 'D'\n",
    "        else:\n",
    "            grade = 'F'\n",
    "        line1.append(average)\n",
    "        line1.append(grade)\n",
    "        stu_dict[int(line1[0])] = [line1[1],int(line1[2]), int(line1[3]), line1[4], line1[5]]\n",
    "        sorted_s1 = sorted(stu_dict.items(),key=lambda a: a[1][2], reverse=True)\n",
    "    stu_id = int(input(\"Student ID:\"))\n",
    "    k_student=[]\n",
    "    for k,v in sorted_s1:\n",
    "        k_student.append(k)\n",
    "    if stu_id in k_student:\n",
    "        print(\"ALREADY EXISTS.\")\n",
    "    else:\n",
    "        name = input(\"Name:\")\n",
    "        midterm = input(\"Midterm Score:\")\n",
    "        final = input(\"Final Score:\")\n",
    "        stu_dict[stu_id]=[name,midterm,final]\n",
    "        print(\"Student added.\")"
   ]
  },
  {
   "cell_type": "markdown",
   "metadata": {},
   "source": [
    "### SEARCHGRADE"
   ]
  },
  {
   "cell_type": "code",
   "execution_count": 14,
   "metadata": {},
   "outputs": [],
   "source": [
    "def searchgrade(f,stu_dict):\n",
    "    for line in f.readlines():\n",
    "        line=line.strip()\n",
    "        line1 = line.split('\\t')\n",
    "        average=(int(line1[2])+int(line1[3]))/2\n",
    "        if average >= 90:\n",
    "            grade = 'A'\n",
    "        elif average >= 80:\n",
    "            grade = 'B'\n",
    "        elif average >= 70:\n",
    "            grade = 'C'\n",
    "        elif average >= 60:\n",
    "            grade = 'D'\n",
    "        else:\n",
    "            grade = 'F'\n",
    "        line1.append(average)\n",
    "        line1.append(grade)\n",
    "        stu_dict[int(line1[0])] = [line1[1],int(line1[2]), int(line1[3]), line1[4], line1[5]]\n",
    "        sorted_s1 = sorted(stu_dict.items(),key=lambda a: a[1][2], reverse=True)\n",
    "    grade = input(\"Grade to search:\")\n",
    "    if grade in ['A','B','C','D','F']:\n",
    "        g_student=[]\n",
    "        for k,v in sorted_s1:\n",
    "            g_student.append(v[4])\n",
    "        if grade not in g_student:\n",
    "            print(\"NO RESULTS.\")\n",
    "        else:\n",
    "            print(' Student','\\t\\tName','\\tMidterm','   Final','  Average', '  Grade')\n",
    "            print('--------------------------------------------------------------------')\n",
    "            for k,v in sorted_s1:\n",
    "                if grade == v[4]:\n",
    "                    print(k,\"{:>19}{:^15}{:^5}{:^14}{:^4}\" .format(*v))"
   ]
  },
  {
   "cell_type": "markdown",
   "metadata": {},
   "source": [
    "### REMOVE"
   ]
  },
  {
   "cell_type": "code",
   "execution_count": 15,
   "metadata": {},
   "outputs": [],
   "source": [
    "def remove(f,stu_dict):\n",
    "    for line in f.readlines():\n",
    "        line=line.strip()\n",
    "        line1 = line.split('\\t')\n",
    "        average=(int(line1[2])+int(line1[3]))/2\n",
    "        if average >= 90:\n",
    "            grade = 'A'\n",
    "        elif average >= 80:\n",
    "            grade = 'B'\n",
    "        elif average >= 70:\n",
    "            grade = 'C'\n",
    "        elif average >= 60:\n",
    "            grade = 'D'\n",
    "        else:\n",
    "            grade = 'F'\n",
    "        line1.append(average)\n",
    "        line1.append(grade)\n",
    "        stu_dict[int(line1[0])] = [line1[1],int(line1[2]), int(line1[3]), line1[4], line1[5]]\n",
    "        sorted_s1 = sorted(stu_dict.items(),key=lambda a: a[1][2], reverse=True)\n",
    "    stu_id = int(input(\"Student ID:\"))\n",
    "    k_student=[]\n",
    "    for k,v in sorted_s1:\n",
    "        k_student.append(k)\n",
    "    if stu_id not in k_student:\n",
    "        print(\"NO SUCH PERSON.\")\n",
    "    else:\n",
    "        del stu_dict[stu_id]\n",
    "        print(\"Student removed.\")"
   ]
  },
  {
   "cell_type": "markdown",
   "metadata": {},
   "source": [
    "### QUIT"
   ]
  },
  {
   "cell_type": "code",
   "execution_count": 16,
   "metadata": {},
   "outputs": [],
   "source": [
    "def quit(stu_dict):\n",
    "    save = input(\"Save data?[yes/no]\")\n",
    "    if save == 'yes':\n",
    "        sorted_s1 = sorted(stu_dict.items(),key=lambda a: a[1][2], reverse=True)\n",
    "        file_name = input(\"File name:\")\n",
    "        f2=open(file_name,'w')\n",
    "        for i in sorted_s1:\n",
    "            f2.write('{0}\\t{1}\\t{2}\\t{3}\\t{4}\\t{5}'.format(i[0],i[1][0],i[1][1],i[1][2],i[1][3],i[1][4]))\n",
    "        f2.close()"
   ]
  },
  {
   "cell_type": "code",
   "execution_count": null,
   "metadata": {},
   "outputs": [],
   "source": []
  },
  {
   "cell_type": "markdown",
   "metadata": {},
   "source": [
    "# FINISH !!"
   ]
  },
  {
   "cell_type": "code",
   "execution_count": 1,
   "metadata": {},
   "outputs": [],
   "source": [
    "a={1:['하나','one'],2:['둘','two']}"
   ]
  },
  {
   "cell_type": "code",
   "execution_count": 2,
   "metadata": {},
   "outputs": [
    {
     "data": {
      "text/plain": [
       "{1: ['하나', 'one'], 2: ['둘', 'two']}"
      ]
     },
     "execution_count": 2,
     "metadata": {},
     "output_type": "execute_result"
    }
   ],
   "source": [
    "a"
   ]
  },
  {
   "cell_type": "code",
   "execution_count": 4,
   "metadata": {},
   "outputs": [],
   "source": [
    "a[3]=['삼','three']"
   ]
  },
  {
   "cell_type": "code",
   "execution_count": 5,
   "metadata": {},
   "outputs": [
    {
     "data": {
      "text/plain": [
       "{1: ['하나', 'one'], 2: ['둘', 'two'], 3: ['삼', 'three']}"
      ]
     },
     "execution_count": 5,
     "metadata": {},
     "output_type": "execute_result"
    }
   ],
   "source": [
    "a"
   ]
  },
  {
   "cell_type": "code",
   "execution_count": null,
   "metadata": {},
   "outputs": [],
   "source": []
  }
 ],
 "metadata": {
  "kernelspec": {
   "display_name": "Python 3",
   "language": "python",
   "name": "python3"
  },
  "language_info": {
   "codemirror_mode": {
    "name": "ipython",
    "version": 3
   },
   "file_extension": ".py",
   "mimetype": "text/x-python",
   "name": "python",
   "nbconvert_exporter": "python",
   "pygments_lexer": "ipython3",
   "version": "3.7.3"
  }
 },
 "nbformat": 4,
 "nbformat_minor": 2
}
